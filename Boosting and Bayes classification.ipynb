{
  "nbformat": 4,
  "nbformat_minor": 0,
  "metadata": {
    "colab": {
      "name": "Copy_of_Lab_4_(1)_(1) (1).ipynb",
      "provenance": [],
      "collapsed_sections": []
    },
    "kernelspec": {
      "display_name": "Python 3",
      "name": "python3"
    },
    "language_info": {
      "name": "python"
    }
  },
  "cells": [
    {
      "cell_type": "markdown",
      "metadata": {
        "id": "pWh_IvaskTKS"
      },
      "source": [
        "Please copy the notebook to your drive and write your code in it."
      ]
    },
    {
      "cell_type": "markdown",
      "metadata": {
        "id": "K_PgySJunoX-"
      },
      "source": [
        "Import necessary libraries"
      ]
    },
    {
      "cell_type": "code",
      "metadata": {
        "id": "tWSAr9XukTbn"
      },
      "source": [
        "import numpy as np \n",
        "import pandas as pd \n",
        "from sklearn.model_selection import train_test_split\n",
        "from sklearn.tree import DecisionTreeClassifier\n",
        "from sklearn.preprocessing import OrdinalEncoder\n",
        "from sklearn.ensemble import AdaBoostClassifier\n",
        "from sklearn.ensemble import GradientBoostingClassifier\n",
        "from sklearn.model_selection import cross_val_score\n",
        "from sklearn.model_selection import RepeatedStratifiedKFold\n",
        "from matplotlib import pyplot as plt"
      ],
      "execution_count": 113,
      "outputs": []
    },
    {
      "cell_type": "markdown",
      "metadata": {
        "id": "5feEPRCSkTls"
      },
      "source": [
        "Read Dataset from csv file"
      ]
    },
    {
      "cell_type": "code",
      "metadata": {
        "id": "HoNvSh2LkTsa"
      },
      "source": [
        " iris= pd.read_csv('/content/Iris.csv')"
      ],
      "execution_count": 114,
      "outputs": []
    },
    {
      "cell_type": "markdown",
      "metadata": {
        "id": "yvDum9LekT0W"
      },
      "source": [
        "Preview dataset"
      ]
    },
    {
      "cell_type": "code",
      "metadata": {
        "id": "svknh4PmkT_c",
        "colab": {
          "base_uri": "https://localhost:8080/",
          "height": 197
        },
        "outputId": "60cfc7e9-fa9d-4b17-c109-9ad6b4b9719d"
      },
      "source": [
        "iris.head()"
      ],
      "execution_count": 115,
      "outputs": [
        {
          "output_type": "execute_result",
          "data": {
            "text/html": [
              "<div>\n",
              "<style scoped>\n",
              "    .dataframe tbody tr th:only-of-type {\n",
              "        vertical-align: middle;\n",
              "    }\n",
              "\n",
              "    .dataframe tbody tr th {\n",
              "        vertical-align: top;\n",
              "    }\n",
              "\n",
              "    .dataframe thead th {\n",
              "        text-align: right;\n",
              "    }\n",
              "</style>\n",
              "<table border=\"1\" class=\"dataframe\">\n",
              "  <thead>\n",
              "    <tr style=\"text-align: right;\">\n",
              "      <th></th>\n",
              "      <th>Id</th>\n",
              "      <th>SepalLengthCm</th>\n",
              "      <th>SepalWidthCm</th>\n",
              "      <th>PetalLengthCm</th>\n",
              "      <th>PetalWidthCm</th>\n",
              "      <th>Species</th>\n",
              "    </tr>\n",
              "  </thead>\n",
              "  <tbody>\n",
              "    <tr>\n",
              "      <th>0</th>\n",
              "      <td>1</td>\n",
              "      <td>5.1</td>\n",
              "      <td>3.5</td>\n",
              "      <td>1.4</td>\n",
              "      <td>0.2</td>\n",
              "      <td>Iris-setosa</td>\n",
              "    </tr>\n",
              "    <tr>\n",
              "      <th>1</th>\n",
              "      <td>2</td>\n",
              "      <td>4.9</td>\n",
              "      <td>3.0</td>\n",
              "      <td>1.4</td>\n",
              "      <td>0.2</td>\n",
              "      <td>Iris-setosa</td>\n",
              "    </tr>\n",
              "    <tr>\n",
              "      <th>2</th>\n",
              "      <td>3</td>\n",
              "      <td>4.7</td>\n",
              "      <td>3.2</td>\n",
              "      <td>1.3</td>\n",
              "      <td>0.2</td>\n",
              "      <td>Iris-setosa</td>\n",
              "    </tr>\n",
              "    <tr>\n",
              "      <th>3</th>\n",
              "      <td>4</td>\n",
              "      <td>4.6</td>\n",
              "      <td>3.1</td>\n",
              "      <td>1.5</td>\n",
              "      <td>0.2</td>\n",
              "      <td>Iris-setosa</td>\n",
              "    </tr>\n",
              "    <tr>\n",
              "      <th>4</th>\n",
              "      <td>5</td>\n",
              "      <td>5.0</td>\n",
              "      <td>3.6</td>\n",
              "      <td>1.4</td>\n",
              "      <td>0.2</td>\n",
              "      <td>Iris-setosa</td>\n",
              "    </tr>\n",
              "  </tbody>\n",
              "</table>\n",
              "</div>"
            ],
            "text/plain": [
              "   Id  SepalLengthCm  SepalWidthCm  PetalLengthCm  PetalWidthCm      Species\n",
              "0   1            5.1           3.5            1.4           0.2  Iris-setosa\n",
              "1   2            4.9           3.0            1.4           0.2  Iris-setosa\n",
              "2   3            4.7           3.2            1.3           0.2  Iris-setosa\n",
              "3   4            4.6           3.1            1.5           0.2  Iris-setosa\n",
              "4   5            5.0           3.6            1.4           0.2  Iris-setosa"
            ]
          },
          "metadata": {
            "tags": []
          },
          "execution_count": 115
        }
      ]
    },
    {
      "cell_type": "code",
      "metadata": {
        "id": "Dw0Y0cdi9LnK",
        "colab": {
          "base_uri": "https://localhost:8080/",
          "height": 296
        },
        "outputId": "66efc2ed-68d4-4237-f830-0533cd4885da"
      },
      "source": [
        "#distribution of target variables\n",
        "plt.scatter(iris.index , iris['Species'])\n",
        "plt.xlabel(\"number_of_observations\")\n",
        "plt.ylabel(\"range_value\")\n",
        "plt.title(\"Target distribution\")\n",
        "\n",
        "\n",
        "plt.show()"
      ],
      "execution_count": 116,
      "outputs": [
        {
          "output_type": "display_data",
          "data": {
            "image/png": "[encoded data removed]",
            "text/plain": [
              "<Figure size 432x288 with 1 Axes>"
            ]
          },
          "metadata": {
            "tags": [],
            "needs_background": "light"
          }
        }
      ]
    },
    {
      "cell_type": "code",
      "metadata": {
        "id": "IkIQln7j9P46",
        "colab": {
          "base_uri": "https://localhost:8080/",
          "height": 294
        },
        "outputId": "f73f656e-aa87-4c1e-e552-aea191a20f4c"
      },
      "source": [
        "#distribution of each class of target variable\n",
        "ax = iris[ 'Species'].value_counts().sort_values().plot(kind=\"barh\")\n",
        "totals= []\n",
        "for i in ax.patches:\n",
        "    totals.append(i.get_width())\n",
        "total = sum(totals)\n",
        "for i in ax.patches:\n",
        "     ax.text(i.get_width()+.3, i.get_y()+.20, \n",
        "     str(round((i.get_width()/total)*100, 2))+'%', \n",
        "     fontsize=10, color='black')\n",
        "ax.grid(axis=\"x\")\n",
        "plt.suptitle('Species', fontsize=20)\n",
        "plt.show()"
      ],
      "execution_count": 117,
      "outputs": [
        {
          "output_type": "display_data",
          "data": {
            "image/png": "[encoded data removed]",
            "text/plain": [
              "<Figure size 432x288 with 1 Axes>"
            ]
          },
          "metadata": {
            "tags": [],
            "needs_background": "light"
          }
        }
      ]
    },
    {
      "cell_type": "code",
      "metadata": {
        "id": "Zxm1RP2Q9SUA",
        "colab": {
          "base_uri": "https://localhost:8080/",
          "height": 1000
        },
        "outputId": "a32c058c-2d54-4a56-9003-1c4e09f0ceb5"
      },
      "source": [
        " #Visualize the distribution of data for every feature\n",
        "for x in iris.columns:\n",
        "  if x != \"Species\":\n",
        "    plt.xlabel(\"index\")\n",
        "    plt.ylabel(x)\n",
        "    plt.scatter(iris.index,iris[x])\n",
        "    plt.show()\n",
        "    print('\\n')"
      ],
      "execution_count": 118,
      "outputs": [
        {
          "output_type": "display_data",
          "data": {
            "image/png": "[encoded data removed]",
            "text/plain": [
              "<Figure size 432x288 with 1 Axes>"
            ]
          },
          "metadata": {
            "tags": [],
            "needs_background": "light"
          }
        },
        {
          "output_type": "stream",
          "text": [
            "\n",
            "\n"
          ],
          "name": "stdout"
        },
        {
          "output_type": "display_data",
          "data": {
            "image/png": "[encoded data removed]",
            "text/plain": [
              "<Figure size 432x288 with 1 Axes>"
            ]
          },
          "metadata": {
            "tags": [],
            "needs_background": "light"
          }
        },
        {
          "output_type": "stream",
          "text": [
            "\n",
            "\n"
          ],
          "name": "stdout"
        },
        {
          "output_type": "display_data",
          "data": {
            "image/png": "[encoded data removed]",
            "text/plain": [
              "<Figure size 432x288 with 1 Axes>"
            ]
          },
          "metadata": {
            "tags": [],
            "needs_background": "light"
          }
        },
        {
          "output_type": "stream",
          "text": [
            "\n",
            "\n"
          ],
          "name": "stdout"
        },
        {
          "output_type": "display_data",
          "data": {
            "image/png": "[encoded data removed]",
            "text/plain": [
              "<Figure size 432x288 with 1 Axes>"
            ]
          },
          "metadata": {
            "tags": [],
            "needs_background": "light"
          }
        },
        {
          "output_type": "stream",
          "text": [
            "\n",
            "\n"
          ],
          "name": "stdout"
        },
        {
          "output_type": "display_data",
          "data": {
            "image/png": "[encoded data removed]",
            "text/plain": [
              "<Figure size 432x288 with 1 Axes>"
            ]
          },
          "metadata": {
            "tags": [],
            "needs_background": "light"
          }
        },
        {
          "output_type": "stream",
          "text": [
            "\n",
            "\n"
          ],
          "name": "stdout"
        }
      ]
    },
    {
      "cell_type": "markdown",
      "metadata": {
        "id": "GmAit9xXkUGt"
      },
      "source": [
        "Declare feature vector and target variable"
      ]
    },
    {
      "cell_type": "code",
      "metadata": {
        "id": "B23DPIqCkUN5"
      },
      "source": [
        "features = [\"SepalLengthCm\", \"SepalWidthCm\", \"PetalLengthCm\", \"PetalWidthCm\"]"
      ],
      "execution_count": 119,
      "outputs": []
    },
    {
      "cell_type": "code",
      "metadata": {
        "id": "NXrVfxJC9bY-"
      },
      "source": [
        "#X = np.array(iris[features])\n",
        "#y = np.array(iris[[\"Species\"]])\n",
        "\n",
        "X = (iris[features])\n",
        "y = (iris[[\"Species\"]])"
      ],
      "execution_count": 120,
      "outputs": []
    },
    {
      "cell_type": "markdown",
      "metadata": {
        "id": "2XygJwltkUV8"
      },
      "source": [
        "\n",
        "Replace categorical data with numbers"
      ]
    },
    {
      "cell_type": "code",
      "metadata": {
        "id": "4Hm0QmE5kUcv",
        "colab": {
          "base_uri": "https://localhost:8080/",
          "height": 507
        },
        "outputId": "21b1e27a-3f86-479c-9740-fdb9a310df3b"
      },
      "source": [
        "oe = OrdinalEncoder()\n",
        "y[\"Species\"] = oe.fit_transform(y[[\"Species\"]])\n",
        "iris\n"
      ],
      "execution_count": 121,
      "outputs": [
        {
          "output_type": "stream",
          "text": [
            "/usr/local/lib/python3.7/dist-packages/ipykernel_launcher.py:2: SettingWithCopyWarning: \n",
            "A value is trying to be set on a copy of a slice from a DataFrame.\n",
            "Try using .loc[row_indexer,col_indexer] = value instead\n",
            "\n",
            "See the caveats in the documentation: https://pandas.pydata.org/pandas-docs/stable/user_guide/indexing.html#returning-a-view-versus-a-copy\n",
            "  \n"
          ],
          "name": "stderr"
        },
        {
          "output_type": "execute_result",
          "data": {
            "text/html": [
              "<div>\n",
              "<style scoped>\n",
              "    .dataframe tbody tr th:only-of-type {\n",
              "        vertical-align: middle;\n",
              "    }\n",
              "\n",
              "    .dataframe tbody tr th {\n",
              "        vertical-align: top;\n",
              "    }\n",
              "\n",
              "    .dataframe thead th {\n",
              "        text-align: right;\n",
              "    }\n",
              "</style>\n",
              "<table border=\"1\" class=\"dataframe\">\n",
              "  <thead>\n",
              "    <tr style=\"text-align: right;\">\n",
              "      <th></th>\n",
              "      <th>Id</th>\n",
              "      <th>SepalLengthCm</th>\n",
              "      <th>SepalWidthCm</th>\n",
              "      <th>PetalLengthCm</th>\n",
              "      <th>PetalWidthCm</th>\n",
              "      <th>Species</th>\n",
              "    </tr>\n",
              "  </thead>\n",
              "  <tbody>\n",
              "    <tr>\n",
              "      <th>0</th>\n",
              "      <td>1</td>\n",
              "      <td>5.1</td>\n",
              "      <td>3.5</td>\n",
              "      <td>1.4</td>\n",
              "      <td>0.2</td>\n",
              "      <td>Iris-setosa</td>\n",
              "    </tr>\n",
              "    <tr>\n",
              "      <th>1</th>\n",
              "      <td>2</td>\n",
              "      <td>4.9</td>\n",
              "      <td>3.0</td>\n",
              "      <td>1.4</td>\n",
              "      <td>0.2</td>\n",
              "      <td>Iris-setosa</td>\n",
              "    </tr>\n",
              "    <tr>\n",
              "      <th>2</th>\n",
              "      <td>3</td>\n",
              "      <td>4.7</td>\n",
              "      <td>3.2</td>\n",
              "      <td>1.3</td>\n",
              "      <td>0.2</td>\n",
              "      <td>Iris-setosa</td>\n",
              "    </tr>\n",
              "    <tr>\n",
              "      <th>3</th>\n",
              "      <td>4</td>\n",
              "      <td>4.6</td>\n",
              "      <td>3.1</td>\n",
              "      <td>1.5</td>\n",
              "      <td>0.2</td>\n",
              "      <td>Iris-setosa</td>\n",
              "    </tr>\n",
              "    <tr>\n",
              "      <th>4</th>\n",
              "      <td>5</td>\n",
              "      <td>5.0</td>\n",
              "      <td>3.6</td>\n",
              "      <td>1.4</td>\n",
              "      <td>0.2</td>\n",
              "      <td>Iris-setosa</td>\n",
              "    </tr>\n",
              "    <tr>\n",
              "      <th>...</th>\n",
              "      <td>...</td>\n",
              "      <td>...</td>\n",
              "      <td>...</td>\n",
              "      <td>...</td>\n",
              "      <td>...</td>\n",
              "      <td>...</td>\n",
              "    </tr>\n",
              "    <tr>\n",
              "      <th>145</th>\n",
              "      <td>146</td>\n",
              "      <td>6.7</td>\n",
              "      <td>3.0</td>\n",
              "      <td>5.2</td>\n",
              "      <td>2.3</td>\n",
              "      <td>Iris-virginica</td>\n",
              "    </tr>\n",
              "    <tr>\n",
              "      <th>146</th>\n",
              "      <td>147</td>\n",
              "      <td>6.3</td>\n",
              "      <td>2.5</td>\n",
              "      <td>5.0</td>\n",
              "      <td>1.9</td>\n",
              "      <td>Iris-virginica</td>\n",
              "    </tr>\n",
              "    <tr>\n",
              "      <th>147</th>\n",
              "      <td>148</td>\n",
              "      <td>6.5</td>\n",
              "      <td>3.0</td>\n",
              "      <td>5.2</td>\n",
              "      <td>2.0</td>\n",
              "      <td>Iris-virginica</td>\n",
              "    </tr>\n",
              "    <tr>\n",
              "      <th>148</th>\n",
              "      <td>149</td>\n",
              "      <td>6.2</td>\n",
              "      <td>3.4</td>\n",
              "      <td>5.4</td>\n",
              "      <td>2.3</td>\n",
              "      <td>Iris-virginica</td>\n",
              "    </tr>\n",
              "    <tr>\n",
              "      <th>149</th>\n",
              "      <td>150</td>\n",
              "      <td>5.9</td>\n",
              "      <td>3.0</td>\n",
              "      <td>5.1</td>\n",
              "      <td>1.8</td>\n",
              "      <td>Iris-virginica</td>\n",
              "    </tr>\n",
              "  </tbody>\n",
              "</table>\n",
              "<p>150 rows × 6 columns</p>\n",
              "</div>"
            ],
            "text/plain": [
              "      Id  SepalLengthCm  ...  PetalWidthCm         Species\n",
              "0      1            5.1  ...           0.2     Iris-setosa\n",
              "1      2            4.9  ...           0.2     Iris-setosa\n",
              "2      3            4.7  ...           0.2     Iris-setosa\n",
              "3      4            4.6  ...           0.2     Iris-setosa\n",
              "4      5            5.0  ...           0.2     Iris-setosa\n",
              "..   ...            ...  ...           ...             ...\n",
              "145  146            6.7  ...           2.3  Iris-virginica\n",
              "146  147            6.3  ...           1.9  Iris-virginica\n",
              "147  148            6.5  ...           2.0  Iris-virginica\n",
              "148  149            6.2  ...           2.3  Iris-virginica\n",
              "149  150            5.9  ...           1.8  Iris-virginica\n",
              "\n",
              "[150 rows x 6 columns]"
            ]
          },
          "metadata": {
            "tags": []
          },
          "execution_count": 121
        }
      ]
    },
    {
      "cell_type": "markdown",
      "metadata": {
        "id": "RI0h1oYZkUk3"
      },
      "source": [
        "Split data into train and test sets"
      ]
    },
    {
      "cell_type": "code",
      "metadata": {
        "id": "xw_HfqlPkUro"
      },
      "source": [
        "#cv = RepeatedStratifiedKFold(n_splits=5, n_repeats=1, random_state=1)\n",
        "X_train,  X_test, y_train, y_test = train_test_split(X, y, test_size = 0.30, random_state = 31)\n",
        "#for train_index, test_index in cv.split(X, y):\n",
        "     #print(\"TRAIN:\", train_index, \"TEST:\", test_index)\n",
        "     #X_train, X_test = X[train_index], X[test_index]\n",
        "     #y_train, y_test = y[train_index], y[test_index]"
      ],
      "execution_count": 122,
      "outputs": []
    },
    {
      "cell_type": "code",
      "metadata": {
        "colab": {
          "base_uri": "https://localhost:8080/",
          "height": 405
        },
        "id": "QW1-5Y0shllB",
        "outputId": "9c2ab81a-0be0-459f-a7ff-09a829027288"
      },
      "source": [
        "y"
      ],
      "execution_count": 123,
      "outputs": [
        {
          "output_type": "execute_result",
          "data": {
            "text/html": [
              "<div>\n",
              "<style scoped>\n",
              "    .dataframe tbody tr th:only-of-type {\n",
              "        vertical-align: middle;\n",
              "    }\n",
              "\n",
              "    .dataframe tbody tr th {\n",
              "        vertical-align: top;\n",
              "    }\n",
              "\n",
              "    .dataframe thead th {\n",
              "        text-align: right;\n",
              "    }\n",
              "</style>\n",
              "<table border=\"1\" class=\"dataframe\">\n",
              "  <thead>\n",
              "    <tr style=\"text-align: right;\">\n",
              "      <th></th>\n",
              "      <th>Species</th>\n",
              "    </tr>\n",
              "  </thead>\n",
              "  <tbody>\n",
              "    <tr>\n",
              "      <th>0</th>\n",
              "      <td>0.0</td>\n",
              "    </tr>\n",
              "    <tr>\n",
              "      <th>1</th>\n",
              "      <td>0.0</td>\n",
              "    </tr>\n",
              "    <tr>\n",
              "      <th>2</th>\n",
              "      <td>0.0</td>\n",
              "    </tr>\n",
              "    <tr>\n",
              "      <th>3</th>\n",
              "      <td>0.0</td>\n",
              "    </tr>\n",
              "    <tr>\n",
              "      <th>4</th>\n",
              "      <td>0.0</td>\n",
              "    </tr>\n",
              "    <tr>\n",
              "      <th>...</th>\n",
              "      <td>...</td>\n",
              "    </tr>\n",
              "    <tr>\n",
              "      <th>145</th>\n",
              "      <td>2.0</td>\n",
              "    </tr>\n",
              "    <tr>\n",
              "      <th>146</th>\n",
              "      <td>2.0</td>\n",
              "    </tr>\n",
              "    <tr>\n",
              "      <th>147</th>\n",
              "      <td>2.0</td>\n",
              "    </tr>\n",
              "    <tr>\n",
              "      <th>148</th>\n",
              "      <td>2.0</td>\n",
              "    </tr>\n",
              "    <tr>\n",
              "      <th>149</th>\n",
              "      <td>2.0</td>\n",
              "    </tr>\n",
              "  </tbody>\n",
              "</table>\n",
              "<p>150 rows × 1 columns</p>\n",
              "</div>"
            ],
            "text/plain": [
              "     Species\n",
              "0        0.0\n",
              "1        0.0\n",
              "2        0.0\n",
              "3        0.0\n",
              "4        0.0\n",
              "..       ...\n",
              "145      2.0\n",
              "146      2.0\n",
              "147      2.0\n",
              "148      2.0\n",
              "149      2.0\n",
              "\n",
              "[150 rows x 1 columns]"
            ]
          },
          "metadata": {
            "tags": []
          },
          "execution_count": 123
        }
      ]
    },
    {
      "cell_type": "markdown",
      "metadata": {
        "id": "1z0gkDiNkUys"
      },
      "source": [
        "Base estimator(Decision Tree classifier) : a weak learner with max_depth=2"
      ]
    },
    {
      "cell_type": "code",
      "metadata": {
        "id": "7OaHtLK-kU5z"
      },
      "source": [
        "model = DecisionTreeClassifier(criterion='entropy',max_depth=2)"
      ],
      "execution_count": 124,
      "outputs": []
    },
    {
      "cell_type": "markdown",
      "metadata": {
        "id": "dO8d4jbfkVBo"
      },
      "source": [
        "Fit weak classifier"
      ]
    },
    {
      "cell_type": "code",
      "metadata": {
        "id": "-ajfhxelkVIc",
        "colab": {
          "base_uri": "https://localhost:8080/"
        },
        "outputId": "161104f1-3a0b-46db-befc-e6204fef8e8d"
      },
      "source": [
        "model.fit(X_train,y_train.values.ravel())"
      ],
      "execution_count": 125,
      "outputs": [
        {
          "output_type": "execute_result",
          "data": {
            "text/plain": [
              "DecisionTreeClassifier(ccp_alpha=0.0, class_weight=None, criterion='entropy',\n",
              "                       max_depth=2, max_features=None, max_leaf_nodes=None,\n",
              "                       min_impurity_decrease=0.0, min_impurity_split=None,\n",
              "                       min_samples_leaf=1, min_samples_split=2,\n",
              "                       min_weight_fraction_leaf=0.0, presort='deprecated',\n",
              "                       random_state=None, splitter='best')"
            ]
          },
          "metadata": {
            "tags": []
          },
          "execution_count": 125
        }
      ]
    },
    {
      "cell_type": "markdown",
      "metadata": {
        "id": "uDdLYjRnkVP2"
      },
      "source": [
        "Calculate the accuracy by the weak learner"
      ]
    },
    {
      "cell_type": "code",
      "metadata": {
        "id": "2kcMADUMkVXD",
        "colab": {
          "base_uri": "https://localhost:8080/"
        },
        "outputId": "7dcbf082-753f-4737-a2ab-7c704be89087"
      },
      "source": [
        "score = cross_val_score(model, X, y, scoring='accuracy',cv=5)\n",
        "score"
      ],
      "execution_count": 126,
      "outputs": [
        {
          "output_type": "execute_result",
          "data": {
            "text/plain": [
              "array([0.93333333, 0.96666667, 0.9       , 0.86666667, 1.        ])"
            ]
          },
          "metadata": {
            "tags": []
          },
          "execution_count": 126
        }
      ]
    },
    {
      "cell_type": "markdown",
      "metadata": {
        "id": "v5d-qijEkVd1"
      },
      "source": [
        "Build the AdaBoost model with the the above decision tree and by increasing the number of trees from 1 to 5 with a step of 1 in the lines:\n",
        "\n",
        "Hint:   \n",
        "estimators = list(range(1, 5, 1))\n",
        "for n_est in estimators:\n",
        "\n"
      ]
    },
    {
      "cell_type": "code",
      "metadata": {
        "id": "ob26Gwx7kVjg"
      },
      "source": [
        "models_adaB = dict()\n",
        "estimators = list(range(1,6,1))\n",
        "for n_est in estimators:\n",
        "  models_adaB[str(n_est)] = AdaBoostClassifier(base_estimator = model,n_estimators=n_est)\n",
        "#print(estimators)\n",
        "#models_adaB"
      ],
      "execution_count": 127,
      "outputs": []
    },
    {
      "cell_type": "markdown",
      "metadata": {
        "id": "V_is0Hzf93U9"
      },
      "source": [
        "define function to evaluate models\n",
        "\n"
      ]
    },
    {
      "cell_type": "code",
      "metadata": {
        "id": "m9UEexa996Kb"
      },
      "source": [
        "#defining the function to evaluate model\n",
        "def evaluate_models(model,X,y):\n",
        "  # define the evaluation procedure\n",
        "\tcv = RepeatedStratifiedKFold(n_splits=5, n_repeats=1, random_state=1)\n",
        "\t# evaluate the model and collect the results\n",
        "\tscores = cross_val_score(model, X, y, scoring='accuracy', cv=cv, n_jobs=-1)\n",
        "\treturn scores"
      ],
      "execution_count": 128,
      "outputs": []
    },
    {
      "cell_type": "markdown",
      "metadata": {
        "id": "k7u2bzw2lWPB"
      },
      "source": [
        "Plot the model performance"
      ]
    },
    {
      "cell_type": "code",
      "metadata": {
        "colab": {
          "base_uri": "https://localhost:8080/",
          "height": 605
        },
        "id": "_0IAGcgvlWW2",
        "outputId": "3a7ce5f4-5ee4-48e1-de4f-66b353b615d1"
      },
      "source": [
        "results, names = list(), list()\n",
        "for name, model in models_adaB.items():\n",
        "\t# evaluate the model\n",
        "  scores = evaluate_models(model, X, y.values.ravel())\n",
        "  print(\"Scores for Model:\",name)\n",
        "  print(scores)\n",
        "\t# store the results\n",
        "  results.append(scores)\n",
        "  names.append(name)\n",
        "\t# summarize the performance along the way\n",
        "  print('>%s     MEAN IS:%.3f    STANDARD DEVIATION IS:(%.3f)' % (name, scores.mean(), scores.std()))\n",
        "  print(\" \")\n",
        "# plot model performance for comparison\n",
        "plt.boxplot(results, labels=names, showmeans=True)\n",
        "plt.show()"
      ],
      "execution_count": 129,
      "outputs": [
        {
          "output_type": "stream",
          "text": [
            "Scores for Model: 1\n",
            "[0.9        1.         0.93333333 0.96666667 0.9       ]\n",
            ">1     MEAN IS:0.940    STANDARD DEVIATION IS:(0.039)\n",
            " \n",
            "Scores for Model: 2\n",
            "[0.96666667 1.         0.9        1.         0.86666667]\n",
            ">2     MEAN IS:0.947    STANDARD DEVIATION IS:(0.054)\n",
            " \n",
            "Scores for Model: 3\n",
            "[0.96666667 1.         0.93333333 1.         0.86666667]\n",
            ">3     MEAN IS:0.953    STANDARD DEVIATION IS:(0.050)\n",
            " \n",
            "Scores for Model: 4\n",
            "[0.96666667 0.96666667 0.9        0.96666667 0.86666667]\n",
            ">4     MEAN IS:0.933    STANDARD DEVIATION IS:(0.042)\n",
            " \n",
            "Scores for Model: 5\n",
            "[0.96666667 1.         0.93333333 0.96666667 0.86666667]\n",
            ">5     MEAN IS:0.947    STANDARD DEVIATION IS:(0.045)\n",
            " \n"
          ],
          "name": "stdout"
        },
        {
          "output_type": "display_data",
          "data": {
            "image/png": "[encoded data removed]",
            "text/plain": [
              "<Figure size 432x288 with 1 Axes>"
            ]
          },
          "metadata": {
            "tags": [],
            "needs_background": "light"
          }
        }
      ]
    },
    {
      "cell_type": "markdown",
      "metadata": {
        "id": "VMQkhRzsOSoH"
      },
      "source": [
        "EXTRA ANALYSIS\n"
      ]
    },
    {
      "cell_type": "code",
      "metadata": {
        "colab": {
          "base_uri": "https://localhost:8080/"
        },
        "id": "3QcIi56ZJg8q",
        "outputId": "3d4c20f1-89a8-4771-8d4d-e59192dd8af2"
      },
      "source": [
        "models_Gra = dict()\n",
        "estimators1 = list(range(1,6,1))\n",
        "for n_est in estimators1:\n",
        "  models_Gra[str(n_est)] = GradientBoostingClassifier(n_estimators=n_est)\n",
        "models_Gra"
      ],
      "execution_count": 130,
      "outputs": [
        {
          "output_type": "execute_result",
          "data": {
            "text/plain": [
              "{'1': GradientBoostingClassifier(ccp_alpha=0.0, criterion='friedman_mse', init=None,\n",
              "                            learning_rate=0.1, loss='deviance', max_depth=3,\n",
              "                            max_features=None, max_leaf_nodes=None,\n",
              "                            min_impurity_decrease=0.0, min_impurity_split=None,\n",
              "                            min_samples_leaf=1, min_samples_split=2,\n",
              "                            min_weight_fraction_leaf=0.0, n_estimators=1,\n",
              "                            n_iter_no_change=None, presort='deprecated',\n",
              "                            random_state=None, subsample=1.0, tol=0.0001,\n",
              "                            validation_fraction=0.1, verbose=0,\n",
              "                            warm_start=False),\n",
              " '2': GradientBoostingClassifier(ccp_alpha=0.0, criterion='friedman_mse', init=None,\n",
              "                            learning_rate=0.1, loss='deviance', max_depth=3,\n",
              "                            max_features=None, max_leaf_nodes=None,\n",
              "                            min_impurity_decrease=0.0, min_impurity_split=None,\n",
              "                            min_samples_leaf=1, min_samples_split=2,\n",
              "                            min_weight_fraction_leaf=0.0, n_estimators=2,\n",
              "                            n_iter_no_change=None, presort='deprecated',\n",
              "                            random_state=None, subsample=1.0, tol=0.0001,\n",
              "                            validation_fraction=0.1, verbose=0,\n",
              "                            warm_start=False),\n",
              " '3': GradientBoostingClassifier(ccp_alpha=0.0, criterion='friedman_mse', init=None,\n",
              "                            learning_rate=0.1, loss='deviance', max_depth=3,\n",
              "                            max_features=None, max_leaf_nodes=None,\n",
              "                            min_impurity_decrease=0.0, min_impurity_split=None,\n",
              "                            min_samples_leaf=1, min_samples_split=2,\n",
              "                            min_weight_fraction_leaf=0.0, n_estimators=3,\n",
              "                            n_iter_no_change=None, presort='deprecated',\n",
              "                            random_state=None, subsample=1.0, tol=0.0001,\n",
              "                            validation_fraction=0.1, verbose=0,\n",
              "                            warm_start=False),\n",
              " '4': GradientBoostingClassifier(ccp_alpha=0.0, criterion='friedman_mse', init=None,\n",
              "                            learning_rate=0.1, loss='deviance', max_depth=3,\n",
              "                            max_features=None, max_leaf_nodes=None,\n",
              "                            min_impurity_decrease=0.0, min_impurity_split=None,\n",
              "                            min_samples_leaf=1, min_samples_split=2,\n",
              "                            min_weight_fraction_leaf=0.0, n_estimators=4,\n",
              "                            n_iter_no_change=None, presort='deprecated',\n",
              "                            random_state=None, subsample=1.0, tol=0.0001,\n",
              "                            validation_fraction=0.1, verbose=0,\n",
              "                            warm_start=False),\n",
              " '5': GradientBoostingClassifier(ccp_alpha=0.0, criterion='friedman_mse', init=None,\n",
              "                            learning_rate=0.1, loss='deviance', max_depth=3,\n",
              "                            max_features=None, max_leaf_nodes=None,\n",
              "                            min_impurity_decrease=0.0, min_impurity_split=None,\n",
              "                            min_samples_leaf=1, min_samples_split=2,\n",
              "                            min_weight_fraction_leaf=0.0, n_estimators=5,\n",
              "                            n_iter_no_change=None, presort='deprecated',\n",
              "                            random_state=None, subsample=1.0, tol=0.0001,\n",
              "                            validation_fraction=0.1, verbose=0,\n",
              "                            warm_start=False)}"
            ]
          },
          "metadata": {
            "tags": []
          },
          "execution_count": 130
        }
      ]
    },
    {
      "cell_type": "code",
      "metadata": {
        "id": "Myf_KmiPJs8i"
      },
      "source": [
        "#defining the function to evaluate model\n",
        "def evaluate_models(model,X,y):\n",
        "  # define the evaluation procedure\n",
        "\tcv = RepeatedStratifiedKFold(n_splits=5, n_repeats=1, random_state=1)\n",
        "\t# evaluate the model and collect the results\n",
        "\tscores = cross_val_score(model, X, y, scoring='accuracy', cv=cv, n_jobs=-1)\n",
        "\treturn scores"
      ],
      "execution_count": 131,
      "outputs": []
    },
    {
      "cell_type": "code",
      "metadata": {
        "colab": {
          "base_uri": "https://localhost:8080/",
          "height": 605
        },
        "id": "nnSdBRSrJweV",
        "outputId": "237c486b-8443-4ad5-db90-b78537e8df90"
      },
      "source": [
        "results1, names1 = list(), list()\n",
        "for name, model in models_Gra.items():\n",
        "\t# evaluate the model\n",
        "  scores = evaluate_models(model, X, y.values.ravel())\n",
        "  print(\"Scores for Model:\",name)\n",
        "  print(scores)\n",
        "\t# store the results\n",
        "  results1.append(scores)\n",
        "  names1.append(name)\n",
        "\t# summarize the performance along the way\n",
        "  print('>%s     MEAN IS:%.3f    STANDARD DEVIATION IS:(%.3f)' % (name, scores.mean(), scores.std()))\n",
        "  print(\" \")\n",
        "# plot model performance for comparison\n",
        "plt.boxplot(results1, labels = names1,showmeans=True)\n",
        "plt.show()\n",
        "#print(len(results1), \"******\" ,len(names1))"
      ],
      "execution_count": 132,
      "outputs": [
        {
          "output_type": "stream",
          "text": [
            "Scores for Model: 1\n",
            "[0.93333333 1.         0.93333333 1.         0.9       ]\n",
            ">1     MEAN IS:0.953    STANDARD DEVIATION IS:(0.040)\n",
            " \n",
            "Scores for Model: 2\n",
            "[0.93333333 1.         0.93333333 1.         0.9       ]\n",
            ">2     MEAN IS:0.953    STANDARD DEVIATION IS:(0.040)\n",
            " \n",
            "Scores for Model: 3\n",
            "[0.96666667 1.         0.93333333 1.         0.9       ]\n",
            ">3     MEAN IS:0.960    STANDARD DEVIATION IS:(0.039)\n",
            " \n",
            "Scores for Model: 4\n",
            "[0.93333333 1.         0.93333333 1.         0.9       ]\n",
            ">4     MEAN IS:0.953    STANDARD DEVIATION IS:(0.040)\n",
            " \n",
            "Scores for Model: 5\n",
            "[0.96666667 1.         0.93333333 1.         0.9       ]\n",
            ">5     MEAN IS:0.960    STANDARD DEVIATION IS:(0.039)\n",
            " \n"
          ],
          "name": "stdout"
        },
        {
          "output_type": "display_data",
          "data": {
            "image/png": "[encoded data removed]",
            "text/plain": [
              "<Figure size 432x288 with 1 Axes>"
            ]
          },
          "metadata": {
            "tags": [],
            "needs_background": "light"
          }
        }
      ]
    },
    {
      "cell_type": "markdown",
      "metadata": {
        "id": "q2q05WhRlWd8"
      },
      "source": [
        "#Bayes Classfication"
      ]
    },
    {
      "cell_type": "code",
      "metadata": {
        "id": "tcjNXGi6lWlO"
      },
      "source": [
        ""
      ],
      "execution_count": 132,
      "outputs": []
    },
    {
      "cell_type": "markdown",
      "metadata": {
        "id": "Cx-Xp7XTlWrw"
      },
      "source": [
        "Import modules"
      ]
    },
    {
      "cell_type": "code",
      "metadata": {
        "id": "poC5HfP8lWyl"
      },
      "source": [
        "from sklearn.naive_bayes import GaussianNB,MultinomialNB,BernoulliNB,ComplementNB\n",
        "#from sklearn.model_selection import KFold\n",
        "#roc auc plot\n",
        "from sklearn.metrics import roc_auc_score\n",
        "from sklearn.metrics import roc_curve,auc\n",
        "from sklearn.preprocessing import label_binarize\n",
        "from sklearn.multiclass import OneVsRestClassifier\n",
        "from sklearn.discriminant_analysis import LinearDiscriminantAnalysis, QuadraticDiscriminantAnalysis\n",
        "from sklearn.metrics import accuracy_score\n",
        "import seaborn as sns\n",
        "from mlxtend.plotting import plot_decision_regions"
      ],
      "execution_count": 133,
      "outputs": []
    },
    {
      "cell_type": "markdown",
      "metadata": {
        "id": "ACOoeaIflW5H"
      },
      "source": [
        "Naive Bayes algorithm using 5-fold cross validation "
      ]
    },
    {
      "cell_type": "code",
      "metadata": {
        "colab": {
          "base_uri": "https://localhost:8080/"
        },
        "id": "uiHdJrUclW-_",
        "outputId": "1c56267c-7a02-4816-e616-147e61df17c2"
      },
      "source": [
        "model_gauss = GaussianNB()\n",
        "model_gauss.fit(X_train,y_train.values.ravel())\n",
        "g = cross_val_score(model_gauss, X, y.values.ravel(), cv=5)\n",
        "g_pred = model_gauss.predict(X_test)\n",
        "g_score=model_gauss.score(X_test,y_test)\n",
        "g_score"
      ],
      "execution_count": 134,
      "outputs": [
        {
          "output_type": "execute_result",
          "data": {
            "text/plain": [
              "0.9777777777777777"
            ]
          },
          "metadata": {
            "tags": []
          },
          "execution_count": 134
        }
      ]
    },
    {
      "cell_type": "code",
      "metadata": {
        "colab": {
          "base_uri": "https://localhost:8080/"
        },
        "id": "gHsrNAhCStXG",
        "outputId": "68966d95-3d56-43ae-cf24-4259bf6af6ea"
      },
      "source": [
        "model_multinom = MultinomialNB()\n",
        "model_multinom.fit(X_train,y_train.values.ravel())\n",
        "m = cross_val_score(model_multinom,X,y.values.ravel(),cv=5)\n",
        "m_pred = model_multinom.predict(X_test)\n",
        "m_score=model_multinom.score(X_test,y_test)\n",
        "m_score"
      ],
      "execution_count": 135,
      "outputs": [
        {
          "output_type": "execute_result",
          "data": {
            "text/plain": [
              "0.7111111111111111"
            ]
          },
          "metadata": {
            "tags": []
          },
          "execution_count": 135
        }
      ]
    },
    {
      "cell_type": "code",
      "metadata": {
        "colab": {
          "base_uri": "https://localhost:8080/"
        },
        "id": "ZjMmSLBMTKMw",
        "outputId": "c2d45189-ff73-4475-cd93-36d258aedd66"
      },
      "source": [
        "model_comp = ComplementNB()\n",
        "model_comp.fit(X_train,y_train.values.ravel())\n",
        "c = cross_val_score(model_comp,X,y.values.ravel(),cv=5)\n",
        "c_pred = model_comp.predict(X_test)\n",
        "c_score=model_comp.score(X_test,y_test)\n",
        "c_score"
      ],
      "execution_count": 136,
      "outputs": [
        {
          "output_type": "execute_result",
          "data": {
            "text/plain": [
              "0.6"
            ]
          },
          "metadata": {
            "tags": []
          },
          "execution_count": 136
        }
      ]
    },
    {
      "cell_type": "code",
      "metadata": {
        "colab": {
          "base_uri": "https://localhost:8080/"
        },
        "id": "tRSyvuwrZMiT",
        "outputId": "f8d45243-5ca8-476c-a664-486abda055b2"
      },
      "source": [
        "model_bernom = BernoulliNB()\n",
        "model_bernom.fit(X_train,y_train.values.ravel())\n",
        "b = cross_val_score(model_bernom,X,y.values.ravel(),cv=5)\n",
        "b_pred = model_bernom.predict(X_test)\n",
        "b_score=model_bernom.score(X_test,y_test)\n",
        "b_score"
      ],
      "execution_count": 137,
      "outputs": [
        {
          "output_type": "execute_result",
          "data": {
            "text/plain": [
              "0.28888888888888886"
            ]
          },
          "metadata": {
            "tags": []
          },
          "execution_count": 137
        }
      ]
    },
    {
      "cell_type": "markdown",
      "metadata": {
        "id": "kk1m1HOHlXGC"
      },
      "source": [
        "Plot the ROC AUC curve"
      ]
    },
    {
      "cell_type": "code",
      "metadata": {
        "colab": {
          "base_uri": "https://localhost:8080/"
        },
        "id": "yvpGiFB1lXMr",
        "outputId": "4de58f53-8f79-4c1b-ec1d-4178902fa01d"
      },
      "source": [
        "# Binarize the output\n",
        "#y = label_binarize(y, classes=[0,1,2])\n",
        "#n_classes = y.shape[1]\n",
        "#print(n_classes)\n",
        "n_classes = 3\n",
        "Y_pred = model_gauss.predict(X_test) \n",
        "Y_pred_prob = model_gauss.predict_proba(X_test)\n",
        "\n",
        "#accuracy_nb=round(accuracy_score(y_test,Y_pred)* 100, 2)\n",
        "#acc_gaussian = round(gaussian.score(X_train, y_train) * 100, 2)\n",
        "#y_test= your_test_y_array  \n",
        "#fpr_NB, tpr_NB, threshold_NB = roc_curve(y_test,Y_pred)\n",
        "#NB_fpr,NB_tpr = roc_curve(y_test,Y_pred_prob)\n",
        "\n",
        "#auc_NB = roc_auc_score(y_test,Y_pred)\n",
        "#NB_auc = roc_auc_score(y_test,Y_pred_prob)\n",
        "\n",
        "\n",
        "fpr = dict()\n",
        "tpr = dict()\n",
        "thres = dict()\n",
        "roc_auc = dict()\n",
        "for i in range(n_classes):\n",
        "    fpr[i], tpr[i], thres[i]  = roc_curve(y_test, Y_pred_prob[:, i],pos_label=i)\n",
        "    roc_auc[i] = auc(fpr[i], tpr[i])\n",
        "print(\"FPR DICTIONARY\",fpr)\n",
        "print(\"TPR DICTIONARY\",tpr)\n",
        "# Compute micro-average ROC curve and ROC area\n",
        "#fpr[\"micro\"], tpr[\"micro\"], _ = roc_curve(actualnew.ravel(), Y_pred.ravel())\n",
        "#roc_auc[\"micro\"] = auc(fpr[\"micro\"], tpr[\"micro\"])"
      ],
      "execution_count": 138,
      "outputs": [
        {
          "output_type": "stream",
          "text": [
            "FPR DICTIONARY {0: array([0., 0., 0., 1.]), 1: array([0., 0., 0., 1.]), 2: array([0., 0., 0., 1.])}\n",
            "TPR DICTIONARY {0: array([0.        , 0.76923077, 1.        , 1.        ]), 1: array([0.        , 0.05555556, 1.        , 1.        ]), 2: array([0.        , 0.07142857, 1.        , 1.        ])}\n"
          ],
          "name": "stdout"
        }
      ]
    },
    {
      "cell_type": "code",
      "metadata": {
        "id": "OxkhfzGiP6KT",
        "colab": {
          "base_uri": "https://localhost:8080/",
          "height": 295
        },
        "outputId": "0425e2ad-82e7-410b-ce06-2dc45184a7ff"
      },
      "source": [
        "# plotting  \n",
        "plt.plot(fpr[0], tpr[0], linestyle='--',color='orange', label='Class 0 vs Rest')\n",
        "#plt.plot(fpr[1], tpr[1], linestyle='--',color='green', label='Class 1 vs Rest')\n",
        "#plt.plot(fpr[2], tpr[2], linestyle='--',color='blue', label='Class 2 vs Rest')\n",
        "plt.title('ROC curve for Iris-setosa')\n",
        "plt.xlabel('False Positive Rate')\n",
        "plt.ylabel('True Positive rate')\n",
        "plt.legend(loc='best')\n",
        "plt.savefig('Multiclass ROC',dpi=300); "
      ],
      "execution_count": 139,
      "outputs": [
        {
          "output_type": "display_data",
          "data": {
            "image/png": "[encoded data removed]",
            "text/plain": [
              "<Figure size 432x288 with 1 Axes>"
            ]
          },
          "metadata": {
            "tags": [],
            "needs_background": "light"
          }
        }
      ]
    },
    {
      "cell_type": "code",
      "metadata": {
        "colab": {
          "base_uri": "https://localhost:8080/",
          "height": 295
        },
        "id": "KvanVIzFj4rz",
        "outputId": "195e1a7d-deb1-4a3f-a075-9f375127425a"
      },
      "source": [
        "# plotting  \n",
        "#plt.plot(fpr[0], tpr[0], linestyle='--',color='orange', label='Class 0 vs Rest')\n",
        "plt.plot(fpr[1], tpr[1], linestyle='--',color='green', label='Class 1 vs Rest')\n",
        "#plt.plot(fpr[2], tpr[2], linestyle='--',color='blue', label='Class 2 vs Rest')\n",
        "plt.title('ROC curve for Iris-versicolor')\n",
        "plt.xlabel('False Positive Rate')\n",
        "plt.ylabel('True Positive rate')\n",
        "plt.legend(loc='best')\n",
        "plt.savefig('Multiclass ROC',dpi=300); "
      ],
      "execution_count": 140,
      "outputs": [
        {
          "output_type": "display_data",
          "data": {
            "image/png": "[encoded data removed]",
            "text/plain": [
              "<Figure size 432x288 with 1 Axes>"
            ]
          },
          "metadata": {
            "tags": [],
            "needs_background": "light"
          }
        }
      ]
    },
    {
      "cell_type": "code",
      "metadata": {
        "colab": {
          "base_uri": "https://localhost:8080/",
          "height": 295
        },
        "id": "UfUFvOx8j5gi",
        "outputId": "71211322-e3a0-4d67-82e5-e8664923fc2e"
      },
      "source": [
        "# plotting  \n",
        "#plt.plot(fpr[0], tpr[0], linestyle='--',color='orange', label='Class 0 vs Rest')\n",
        "#plt.plot(fpr[1], tpr[1], linestyle='--',color='green', label='Class 1 vs Rest')\n",
        "plt.plot(fpr[2], tpr[2], linestyle='--',color='blue', label='Class 2 vs Rest')\n",
        "plt.title('ROC curve for Iris-virginica')\n",
        "plt.xlabel('False Positive Rate')\n",
        "plt.ylabel('True Positive rate')\n",
        "plt.legend(loc='best')\n",
        "plt.savefig('Multiclass ROC',dpi=300); "
      ],
      "execution_count": 141,
      "outputs": [
        {
          "output_type": "display_data",
          "data": {
            "image/png": "[encoded data removed]",
            "text/plain": [
              "<Figure size 432x288 with 1 Axes>"
            ]
          },
          "metadata": {
            "tags": [],
            "needs_background": "light"
          }
        }
      ]
    },
    {
      "cell_type": "code",
      "metadata": {
        "colab": {
          "base_uri": "https://localhost:8080/"
        },
        "id": "ao2xgnQQxV58",
        "outputId": "18b689dc-14cc-4a89-c0cd-c6823d16fabc"
      },
      "source": [
        "for i in range(3):\n",
        "  print(\"AUC FOR CLASS\",i)\n",
        "  print(roc_auc[i])"
      ],
      "execution_count": 142,
      "outputs": [
        {
          "output_type": "stream",
          "text": [
            "AUC FOR CLASS 0\n",
            "1.0\n",
            "AUC FOR CLASS 1\n",
            "1.0\n",
            "AUC FOR CLASS 2\n",
            "1.0\n"
          ],
          "name": "stdout"
        }
      ]
    },
    {
      "cell_type": "code",
      "metadata": {
        "id": "rNCdsfA9QIUT",
        "colab": {
          "base_uri": "https://localhost:8080/"
        },
        "outputId": "12d25299-6211-4cd4-f5c0-eee297fcfd04"
      },
      "source": [
        "from collections import Counter\n",
        "Counter(y_test)\n",
        "#y_test"
      ],
      "execution_count": 143,
      "outputs": [
        {
          "output_type": "execute_result",
          "data": {
            "text/plain": [
              "Counter({'Species': 1})"
            ]
          },
          "metadata": {
            "tags": []
          },
          "execution_count": 143
        }
      ]
    },
    {
      "cell_type": "markdown",
      "metadata": {
        "id": "ohy9xGBWlXTn"
      },
      "source": [
        "Use logarithmic discriminant function to compute accuracy"
      ]
    },
    {
      "cell_type": "code",
      "metadata": {
        "id": "XDp7T7FcmMEq",
        "colab": {
          "base_uri": "https://localhost:8080/"
        },
        "outputId": "f78c19c1-565d-4ef5-e8f5-0fbfd55cb312"
      },
      "source": [
        "X_tr,X_te,Y_tr,Y_te = train_test_split(X,y,test_size = 0.2)\n",
        "clf_discriminant = LinearDiscriminantAnalysis()\n",
        "clf_discriminant.fit(X_tr,Y_tr.values.ravel())\n",
        "print(clf_discriminant.score(X_te,Y_te))"
      ],
      "execution_count": 144,
      "outputs": [
        {
          "output_type": "stream",
          "text": [
            "1.0\n"
          ],
          "name": "stdout"
        }
      ]
    },
    {
      "cell_type": "markdown",
      "metadata": {
        "id": "FndxPrIh3pWS"
      },
      "source": [
        "EXTRA ANALYSIS"
      ]
    },
    {
      "cell_type": "code",
      "metadata": {
        "colab": {
          "base_uri": "https://localhost:8080/"
        },
        "id": "ycB2TtsD3t5m",
        "outputId": "61b14b4e-0a59-43c0-fdf8-cdbe0f337f06"
      },
      "source": [
        "clf1_discriminant = QuadraticDiscriminantAnalysis()\n",
        "clf1_discriminant.fit(X_tr, Y_tr.values.ravel())\n",
        "print(clf1_discriminant.score(X_te,Y_te))"
      ],
      "execution_count": 145,
      "outputs": [
        {
          "output_type": "stream",
          "text": [
            "1.0\n"
          ],
          "name": "stdout"
        }
      ]
    },
    {
      "cell_type": "markdown",
      "metadata": {
        "id": "IQIMOZUSmM8M"
      },
      "source": [
        "Bayes risk"
      ]
    },
    {
      "cell_type": "code",
      "metadata": {
        "id": "ctp78sYAlXYX",
        "colab": {
          "base_uri": "https://localhost:8080/"
        },
        "outputId": "e06be7e7-5b0c-40ee-d000-8b25b04ece1f"
      },
      "source": [
        "#Risk= sum(lambda*P(c|x); \n",
        "gauss_pred1 = model_gauss.predict_proba(X_test)\n",
        "multi_pred1 = model_multinom.predict_proba(X_test)\n",
        "comp_pred1= model_comp.predict_proba(X_test)\n",
        "ber_pred1 = model_bernom.predict_proba(X_test)\n",
        "model_pred = clf_discriminant.predict_proba(X_te) \n",
        "lambda_1 =[]\n",
        "lambda_2 = np.array([[1,2,3],[4,5,6],[7,8,9]])\n",
        "for i in [gauss_pred1,multi_pred1,comp_pred1,ber_pred1,model_pred] :\n",
        "  lambda_1.append(np.sum(np.dot(i,lambda_2.T),axis=0)) #i= pred value\n",
        "print(\"Bayes risk for Gaussian is:\",lambda_1[0])\n",
        "print(\"Bayes risk for Multinomial is:\",lambda_1[1])\n",
        "print(\"Bayes risk for Complement is:\",lambda_1[2])\n",
        "print(\"Bayes risk for Bernoulli is:\",lambda_1[3])\n",
        "\n",
        "print(\"Bayes risk for Linear Discriminant is:\",lambda_1[4])"
      ],
      "execution_count": 146,
      "outputs": [
        {
          "output_type": "stream",
          "text": [
            "Bayes risk for Gaussian is: [ 91.6650945 226.6650945 361.6650945]\n",
            "Bayes risk for Multinomial is: [ 96.63302462 231.63302462 366.63302462]\n",
            "Bayes risk for Complement is: [ 91.21634384 226.21634384 361.21634384]\n",
            "Bayes risk for Bernoulli is: [ 89.52606193 224.52606193 359.52606193]\n",
            "Bayes risk for Linear Discriminant is: [ 55.2295553 145.2295553 235.2295553]\n"
          ],
          "name": "stdout"
        }
      ]
    }
  ]
}