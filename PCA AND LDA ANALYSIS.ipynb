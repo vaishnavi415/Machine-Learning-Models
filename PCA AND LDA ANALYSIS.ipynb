{
  "nbformat": 4,
  "nbformat_minor": 0,
  "metadata": {
    "colab": {
      "name": "Untitled0.ipynb",
      "provenance": [],
      "collapsed_sections": [],
      "toc_visible": true
    },
    "kernelspec": {
      "name": "python3",
      "display_name": "Python 3"
    },
    "language_info": {
      "name": "python"
    }
  },
  "cells": [
    {
      "cell_type": "markdown",
      "metadata": {
        "id": "tl1gEufZXZsW"
      },
      "source": [
        "## **QUES 1**"
      ]
    },
    {
      "cell_type": "code",
      "metadata": {
        "id": "VVj30hq3XNKR"
      },
      "source": [
        "import numpy as np\n",
        "import pandas as pd \n",
        "import seaborn as sns\n",
        "sns.set()\n",
        "import matplotlib.pyplot as plt\n",
        "from sklearn.model_selection import train_test_split\n",
        "%matplotlib inline"
      ],
      "execution_count": 901,
      "outputs": []
    },
    {
      "cell_type": "markdown",
      "metadata": {
        "id": "U--ks-ZeYIKQ"
      },
      "source": [
        "LOAD THE DATASET"
      ]
    },
    {
      "cell_type": "code",
      "metadata": {
        "colab": {
          "base_uri": "https://localhost:8080/",
          "height": 421
        },
        "id": "26FKGp_bYKB5",
        "outputId": "708883ba-b1db-4245-bb21-5f4e26b48d43"
      },
      "source": [
        "iris = pd.read_csv(\"/content/Iris.csv\",index_col='Id')\n",
        "iris"
      ],
      "execution_count": 902,
      "outputs": [
        {
          "output_type": "execute_result",
          "data": {
            "text/html": [
              "<div>\n",
              "<style scoped>\n",
              "    .dataframe tbody tr th:only-of-type {\n",
              "        vertical-align: middle;\n",
              "    }\n",
              "\n",
              "    .dataframe tbody tr th {\n",
              "        vertical-align: top;\n",
              "    }\n",
              "\n",
              "    .dataframe thead th {\n",
              "        text-align: right;\n",
              "    }\n",
              "</style>\n",
              "<table border=\"1\" class=\"dataframe\">\n",
              "  <thead>\n",
              "    <tr style=\"text-align: right;\">\n",
              "      <th></th>\n",
              "      <th>SepalLengthCm</th>\n",
              "      <th>SepalWidthCm</th>\n",
              "      <th>PetalLengthCm</th>\n",
              "      <th>PetalWidthCm</th>\n",
              "      <th>Species</th>\n",
              "    </tr>\n",
              "    <tr>\n",
              "      <th>Id</th>\n",
              "      <th></th>\n",
              "      <th></th>\n",
              "      <th></th>\n",
              "      <th></th>\n",
              "      <th></th>\n",
              "    </tr>\n",
              "  </thead>\n",
              "  <tbody>\n",
              "    <tr>\n",
              "      <th>1</th>\n",
              "      <td>5.1</td>\n",
              "      <td>3.5</td>\n",
              "      <td>1.4</td>\n",
              "      <td>0.2</td>\n",
              "      <td>Iris-setosa</td>\n",
              "    </tr>\n",
              "    <tr>\n",
              "      <th>2</th>\n",
              "      <td>4.9</td>\n",
              "      <td>3.0</td>\n",
              "      <td>1.4</td>\n",
              "      <td>0.2</td>\n",
              "      <td>Iris-setosa</td>\n",
              "    </tr>\n",
              "    <tr>\n",
              "      <th>3</th>\n",
              "      <td>4.7</td>\n",
              "      <td>3.2</td>\n",
              "      <td>1.3</td>\n",
              "      <td>0.2</td>\n",
              "      <td>Iris-setosa</td>\n",
              "    </tr>\n",
              "    <tr>\n",
              "      <th>4</th>\n",
              "      <td>4.6</td>\n",
              "      <td>3.1</td>\n",
              "      <td>1.5</td>\n",
              "      <td>0.2</td>\n",
              "      <td>Iris-setosa</td>\n",
              "    </tr>\n",
              "    <tr>\n",
              "      <th>5</th>\n",
              "      <td>5.0</td>\n",
              "      <td>3.6</td>\n",
              "      <td>1.4</td>\n",
              "      <td>0.2</td>\n",
              "      <td>Iris-setosa</td>\n",
              "    </tr>\n",
              "    <tr>\n",
              "      <th>...</th>\n",
              "      <td>...</td>\n",
              "      <td>...</td>\n",
              "      <td>...</td>\n",
              "      <td>...</td>\n",
              "      <td>...</td>\n",
              "    </tr>\n",
              "    <tr>\n",
              "      <th>146</th>\n",
              "      <td>6.7</td>\n",
              "      <td>3.0</td>\n",
              "      <td>5.2</td>\n",
              "      <td>2.3</td>\n",
              "      <td>Iris-virginica</td>\n",
              "    </tr>\n",
              "    <tr>\n",
              "      <th>147</th>\n",
              "      <td>6.3</td>\n",
              "      <td>2.5</td>\n",
              "      <td>5.0</td>\n",
              "      <td>1.9</td>\n",
              "      <td>Iris-virginica</td>\n",
              "    </tr>\n",
              "    <tr>\n",
              "      <th>148</th>\n",
              "      <td>6.5</td>\n",
              "      <td>3.0</td>\n",
              "      <td>5.2</td>\n",
              "      <td>2.0</td>\n",
              "      <td>Iris-virginica</td>\n",
              "    </tr>\n",
              "    <tr>\n",
              "      <th>149</th>\n",
              "      <td>6.2</td>\n",
              "      <td>3.4</td>\n",
              "      <td>5.4</td>\n",
              "      <td>2.3</td>\n",
              "      <td>Iris-virginica</td>\n",
              "    </tr>\n",
              "    <tr>\n",
              "      <th>150</th>\n",
              "      <td>5.9</td>\n",
              "      <td>3.0</td>\n",
              "      <td>5.1</td>\n",
              "      <td>1.8</td>\n",
              "      <td>Iris-virginica</td>\n",
              "    </tr>\n",
              "  </tbody>\n",
              "</table>\n",
              "<p>150 rows × 5 columns</p>\n",
              "</div>"
            ],
            "text/plain": [
              "     SepalLengthCm  SepalWidthCm  PetalLengthCm  PetalWidthCm         Species\n",
              "Id                                                                           \n",
              "1              5.1           3.5            1.4           0.2     Iris-setosa\n",
              "2              4.9           3.0            1.4           0.2     Iris-setosa\n",
              "3              4.7           3.2            1.3           0.2     Iris-setosa\n",
              "4              4.6           3.1            1.5           0.2     Iris-setosa\n",
              "5              5.0           3.6            1.4           0.2     Iris-setosa\n",
              "..             ...           ...            ...           ...             ...\n",
              "146            6.7           3.0            5.2           2.3  Iris-virginica\n",
              "147            6.3           2.5            5.0           1.9  Iris-virginica\n",
              "148            6.5           3.0            5.2           2.0  Iris-virginica\n",
              "149            6.2           3.4            5.4           2.3  Iris-virginica\n",
              "150            5.9           3.0            5.1           1.8  Iris-virginica\n",
              "\n",
              "[150 rows x 5 columns]"
            ]
          },
          "metadata": {
            "tags": []
          },
          "execution_count": 902
        }
      ]
    },
    {
      "cell_type": "markdown",
      "metadata": {
        "id": "7BYqXB24gLbZ"
      },
      "source": [
        "## **BASIC EDA**"
      ]
    },
    {
      "cell_type": "code",
      "metadata": {
        "colab": {
          "base_uri": "https://localhost:8080/"
        },
        "id": "ZF2b1Xx7YY0Y",
        "outputId": "371985fd-9496-43b9-9296-198db4849cd5"
      },
      "source": [
        "iris.shape"
      ],
      "execution_count": 903,
      "outputs": [
        {
          "output_type": "execute_result",
          "data": {
            "text/plain": [
              "(150, 5)"
            ]
          },
          "metadata": {
            "tags": []
          },
          "execution_count": 903
        }
      ]
    },
    {
      "cell_type": "code",
      "metadata": {
        "colab": {
          "base_uri": "https://localhost:8080/",
          "height": 277
        },
        "id": "PA2ZvoEegRWI",
        "outputId": "aa6addb6-979d-4fe6-8db6-c30e2c90e562"
      },
      "source": [
        "iris.describe()"
      ],
      "execution_count": 904,
      "outputs": [
        {
          "output_type": "execute_result",
          "data": {
            "text/html": [
              "<div>\n",
              "<style scoped>\n",
              "    .dataframe tbody tr th:only-of-type {\n",
              "        vertical-align: middle;\n",
              "    }\n",
              "\n",
              "    .dataframe tbody tr th {\n",
              "        vertical-align: top;\n",
              "    }\n",
              "\n",
              "    .dataframe thead th {\n",
              "        text-align: right;\n",
              "    }\n",
              "</style>\n",
              "<table border=\"1\" class=\"dataframe\">\n",
              "  <thead>\n",
              "    <tr style=\"text-align: right;\">\n",
              "      <th></th>\n",
              "      <th>SepalLengthCm</th>\n",
              "      <th>SepalWidthCm</th>\n",
              "      <th>PetalLengthCm</th>\n",
              "      <th>PetalWidthCm</th>\n",
              "    </tr>\n",
              "  </thead>\n",
              "  <tbody>\n",
              "    <tr>\n",
              "      <th>count</th>\n",
              "      <td>150.000000</td>\n",
              "      <td>150.000000</td>\n",
              "      <td>150.000000</td>\n",
              "      <td>150.000000</td>\n",
              "    </tr>\n",
              "    <tr>\n",
              "      <th>mean</th>\n",
              "      <td>5.843333</td>\n",
              "      <td>3.054000</td>\n",
              "      <td>3.758667</td>\n",
              "      <td>1.198667</td>\n",
              "    </tr>\n",
              "    <tr>\n",
              "      <th>std</th>\n",
              "      <td>0.828066</td>\n",
              "      <td>0.433594</td>\n",
              "      <td>1.764420</td>\n",
              "      <td>0.763161</td>\n",
              "    </tr>\n",
              "    <tr>\n",
              "      <th>min</th>\n",
              "      <td>4.300000</td>\n",
              "      <td>2.000000</td>\n",
              "      <td>1.000000</td>\n",
              "      <td>0.100000</td>\n",
              "    </tr>\n",
              "    <tr>\n",
              "      <th>25%</th>\n",
              "      <td>5.100000</td>\n",
              "      <td>2.800000</td>\n",
              "      <td>1.600000</td>\n",
              "      <td>0.300000</td>\n",
              "    </tr>\n",
              "    <tr>\n",
              "      <th>50%</th>\n",
              "      <td>5.800000</td>\n",
              "      <td>3.000000</td>\n",
              "      <td>4.350000</td>\n",
              "      <td>1.300000</td>\n",
              "    </tr>\n",
              "    <tr>\n",
              "      <th>75%</th>\n",
              "      <td>6.400000</td>\n",
              "      <td>3.300000</td>\n",
              "      <td>5.100000</td>\n",
              "      <td>1.800000</td>\n",
              "    </tr>\n",
              "    <tr>\n",
              "      <th>max</th>\n",
              "      <td>7.900000</td>\n",
              "      <td>4.400000</td>\n",
              "      <td>6.900000</td>\n",
              "      <td>2.500000</td>\n",
              "    </tr>\n",
              "  </tbody>\n",
              "</table>\n",
              "</div>"
            ],
            "text/plain": [
              "       SepalLengthCm  SepalWidthCm  PetalLengthCm  PetalWidthCm\n",
              "count     150.000000    150.000000     150.000000    150.000000\n",
              "mean        5.843333      3.054000       3.758667      1.198667\n",
              "std         0.828066      0.433594       1.764420      0.763161\n",
              "min         4.300000      2.000000       1.000000      0.100000\n",
              "25%         5.100000      2.800000       1.600000      0.300000\n",
              "50%         5.800000      3.000000       4.350000      1.300000\n",
              "75%         6.400000      3.300000       5.100000      1.800000\n",
              "max         7.900000      4.400000       6.900000      2.500000"
            ]
          },
          "metadata": {
            "tags": []
          },
          "execution_count": 904
        }
      ]
    },
    {
      "cell_type": "code",
      "metadata": {
        "colab": {
          "base_uri": "https://localhost:8080/"
        },
        "id": "NRIKWBsmgNax",
        "outputId": "9dab69f5-f59e-45a2-d71d-9f43e5b74f3f"
      },
      "source": [
        "iris.info()"
      ],
      "execution_count": 905,
      "outputs": [
        {
          "output_type": "stream",
          "text": [
            "<class 'pandas.core.frame.DataFrame'>\n",
            "Int64Index: 150 entries, 1 to 150\n",
            "Data columns (total 5 columns):\n",
            " #   Column         Non-Null Count  Dtype  \n",
            "---  ------         --------------  -----  \n",
            " 0   SepalLengthCm  150 non-null    float64\n",
            " 1   SepalWidthCm   150 non-null    float64\n",
            " 2   PetalLengthCm  150 non-null    float64\n",
            " 3   PetalWidthCm   150 non-null    float64\n",
            " 4   Species        150 non-null    object \n",
            "dtypes: float64(4), object(1)\n",
            "memory usage: 7.0+ KB\n"
          ],
          "name": "stdout"
        }
      ]
    },
    {
      "cell_type": "markdown",
      "metadata": {
        "id": "Pg9mQhEmd3si"
      },
      "source": [
        "PREPROCESSING"
      ]
    },
    {
      "cell_type": "code",
      "metadata": {
        "id": "vBMuT0byd05M"
      },
      "source": [
        "# from sklearn.preprocessing import OrdinalEncoder\n",
        "# oe = OrdinalEncoder()\n",
        "# iris[\"Species\"] = oe.fit_transform(iris[[\"Species\"]])\n",
        "# iris\n"
      ],
      "execution_count": 906,
      "outputs": []
    },
    {
      "cell_type": "markdown",
      "metadata": {
        "id": "_gZuCm--fTzr"
      },
      "source": [
        "NULL COUNT ANALYSIS"
      ]
    },
    {
      "cell_type": "code",
      "metadata": {
        "colab": {
          "base_uri": "https://localhost:8080/",
          "height": 726
        },
        "id": "ybEKA4ssfV5D",
        "outputId": "0c37d0f2-f6fb-4980-adb0-d623b70f27d6"
      },
      "source": [
        "import missingno as msno\n",
        "p=msno.bar(iris)"
      ],
      "execution_count": 907,
      "outputs": [
        {
          "output_type": "display_data",
          "data": {
            "image/png": "[encoded data removed]",
            "text/plain": [
              "<Figure size 1728x720 with 3 Axes>"
            ]
          },
          "metadata": {
            "tags": [],
            "needs_background": "light"
          }
        }
      ]
    },
    {
      "cell_type": "markdown",
      "metadata": {
        "id": "6ZlgXyB2ffjp"
      },
      "source": [
        "SEPARATING INTO INDEPENDENT AND TARGET FEATURES"
      ]
    },
    {
      "cell_type": "code",
      "metadata": {
        "id": "gXkyp-5Ufe4K"
      },
      "source": [
        "X = iris.drop(['Species'],axis=1)\n",
        "y = iris.Species"
      ],
      "execution_count": 908,
      "outputs": []
    },
    {
      "cell_type": "markdown",
      "metadata": {
        "id": "f5T1YhRGfXDa"
      },
      "source": [
        "PLOT FOR IRIS LABELS"
      ]
    },
    {
      "cell_type": "code",
      "metadata": {
        "colab": {
          "base_uri": "https://localhost:8080/",
          "height": 284
        },
        "id": "j2omq0QWfqTj",
        "outputId": "05a6d9f9-2c07-4b2c-aec0-b1f3ca27f933"
      },
      "source": [
        "sns.countplot(y=y,data=iris)\n",
        "plt.xlabel(\"Count of each Target class\")\n",
        "plt.ylabel(\"Target classes\")\n",
        "plt.show()"
      ],
      "execution_count": 909,
      "outputs": [
        {
          "output_type": "display_data",
          "data": {
            "image/png": "[encoded data removed]",
            "text/plain": [
              "<Figure size 432x288 with 1 Axes>"
            ]
          },
          "metadata": {
            "tags": [],
            "needs_background": "light"
          }
        }
      ]
    },
    {
      "cell_type": "markdown",
      "metadata": {
        "id": "4xOm5v_Dg_Ok"
      },
      "source": [
        "## **DEEP EDA**"
      ]
    },
    {
      "cell_type": "code",
      "metadata": {
        "colab": {
          "base_uri": "https://localhost:8080/",
          "height": 728
        },
        "id": "_iJs2b1lhGz7",
        "outputId": "fbc5dd02-6d6f-4fdb-a293-88874d42d48e"
      },
      "source": [
        "fig,ax = plt.subplots(nrows = 2, ncols=2, figsize=(16,10))\n",
        "row = 0\n",
        "col = 0\n",
        "for i in range(len(iris.columns) -1):\n",
        "    if col > 1:\n",
        "        row += 1\n",
        "        col = 0\n",
        "    axes = ax[row,col]\n",
        "    sns.boxplot(x = iris['Species'], y = iris[iris.columns[i]],ax = axes)\n",
        "    col += 1\n",
        "plt.tight_layout()\n",
        "# plt.title(\"Individual Features by Class\")\n",
        "plt.show()"
      ],
      "execution_count": 910,
      "outputs": [
        {
          "output_type": "display_data",
          "data": {
            "image/png": "[encoded data removed]",
            "text/plain": [
              "<Figure size 1152x720 with 4 Axes>"
            ]
          },
          "metadata": {
            "tags": [],
            "needs_background": "light"
          }
        }
      ]
    },
    {
      "cell_type": "code",
      "metadata": {
        "colab": {
          "base_uri": "https://localhost:8080/",
          "height": 718
        },
        "id": "Ayivak89haLG",
        "outputId": "3bacd471-8bec-4a77-a1f8-de6605ed7184"
      },
      "source": [
        "iris.hist(figsize=(15,12))\n",
        "#plt.title(\"Features Distribution\")\n",
        "plt.show()"
      ],
      "execution_count": 911,
      "outputs": [
        {
          "output_type": "display_data",
          "data": {
            "image/png": "[encoded data removed]",
            "text/plain": [
              "<Figure size 1080x864 with 4 Axes>"
            ]
          },
          "metadata": {
            "tags": [],
            "needs_background": "light"
          }
        }
      ]
    },
    {
      "cell_type": "code",
      "metadata": {
        "colab": {
          "base_uri": "https://localhost:8080/",
          "height": 284
        },
        "id": "vgbiD0IQsu1d",
        "outputId": "46b0afbc-bc5f-4ebf-fd7b-0ff7f8275342"
      },
      "source": [
        "sns.violinplot(x=\"Species\", y=\"SepalLengthCm\", data=iris, size=5,  palette = 'colorblind');"
      ],
      "execution_count": 912,
      "outputs": [
        {
          "output_type": "display_data",
          "data": {
            "image/png": "[encoded data removed]",
            "text/plain": [
              "<Figure size 432x288 with 1 Axes>"
            ]
          },
          "metadata": {
            "tags": [],
            "needs_background": "light"
          }
        }
      ]
    },
    {
      "cell_type": "code",
      "metadata": {
        "colab": {
          "base_uri": "https://localhost:8080/",
          "height": 284
        },
        "id": "6tM2JZEMt38r",
        "outputId": "33079fea-d210-43f1-a073-e0bae4ac474c"
      },
      "source": [
        "sns.violinplot(x=\"Species\", y=\"SepalWidthCm\", data=iris, size=5,  palette = 'colorblind');"
      ],
      "execution_count": 913,
      "outputs": [
        {
          "output_type": "display_data",
          "data": {
            "image/png": "[encoded data removed]",
            "text/plain": [
              "<Figure size 432x288 with 1 Axes>"
            ]
          },
          "metadata": {
            "tags": [],
            "needs_background": "light"
          }
        }
      ]
    },
    {
      "cell_type": "code",
      "metadata": {
        "colab": {
          "base_uri": "https://localhost:8080/",
          "height": 284
        },
        "id": "SQuIrOnut4im",
        "outputId": "b1a42b93-2210-40b3-9040-05e2ecbf80ee"
      },
      "source": [
        "sns.violinplot(x=\"Species\", y=\"PetalLengthCm\", data=iris, size=5,  palette = 'colorblind');"
      ],
      "execution_count": 914,
      "outputs": [
        {
          "output_type": "display_data",
          "data": {
            "image/png": "[encoded data removed]",
            "text/plain": [
              "<Figure size 432x288 with 1 Axes>"
            ]
          },
          "metadata": {
            "tags": [],
            "needs_background": "light"
          }
        }
      ]
    },
    {
      "cell_type": "code",
      "metadata": {
        "colab": {
          "base_uri": "https://localhost:8080/",
          "height": 284
        },
        "id": "AfAL-Raxt5LB",
        "outputId": "327c9712-7182-4409-f76a-555561f46be0"
      },
      "source": [
        "sns.violinplot(x=\"Species\", y=\"PetalWidthCm\", data=iris, size=5,  palette = 'colorblind');"
      ],
      "execution_count": 915,
      "outputs": [
        {
          "output_type": "display_data",
          "data": {
            "image/png": "[encoded data removed]",
            "text/plain": [
              "<Figure size 432x288 with 1 Axes>"
            ]
          },
          "metadata": {
            "tags": [],
            "needs_background": "light"
          }
        }
      ]
    },
    {
      "cell_type": "markdown",
      "metadata": {
        "id": "B2TgN42kYeCx"
      },
      "source": [
        "SPLITTING DATA INTO TESTING AND TRAINING DATASET"
      ]
    },
    {
      "cell_type": "code",
      "metadata": {
        "id": "XN2jN9q_dXPQ",
        "colab": {
          "base_uri": "https://localhost:8080/",
          "height": 421
        },
        "outputId": "f0317195-717c-4119-b8cb-66e8aba3492b"
      },
      "source": [
        "X = iris.drop(['Species'],axis=1)\n",
        "y = iris.Species\n",
        "from sklearn.model_selection import train_test_split\n",
        "# # 80% training and 20% test\n",
        "X_train,X_test,y_train, y_test = train_test_split(X,y, test_size=0.2, random_state=0)\n",
        "X_train_copy = X_train\n",
        "X_test_copy = X_test\n",
        "y_train_copy = y_train\n",
        "y_test_copy = y_test\n",
        "X_train_copy\n",
        "# X"
      ],
      "execution_count": 916,
      "outputs": [
        {
          "output_type": "execute_result",
          "data": {
            "text/html": [
              "<div>\n",
              "<style scoped>\n",
              "    .dataframe tbody tr th:only-of-type {\n",
              "        vertical-align: middle;\n",
              "    }\n",
              "\n",
              "    .dataframe tbody tr th {\n",
              "        vertical-align: top;\n",
              "    }\n",
              "\n",
              "    .dataframe thead th {\n",
              "        text-align: right;\n",
              "    }\n",
              "</style>\n",
              "<table border=\"1\" class=\"dataframe\">\n",
              "  <thead>\n",
              "    <tr style=\"text-align: right;\">\n",
              "      <th></th>\n",
              "      <th>SepalLengthCm</th>\n",
              "      <th>SepalWidthCm</th>\n",
              "      <th>PetalLengthCm</th>\n",
              "      <th>PetalWidthCm</th>\n",
              "    </tr>\n",
              "    <tr>\n",
              "      <th>Id</th>\n",
              "      <th></th>\n",
              "      <th></th>\n",
              "      <th></th>\n",
              "      <th></th>\n",
              "    </tr>\n",
              "  </thead>\n",
              "  <tbody>\n",
              "    <tr>\n",
              "      <th>138</th>\n",
              "      <td>6.4</td>\n",
              "      <td>3.1</td>\n",
              "      <td>5.5</td>\n",
              "      <td>1.8</td>\n",
              "    </tr>\n",
              "    <tr>\n",
              "      <th>85</th>\n",
              "      <td>5.4</td>\n",
              "      <td>3.0</td>\n",
              "      <td>4.5</td>\n",
              "      <td>1.5</td>\n",
              "    </tr>\n",
              "    <tr>\n",
              "      <th>28</th>\n",
              "      <td>5.2</td>\n",
              "      <td>3.5</td>\n",
              "      <td>1.5</td>\n",
              "      <td>0.2</td>\n",
              "    </tr>\n",
              "    <tr>\n",
              "      <th>128</th>\n",
              "      <td>6.1</td>\n",
              "      <td>3.0</td>\n",
              "      <td>4.9</td>\n",
              "      <td>1.8</td>\n",
              "    </tr>\n",
              "    <tr>\n",
              "      <th>133</th>\n",
              "      <td>6.4</td>\n",
              "      <td>2.8</td>\n",
              "      <td>5.6</td>\n",
              "      <td>2.2</td>\n",
              "    </tr>\n",
              "    <tr>\n",
              "      <th>...</th>\n",
              "      <td>...</td>\n",
              "      <td>...</td>\n",
              "      <td>...</td>\n",
              "      <td>...</td>\n",
              "    </tr>\n",
              "    <tr>\n",
              "      <th>10</th>\n",
              "      <td>4.9</td>\n",
              "      <td>3.1</td>\n",
              "      <td>1.5</td>\n",
              "      <td>0.1</td>\n",
              "    </tr>\n",
              "    <tr>\n",
              "      <th>104</th>\n",
              "      <td>6.3</td>\n",
              "      <td>2.9</td>\n",
              "      <td>5.6</td>\n",
              "      <td>1.8</td>\n",
              "    </tr>\n",
              "    <tr>\n",
              "      <th>68</th>\n",
              "      <td>5.8</td>\n",
              "      <td>2.7</td>\n",
              "      <td>4.1</td>\n",
              "      <td>1.0</td>\n",
              "    </tr>\n",
              "    <tr>\n",
              "      <th>118</th>\n",
              "      <td>7.7</td>\n",
              "      <td>3.8</td>\n",
              "      <td>6.7</td>\n",
              "      <td>2.2</td>\n",
              "    </tr>\n",
              "    <tr>\n",
              "      <th>48</th>\n",
              "      <td>4.6</td>\n",
              "      <td>3.2</td>\n",
              "      <td>1.4</td>\n",
              "      <td>0.2</td>\n",
              "    </tr>\n",
              "  </tbody>\n",
              "</table>\n",
              "<p>120 rows × 4 columns</p>\n",
              "</div>"
            ],
            "text/plain": [
              "     SepalLengthCm  SepalWidthCm  PetalLengthCm  PetalWidthCm\n",
              "Id                                                           \n",
              "138            6.4           3.1            5.5           1.8\n",
              "85             5.4           3.0            4.5           1.5\n",
              "28             5.2           3.5            1.5           0.2\n",
              "128            6.1           3.0            4.9           1.8\n",
              "133            6.4           2.8            5.6           2.2\n",
              "..             ...           ...            ...           ...\n",
              "10             4.9           3.1            1.5           0.1\n",
              "104            6.3           2.9            5.6           1.8\n",
              "68             5.8           2.7            4.1           1.0\n",
              "118            7.7           3.8            6.7           2.2\n",
              "48             4.6           3.2            1.4           0.2\n",
              "\n",
              "[120 rows x 4 columns]"
            ]
          },
          "metadata": {
            "tags": []
          },
          "execution_count": 916
        }
      ]
    },
    {
      "cell_type": "markdown",
      "metadata": {
        "id": "dEU0utmwejCt"
      },
      "source": [
        "## **STANDARDIZE THE DATA**"
      ]
    },
    {
      "cell_type": "code",
      "metadata": {
        "id": "Pv5HzgRbecmq"
      },
      "source": [
        "from sklearn.preprocessing import StandardScaler\n",
        "#object\n",
        "scaler = StandardScaler()\n",
        "# Fit on training set only.\n",
        "scaler.fit(X_train)\n",
        "# Apply transform to both the training set and the test set.\n",
        "X_train = scaler.transform(X_train)\n",
        "X_test = scaler.transform(X_test)"
      ],
      "execution_count": 917,
      "outputs": []
    },
    {
      "cell_type": "markdown",
      "metadata": {
        "id": "ctpyw4L44Hpd"
      },
      "source": [
        "## **APPLYING PCA**"
      ]
    },
    {
      "cell_type": "code",
      "metadata": {
        "id": "FK3GiC10mtv8"
      },
      "source": [
        "from sklearn.decomposition import PCA\n",
        "pca_1=PCA(whiten=True,n_components=None) \n",
        "X_transformed_pca_0 =pca_1.fit_transform(X_train)\n",
        "X_test_transformed_0 =pca_1.transform(X_test)"
      ],
      "execution_count": 918,
      "outputs": []
    },
    {
      "cell_type": "markdown",
      "metadata": {
        "id": "AoXlotzm4Une"
      },
      "source": [
        "VARIANCE CONVERSE OF EACH PRINCIPAL COMPONENT"
      ]
    },
    {
      "cell_type": "code",
      "metadata": {
        "colab": {
          "base_uri": "https://localhost:8080/"
        },
        "id": "2WfRmpqdy6B_",
        "outputId": "fc368701-c775-4892-9d46-0dcd188aaa1c"
      },
      "source": [
        "variance_percent = pca_1.explained_variance_ratio_\n",
        "print(\"THE VARIANCE PERCENT FOR BOTH PRINCIPAL COMPONENT\")\n",
        "print(variance_percent)"
      ],
      "execution_count": 919,
      "outputs": [
        {
          "output_type": "stream",
          "text": [
            "THE VARIANCE PERCENT FOR BOTH PRINCIPAL COMPONENT\n",
            "[0.72226528 0.23974795 0.03338117 0.0046056 ]\n"
          ],
          "name": "stdout"
        }
      ]
    },
    {
      "cell_type": "markdown",
      "metadata": {
        "id": "1fGJVQs54cN3"
      },
      "source": [
        "OVERALL VARIANCE"
      ]
    },
    {
      "cell_type": "code",
      "metadata": {
        "colab": {
          "base_uri": "https://localhost:8080/"
        },
        "id": "GrVZApY8zMEu",
        "outputId": "b4727a6f-b280-460e-d955-b04a97b87f4d"
      },
      "source": [
        "print(\"OVERALL VARIANCE\")\n",
        "print(sum(variance_percent))"
      ],
      "execution_count": 920,
      "outputs": [
        {
          "output_type": "stream",
          "text": [
            "OVERALL VARIANCE\n",
            "0.9999999999999999\n"
          ],
          "name": "stdout"
        }
      ]
    },
    {
      "cell_type": "markdown",
      "metadata": {
        "id": "B1WseKvE6qeM"
      },
      "source": [
        "CUMULATIVE SUM"
      ]
    },
    {
      "cell_type": "code",
      "metadata": {
        "colab": {
          "base_uri": "https://localhost:8080/"
        },
        "id": "U_A4BSRu6slZ",
        "outputId": "1d27aba7-f380-4dee-e995-1258abaeb906"
      },
      "source": [
        "cum_sum=np.cumsum(np.round(pca_1.explained_variance_ratio_, decimals=3)*100)\n",
        "print(\"THE CUMULATIVE SUM OF VARAINCE\")\n",
        "print(cum_sum )#cumulative sum of variance explained with [n] features"
      ],
      "execution_count": 921,
      "outputs": [
        {
          "output_type": "stream",
          "text": [
            "THE CUMULATIVE SUM OF VARAINCE\n",
            "[ 72.2  96.2  99.5 100. ]\n"
          ],
          "name": "stdout"
        }
      ]
    },
    {
      "cell_type": "code",
      "metadata": {
        "colab": {
          "base_uri": "https://localhost:8080/",
          "height": 318
        },
        "id": "xBGc5th47H9A",
        "outputId": "6663e074-7a1d-4235-acc4-b8c1637f31e6"
      },
      "source": [
        "plt.ylabel('% Cumulative Variance Explained')\n",
        "plt.xlabel('No of Features')\n",
        "plt.title('PCA Analysis')\n",
        "plt.xticks(np.arange(0, 4, step=1),(1,2,3,4))\n",
        "#plt.xlim(1,X.shape[1]+1)\n",
        "#plt.ylim(30,100.5)\n",
        "plt.style.context('seaborn-whitegrid')\n",
        "\n",
        "\n",
        "plt.plot(cum_sum)\n",
        "# plt.plot(variance_percent)"
      ],
      "execution_count": 922,
      "outputs": [
        {
          "output_type": "execute_result",
          "data": {
            "text/plain": [
              "[<matplotlib.lines.Line2D at 0x7fb4b143e6d0>]"
            ]
          },
          "metadata": {
            "tags": []
          },
          "execution_count": 922
        },
        {
          "output_type": "display_data",
          "data": {
            "image/png": "[encoded data removed]",
            "text/plain": [
              "<Figure size 432x288 with 1 Axes>"
            ]
          },
          "metadata": {
            "tags": [],
            "needs_background": "light"
          }
        }
      ]
    },
    {
      "cell_type": "code",
      "metadata": {
        "colab": {
          "base_uri": "https://localhost:8080/"
        },
        "id": "c5EL0gM_L1aX",
        "outputId": "15bd6e9a-9106-467b-e035-33ae84d03934"
      },
      "source": [
        "print(\"Variance explained by first principal component\",cum_sum[0])\n",
        "print(\"Variance explained by first 2 principal component\",cum_sum[1])\n",
        "print(\"Variance explained by first 3 principal component\",cum_sum[2])\n",
        "print(\"Variance explained by first 4 principal component\",cum_sum[3])"
      ],
      "execution_count": 923,
      "outputs": [
        {
          "output_type": "stream",
          "text": [
            "Variance explained by first principal component 72.2\n",
            "Variance explained by first 2 principal component 96.2\n",
            "Variance explained by first 3 principal component 99.5\n",
            "Variance explained by first 4 principal component 100.0\n"
          ],
          "name": "stdout"
        }
      ]
    },
    {
      "cell_type": "markdown",
      "metadata": {
        "id": "ExVqK0IfNOdA"
      },
      "source": [
        "EIGENVALUES"
      ]
    },
    {
      "cell_type": "code",
      "metadata": {
        "colab": {
          "base_uri": "https://localhost:8080/"
        },
        "id": "F9oQ4SgoNPJW",
        "outputId": "a759e530-e260-48b7-a359-46f558388cb5"
      },
      "source": [
        "eigenvalues = pca_1.explained_variance_\n",
        "print(\"EIGENVALUES ARE\")\n",
        "print(eigenvalues)"
      ],
      "execution_count": 924,
      "outputs": [
        {
          "output_type": "stream",
          "text": [
            "EIGENVALUES ARE\n",
            "[2.91333895 0.96705055 0.13464674 0.01857721]\n"
          ],
          "name": "stdout"
        }
      ]
    },
    {
      "cell_type": "markdown",
      "metadata": {
        "id": "DJqituIUNVpv"
      },
      "source": [
        "NO OF EIGENVECTORS"
      ]
    },
    {
      "cell_type": "code",
      "metadata": {
        "colab": {
          "base_uri": "https://localhost:8080/"
        },
        "id": "uAKQ5QaLNS7A",
        "outputId": "26c6990d-e917-4cc8-8794-d4be2c3e447e"
      },
      "source": [
        "eigen_vector = pca_1.components_\n",
        "print(\"THE EIGENVECTORS ARE\")\n",
        "print(eigen_vector)"
      ],
      "execution_count": 925,
      "outputs": [
        {
          "output_type": "stream",
          "text": [
            "THE EIGENVECTORS ARE\n",
            "[[ 0.52843794 -0.23201227  0.58394827  0.5709011 ]\n",
            " [ 0.3554837   0.93369239  0.00795684  0.04226763]\n",
            " [-0.72859925  0.24803092  0.15153118  0.62021133]\n",
            " [ 0.25204725 -0.11344378 -0.79748317  0.53630521]]\n"
          ],
          "name": "stdout"
        }
      ]
    },
    {
      "cell_type": "markdown",
      "metadata": {
        "id": "jCk5QG-3oUiy"
      },
      "source": [
        "PERFORMING PDA AFTER SELECTING NO OF COMPONENTS"
      ]
    },
    {
      "cell_type": "code",
      "metadata": {
        "colab": {
          "base_uri": "https://localhost:8080/"
        },
        "id": "FJWN7zDRMKXB",
        "outputId": "06c4b02f-de02-4692-ecf4-3ce1a8e40fb4"
      },
      "source": [
        "from sklearn.decomposition import PCA\n",
        "pca_2=PCA(whiten=True,n_components=2) \n",
        "X_transformed_pca_1 =pca_2.fit_transform(X_train)\n",
        "X_test_transformed_1 =pca_2.transform(X_test)\n",
        "pca_2"
      ],
      "execution_count": 926,
      "outputs": [
        {
          "output_type": "execute_result",
          "data": {
            "text/plain": [
              "PCA(copy=True, iterated_power='auto', n_components=2, random_state=None,\n",
              "    svd_solver='auto', tol=0.0, whiten=True)"
            ]
          },
          "metadata": {
            "tags": []
          },
          "execution_count": 926
        }
      ]
    },
    {
      "cell_type": "code",
      "metadata": {
        "colab": {
          "base_uri": "https://localhost:8080/"
        },
        "id": "33sNN9YSE-Nz",
        "outputId": "8ee01e95-3c9f-4b80-9ccb-71bd4bb0eeb6"
      },
      "source": [
        "cum_sum_1=np.cumsum(np.round(pca_2.explained_variance_ratio_, decimals=3)*100)\n",
        "print(\"THE CUMULATIVE SUM OF VARAINCE(PCA)\")\n",
        "print(cum_sum_1 )#cumulative sum of variance explained with [n] features"
      ],
      "execution_count": 927,
      "outputs": [
        {
          "output_type": "stream",
          "text": [
            "THE CUMULATIVE SUM OF VARAINCE(PCA)\n",
            "[72.2 96.2]\n"
          ],
          "name": "stdout"
        }
      ]
    },
    {
      "cell_type": "code",
      "metadata": {
        "colab": {
          "base_uri": "https://localhost:8080/",
          "height": 318
        },
        "id": "Muh6YnDjFThz",
        "outputId": "ec3d9acb-13ce-41cb-93e7-9f2d679813c7"
      },
      "source": [
        "plt.ylabel('% Cumulative Variance Explained')\n",
        "plt.xlabel('No of Features')\n",
        "plt.title('PCA Analysis')\n",
        "plt.xticks(np.arange(0, 4, step=1),(1,2,3,4))\n",
        "#plt.xlim(1,X.shape[1]+1)\n",
        "#plt.ylim(30,100.5)\n",
        "plt.style.context('seaborn-whitegrid')\n",
        "\n",
        "\n",
        "plt.plot(cum_sum_1)\n",
        "# plt.plot(variance_percent)"
      ],
      "execution_count": 928,
      "outputs": [
        {
          "output_type": "execute_result",
          "data": {
            "text/plain": [
              "[<matplotlib.lines.Line2D at 0x7fb4b141cfd0>]"
            ]
          },
          "metadata": {
            "tags": []
          },
          "execution_count": 928
        },
        {
          "output_type": "display_data",
          "data": {
            "image/png": "[encoded data removed]",
            "text/plain": [
              "<Figure size 432x288 with 1 Axes>"
            ]
          },
          "metadata": {
            "tags": [],
            "needs_background": "light"
          }
        }
      ]
    },
    {
      "cell_type": "markdown",
      "metadata": {
        "id": "KWfAkvow5V42"
      },
      "source": [
        "EIGENVALUES"
      ]
    },
    {
      "cell_type": "code",
      "metadata": {
        "colab": {
          "base_uri": "https://localhost:8080/"
        },
        "id": "-tOpKq9V5Xk8",
        "outputId": "ca81526b-6aaf-469e-9c2d-a524f82b037f"
      },
      "source": [
        "eigenvalues_1 = pca_2.explained_variance_\n",
        "print(\"EIGENVALUES ARE\")\n",
        "print(eigenvalues_1)"
      ],
      "execution_count": 929,
      "outputs": [
        {
          "output_type": "stream",
          "text": [
            "EIGENVALUES ARE\n",
            "[2.91333895 0.96705055]\n"
          ],
          "name": "stdout"
        }
      ]
    },
    {
      "cell_type": "markdown",
      "metadata": {
        "id": "EcSFLGyB402l"
      },
      "source": [
        "## **NO OF EIGENVECTORS CONTRIBUTING TO ATLEAST 90% VARIATION OF DATASET**"
      ]
    },
    {
      "cell_type": "code",
      "metadata": {
        "colab": {
          "base_uri": "https://localhost:8080/"
        },
        "id": "GzHzztEF43ll",
        "outputId": "58768328-5b43-4339-f7c7-91891134d382"
      },
      "source": [
        "eigen_vector_1 = pca_2.components_\n",
        "print(\"THE EIGENVECTORS ARE\")\n",
        "print(eigen_vector_1)"
      ],
      "execution_count": 930,
      "outputs": [
        {
          "output_type": "stream",
          "text": [
            "THE EIGENVECTORS ARE\n",
            "[[ 0.52843794 -0.23201227  0.58394827  0.5709011 ]\n",
            " [ 0.3554837   0.93369239  0.00795684  0.04226763]]\n"
          ],
          "name": "stdout"
        }
      ]
    },
    {
      "cell_type": "code",
      "metadata": {
        "colab": {
          "base_uri": "https://localhost:8080/"
        },
        "id": "81bF4TF2Wuz7",
        "outputId": "c3e00380-8ff8-4ae2-868a-19e26b53df85"
      },
      "source": [
        "projection_matrix = eigen_vector_1.transpose()\n",
        "projection_matrix"
      ],
      "execution_count": 931,
      "outputs": [
        {
          "output_type": "execute_result",
          "data": {
            "text/plain": [
              "array([[ 0.52843794,  0.3554837 ],\n",
              "       [-0.23201227,  0.93369239],\n",
              "       [ 0.58394827,  0.00795684],\n",
              "       [ 0.5709011 ,  0.04226763]])"
            ]
          },
          "metadata": {
            "tags": []
          },
          "execution_count": 931
        }
      ]
    },
    {
      "cell_type": "markdown",
      "metadata": {
        "id": "UDovq73IhKYj"
      },
      "source": [
        "## **FINDING PRIMARY CONTRIBUTORS TO EIGEN VECTORS**"
      ]
    },
    {
      "cell_type": "code",
      "metadata": {
        "colab": {
          "base_uri": "https://localhost:8080/"
        },
        "id": "u8qrEQSXYI-D",
        "outputId": "599ff15f-2d25-4c4a-abd3-ddaa2347d8b4"
      },
      "source": [
        "eigen_vector_1[0]"
      ],
      "execution_count": 932,
      "outputs": [
        {
          "output_type": "execute_result",
          "data": {
            "text/plain": [
              "array([ 0.52843794, -0.23201227,  0.58394827,  0.5709011 ])"
            ]
          },
          "metadata": {
            "tags": []
          },
          "execution_count": 932
        }
      ]
    },
    {
      "cell_type": "code",
      "metadata": {
        "colab": {
          "base_uri": "https://localhost:8080/"
        },
        "id": "47kiwPIW9PlV",
        "outputId": "91039a0e-a8d5-4e8f-a4a9-b07c70803dee"
      },
      "source": [
        "features = [\"SepalLengthCm\",\"SepalWidthCm\",\"PetalLengthCm\",\"PetalWidthCm\"]\n",
        "elements = eigen_vector_1[0]\n",
        "print(features[0],\":\",elements[0])\n",
        "print(features[1],\":\",elements[1])\n",
        "print(features[2],\":\",elements[2])\n",
        "print(features[3],\":\",elements[3])"
      ],
      "execution_count": 933,
      "outputs": [
        {
          "output_type": "stream",
          "text": [
            "SepalLengthCm : 0.5284379409692956\n",
            "SepalWidthCm : -0.23201227156018744\n",
            "PetalLengthCm : 0.583948266692758\n",
            "PetalWidthCm : 0.5709011037089845\n"
          ],
          "name": "stdout"
        }
      ]
    },
    {
      "cell_type": "code",
      "metadata": {
        "colab": {
          "base_uri": "https://localhost:8080/"
        },
        "id": "K12VSnW4kU45",
        "outputId": "92b06211-2a0b-4d98-a354-9f41f02cf6fa"
      },
      "source": [
        "features = [\"SepalLengthCm\",\"SepalWidthCm\",\"PetalLengthCm\",\"PetalWidthCm\"]\n",
        "elements = eigen_vector_1[0]\n",
        "print(elements)\n",
        "# primary_contributors\n",
        "print(\"PRIMARY CONTRIBUTORS ARE\")\n",
        "print(features[2],\":\",elements[2])\n",
        "print(features[3],\":\",elements[3])"
      ],
      "execution_count": 934,
      "outputs": [
        {
          "output_type": "stream",
          "text": [
            "[ 0.52843794 -0.23201227  0.58394827  0.5709011 ]\n",
            "PRIMARY CONTRIBUTORS ARE\n",
            "PetalLengthCm : 0.583948266692758\n",
            "PetalWidthCm : 0.5709011037089845\n"
          ],
          "name": "stdout"
        }
      ]
    },
    {
      "cell_type": "code",
      "metadata": {
        "colab": {
          "base_uri": "https://localhost:8080/"
        },
        "id": "zI_bFrwyhA-a",
        "outputId": "9af903dc-77d8-4324-fb21-affe023f7388"
      },
      "source": [
        "#as we can see from the primary contributors to eigen vectors have coefficent 0.58394827 and 0.5709011 which cooresponds to petal length and petal width\n",
        "correlation = iris['PetalLengthCm'].corr(iris['PetalWidthCm'])\n",
        "if(correlation>0):\n",
        "  print(\"PETAL LENGTH AND PETAL WIDTH ARE POSTIVELY CORRELATED\",\"AND VALUE IS\",correlation)\n",
        "elif(correlation <0):\n",
        "  print(\"PETAL LENGTH AND PETAL WIDTH ARE NEGATIVELY CORRELATED\",\"AND VALUE IS\",correlation)\n",
        "else:\n",
        "  print(\"PETAL LENGTH AND PETAL WIDTH ARE NOT CORRELATED\",\"AND VALUE IS\",correlation)"
      ],
      "execution_count": 935,
      "outputs": [
        {
          "output_type": "stream",
          "text": [
            "PETAL LENGTH AND PETAL WIDTH ARE POSTIVELY CORRELATED AND VALUE IS 0.9627570970509663\n"
          ],
          "name": "stdout"
        }
      ]
    },
    {
      "cell_type": "markdown",
      "metadata": {
        "id": "I8z4xWAvmcob"
      },
      "source": [
        "## **PLOT FOR THE TRANSFORMED DATA USING FIRST TWO EIGEN VECTORS**"
      ]
    },
    {
      "cell_type": "code",
      "metadata": {
        "colab": {
          "base_uri": "https://localhost:8080/",
          "height": 296
        },
        "id": "9OCEj5r9XUfK",
        "outputId": "6a9d2676-be6e-4372-8d3f-ca7503ca0261"
      },
      "source": [
        "Class = X_train.dot(projection_matrix)\n",
        "with plt.style.context('seaborn-whitegrid'):\n",
        "    plt.figure(figsize=(6, 4))\n",
        "    for lab, col in zip(('Iris-setosa', 'Iris-versicolor', 'Iris-virginica'),\n",
        "                        ('blue', 'red', 'green')):\n",
        "        plt.scatter(Class[y_train==lab, 0],\n",
        "                    Class[y_train==lab, 1],\n",
        "                    label=lab,\n",
        "                    c=col)\n",
        "    plt.xlabel('Principal Component 1')\n",
        "    plt.ylabel('Principal Component 2')\n",
        "    plt.legend(loc='best')\n",
        "    plt.tight_layout()\n",
        "    plt.show()"
      ],
      "execution_count": 936,
      "outputs": [
        {
          "output_type": "display_data",
          "data": {
            "image/png": "[encoded data removed]",
            "text/plain": [
              "<Figure size 432x288 with 1 Axes>"
            ]
          },
          "metadata": {
            "tags": []
          }
        }
      ]
    },
    {
      "cell_type": "markdown",
      "metadata": {
        "id": "oaOgAdkMeItq"
      },
      "source": [
        "## ***QUES 2***"
      ]
    },
    {
      "cell_type": "code",
      "metadata": {
        "id": "5ufj4Ne4eLmN"
      },
      "source": [
        "from sklearn.discriminant_analysis import LinearDiscriminantAnalysis\n",
        "\n",
        "lda_1 = LinearDiscriminantAnalysis(n_components=2)\n",
        "X_transformed_lda = lda_1.fit(X_train, y_train).transform(X_train)\n",
        "X_test_transformed_2 =lda_1.transform(X_test)"
      ],
      "execution_count": 937,
      "outputs": []
    },
    {
      "cell_type": "code",
      "metadata": {
        "colab": {
          "base_uri": "https://localhost:8080/"
        },
        "id": "Tna8M94Olm7-",
        "outputId": "10980dcf-9e43-46c5-bc8b-4ac68593e6a6"
      },
      "source": [
        "variance_percent_lda = lda_1.explained_variance_ratio_\n",
        "print(\"THE VARIANCE PERCENT FOR BOTH PRINCIPAL COMPONENT\")\n",
        "print(variance_percent_lda)"
      ],
      "execution_count": 938,
      "outputs": [
        {
          "output_type": "stream",
          "text": [
            "THE VARIANCE PERCENT FOR BOTH PRINCIPAL COMPONENT\n",
            "[0.99128129 0.00871871]\n"
          ],
          "name": "stdout"
        }
      ]
    },
    {
      "cell_type": "code",
      "metadata": {
        "colab": {
          "base_uri": "https://localhost:8080/"
        },
        "id": "fgAelAoBlzzj",
        "outputId": "c257a8eb-531d-4530-83d0-7113c125e60a"
      },
      "source": [
        "cum_sum_lda_1=np.cumsum(np.round(lda_1.explained_variance_ratio_, decimals=3)*100)\n",
        "print(\"THE CUMULATIVE SUM OF VARAINCE\")\n",
        "print(cum_sum_lda_1 )#cumulative sum of variance explained with [n] features"
      ],
      "execution_count": 939,
      "outputs": [
        {
          "output_type": "stream",
          "text": [
            "THE CUMULATIVE SUM OF VARAINCE\n",
            "[ 99.1 100. ]\n"
          ],
          "name": "stdout"
        }
      ]
    },
    {
      "cell_type": "code",
      "metadata": {
        "colab": {
          "base_uri": "https://localhost:8080/",
          "height": 318
        },
        "id": "XT9GdbxdmCH6",
        "outputId": "dec26501-f3b0-4ee3-f17d-d1001c39f04a"
      },
      "source": [
        "plt.ylabel('% Cumulative Variance Explained')\n",
        "plt.xlabel('No of Features')\n",
        "plt.title('PCA Analysis')\n",
        "plt.xticks(np.arange(0, 4, step=1),(1,2,3,4))\n",
        "#plt.xlim(1,X.shape[1]+1)\n",
        "#plt.ylim(30,100.5)\n",
        "plt.style.context('seaborn-whitegrid')\n",
        "\n",
        "\n",
        "plt.plot(cum_sum_lda_1)\n",
        "# plt.plot(variance_percent)"
      ],
      "execution_count": 940,
      "outputs": [
        {
          "output_type": "execute_result",
          "data": {
            "text/plain": [
              "[<matplotlib.lines.Line2D at 0x7fb4b2ebd6d0>]"
            ]
          },
          "metadata": {
            "tags": []
          },
          "execution_count": 940
        },
        {
          "output_type": "display_data",
          "data": {
            "image/png": "[encoded data removed]",
            "text/plain": [
              "<Figure size 432x288 with 1 Axes>"
            ]
          },
          "metadata": {
            "tags": [],
            "needs_background": "light"
          }
        }
      ]
    },
    {
      "cell_type": "markdown",
      "metadata": {
        "id": "T6zTqlTymlxM"
      },
      "source": [
        "## **COMPARISIN OF PCA AND LDA**"
      ]
    },
    {
      "cell_type": "code",
      "metadata": {
        "colab": {
          "base_uri": "https://localhost:8080/"
        },
        "id": "EXu01cVUokSn",
        "outputId": "76313965-e979-4751-e20c-5e38005f1c38"
      },
      "source": [
        "print(\"the classifier for pca\")\n",
        "print(pca_2)\n",
        "print(\"  \")\n",
        "print(\"the classifer for lda\")\n",
        "print(lda_1)"
      ],
      "execution_count": 941,
      "outputs": [
        {
          "output_type": "stream",
          "text": [
            "the classifier for pca\n",
            "PCA(copy=True, iterated_power='auto', n_components=2, random_state=None,\n",
            "    svd_solver='auto', tol=0.0, whiten=True)\n",
            "  \n",
            "the classifer for lda\n",
            "LinearDiscriminantAnalysis(n_components=2, priors=None, shrinkage=None,\n",
            "                           solver='svd', store_covariance=False, tol=0.0001)\n"
          ],
          "name": "stdout"
        }
      ]
    },
    {
      "cell_type": "code",
      "metadata": {
        "colab": {
          "base_uri": "https://localhost:8080/"
        },
        "id": "L2KqrNxyHnzL",
        "outputId": "63d3b178-d113-4772-9992-e7fc7a19e6ad"
      },
      "source": [
        "variance_percent_1 = pca_2.explained_variance_ratio_\n",
        "print(\"THE VARIANCE PERCENT FOR BOTH PRINCIPAL COMPONENT(PCA)\")\n",
        "print(variance_percent_1)"
      ],
      "execution_count": 942,
      "outputs": [
        {
          "output_type": "stream",
          "text": [
            "THE VARIANCE PERCENT FOR BOTH PRINCIPAL COMPONENT(PCA)\n",
            "[0.72226528 0.23974795]\n"
          ],
          "name": "stdout"
        }
      ]
    },
    {
      "cell_type": "code",
      "metadata": {
        "colab": {
          "base_uri": "https://localhost:8080/"
        },
        "id": "jik80TpoFR_3",
        "outputId": "a29e4cd6-eef0-453d-e410-a551129a144b"
      },
      "source": [
        "cum_sum_1=np.cumsum(np.round(pca_2.explained_variance_ratio_, decimals=3)*100)\n",
        "print(\"THE CUMULATIVE SUM OF VARAINCE(PCA)\")\n",
        "print(cum_sum_1 )#cumulative sum of variance explained with [n] features"
      ],
      "execution_count": 943,
      "outputs": [
        {
          "output_type": "stream",
          "text": [
            "THE CUMULATIVE SUM OF VARAINCE(PCA)\n",
            "[72.2 96.2]\n"
          ],
          "name": "stdout"
        }
      ]
    },
    {
      "cell_type": "code",
      "metadata": {
        "colab": {
          "base_uri": "https://localhost:8080/",
          "height": 318
        },
        "id": "IidBfzvfFRBk",
        "outputId": "e73a00fe-e1f7-45c9-f880-6bacd0b7b8ce"
      },
      "source": [
        "plt.ylabel('% Cumulative Variance Explained(PCA)')\n",
        "plt.xlabel('No of Features')\n",
        "plt.title('PCA Analysis')\n",
        "plt.xticks(np.arange(0, 4, step=1),(1,2,3,4))\n",
        "#plt.xlim(1,X.shape[1]+1)\n",
        "#plt.ylim(30,100.5)\n",
        "plt.style.context('seaborn-whitegrid')\n",
        "\n",
        "\n",
        "plt.plot(cum_sum_1)\n",
        "# plt.plot(variance_percent)"
      ],
      "execution_count": 944,
      "outputs": [
        {
          "output_type": "execute_result",
          "data": {
            "text/plain": [
              "[<matplotlib.lines.Line2D at 0x7fb4b143ed90>]"
            ]
          },
          "metadata": {
            "tags": []
          },
          "execution_count": 944
        },
        {
          "output_type": "display_data",
          "data": {
            "image/png": "[encoded data removed]",
            "text/plain": [
              "<Figure size 432x288 with 1 Axes>"
            ]
          },
          "metadata": {
            "tags": [],
            "needs_background": "light"
          }
        }
      ]
    },
    {
      "cell_type": "code",
      "metadata": {
        "colab": {
          "base_uri": "https://localhost:8080/"
        },
        "id": "VxmtLInLH2gE",
        "outputId": "a665055e-56be-453c-c526-3b7bc9b3f4b7"
      },
      "source": [
        "variance_percent_2 = lda_1.explained_variance_ratio_\n",
        "print(\"THE VARIANCE PERCENT FOR BOTH LINEAR DISCRIMINANT(LDA)\")\n",
        "print(variance_percent_2)"
      ],
      "execution_count": 945,
      "outputs": [
        {
          "output_type": "stream",
          "text": [
            "THE VARIANCE PERCENT FOR BOTH LINEAR DISCRIMINANT(LDA)\n",
            "[0.99128129 0.00871871]\n"
          ],
          "name": "stdout"
        }
      ]
    },
    {
      "cell_type": "code",
      "metadata": {
        "colab": {
          "base_uri": "https://localhost:8080/"
        },
        "id": "euedTjdyFcxH",
        "outputId": "b342c8d2-925a-4aec-c95a-ae16f0c4b3ab"
      },
      "source": [
        "cum_sum_lda_1=np.cumsum(np.round(lda_1.explained_variance_ratio_, decimals=3)*100)\n",
        "print(\"THE CUMULATIVE SUM OF VARAINCE(LDA)\")\n",
        "print(cum_sum_lda_1 )#cumulative sum of variance explained with [n] features"
      ],
      "execution_count": 946,
      "outputs": [
        {
          "output_type": "stream",
          "text": [
            "THE CUMULATIVE SUM OF VARAINCE(LDA)\n",
            "[ 99.1 100. ]\n"
          ],
          "name": "stdout"
        }
      ]
    },
    {
      "cell_type": "code",
      "metadata": {
        "colab": {
          "base_uri": "https://localhost:8080/",
          "height": 318
        },
        "id": "6oZ6edeQFenf",
        "outputId": "5ca8eb23-0a8a-4cb4-cf22-849f7c17dfcf"
      },
      "source": [
        "plt.ylabel('% Cumulative Variance Explained(LDA)')\n",
        "plt.xlabel('No of Features')\n",
        "plt.title('LDA Analysis')\n",
        "plt.xticks(np.arange(0, 4, step=1),(1,2,3,4))\n",
        "#plt.xlim(1,X.shape[1]+1)\n",
        "#plt.ylim(30,100.5)\n",
        "plt.style.context('seaborn-whitegrid')\n",
        "\n",
        "\n",
        "plt.plot(cum_sum_lda_1)\n",
        "# plt.plot(variance_percent)"
      ],
      "execution_count": 947,
      "outputs": [
        {
          "output_type": "execute_result",
          "data": {
            "text/plain": [
              "[<matplotlib.lines.Line2D at 0x7fb4b156fcd0>]"
            ]
          },
          "metadata": {
            "tags": []
          },
          "execution_count": 947
        },
        {
          "output_type": "display_data",
          "data": {
            "image/png": "[encoded data removed]",
            "text/plain": [
              "<Figure size 432x288 with 1 Axes>"
            ]
          },
          "metadata": {
            "tags": [],
            "needs_background": "light"
          }
        }
      ]
    },
    {
      "cell_type": "markdown",
      "metadata": {
        "id": "Oz10v03bm1X8"
      },
      "source": [
        "## **PLOT USING FIRST TWO PRINCIPAL COMPONENTS AND FIRST TWO LINEAR DISCRIMINANT**"
      ]
    },
    {
      "cell_type": "code",
      "metadata": {
        "colab": {
          "base_uri": "https://localhost:8080/",
          "height": 550
        },
        "id": "_3iz5Zd2ekfS",
        "outputId": "c5097bbe-c4fb-4b92-ab00-22fc8b6a24af"
      },
      "source": [
        "\n",
        "plt.figure()\n",
        "colors = ['navy', 'turquoise', 'darkorange']\n",
        "lw = 2\n",
        "\n",
        "for color, i, target_name in zip(colors, ('Iris-setosa', 'Iris-versicolor', 'Iris-virginica'), y_train):\n",
        "    plt.scatter(X_transformed_pca_1[y_train == i, 0], X_transformed_pca_1[y_train == i, 1], color=color, alpha=.8, lw=lw,\n",
        "                label=i)\n",
        "plt.legend(loc='best', shadow=False, scatterpoints=1)\n",
        "plt.title('PCA of IRIS dataset')\n",
        "\n",
        "plt.figure()\n",
        "for color, i, target_name in zip(colors, ('Iris-setosa', 'Iris-versicolor', 'Iris-virginica'), y):\n",
        "    plt.scatter(X_transformed_lda[y_train == i, 0], X_transformed_lda[y_train == i, 1], alpha=.8, color=color,\n",
        "                label=i)\n",
        "plt.legend(loc='best', shadow=False, scatterpoints=1)\n",
        "plt.title('LDA of IRIS dataset')\n",
        "\n",
        "plt.show()"
      ],
      "execution_count": 948,
      "outputs": [
        {
          "output_type": "display_data",
          "data": {
            "image/png": "[encoded data removed]",
            "text/plain": [
              "<Figure size 432x288 with 1 Axes>"
            ]
          },
          "metadata": {
            "tags": [],
            "needs_background": "light"
          }
        },
        {
          "output_type": "display_data",
          "data": {
            "image/png": "[encoded data removed]",
            "text/plain": [
              "<Figure size 432x288 with 1 Axes>"
            ]
          },
          "metadata": {
            "tags": [],
            "needs_background": "light"
          }
        }
      ]
    },
    {
      "cell_type": "code",
      "metadata": {
        "id": "ImMX0L5rM_Su"
      },
      "source": [
        "#IF WE CLEARLY OBSERVE BOTH THE PLOTS WE CAN CONCLUDE THAT LDA SEPARATES THE FEATURE MORE ACCURATELY THAN PCA AS WE CAN SEE for CLASS \n",
        "# IRIS-VERSICOLOR THAT IT IS CLEARLY SEPARATED WHEN APPLIED LDA BUT SOME OF IT DATAPOINTS MERGE OR OVERLAP WITH IRIS-VIRGINICA WHEN APPLID PCA"
      ],
      "execution_count": 949,
      "outputs": []
    },
    {
      "cell_type": "markdown",
      "metadata": {
        "id": "woVkOxh1nExL"
      },
      "source": [
        "## **TRAINING OF BAYES CLASSIFIER AND COMPARISON OF PERFORMANCE WITHOUT PCA AND LDA AND WITH PCA AND LDA**"
      ]
    },
    {
      "cell_type": "code",
      "metadata": {
        "colab": {
          "base_uri": "https://localhost:8080/"
        },
        "id": "9u9FkBu9oFnJ",
        "outputId": "16159aa7-8293-40bc-fdbe-3e3bb975e7f0"
      },
      "source": [
        "from sklearn.naive_bayes import GaussianNB\n",
        "\n",
        "#Fit model\n",
        "model_NB = GaussianNB(priors = None)\n",
        "model_NB.fit(X_train_copy,y_train_copy)"
      ],
      "execution_count": 950,
      "outputs": [
        {
          "output_type": "execute_result",
          "data": {
            "text/plain": [
              "GaussianNB(priors=None, var_smoothing=1e-09)"
            ]
          },
          "metadata": {
            "tags": []
          },
          "execution_count": 950
        }
      ]
    },
    {
      "cell_type": "code",
      "metadata": {
        "colab": {
          "base_uri": "https://localhost:8080/"
        },
        "id": "kFj_bQaKzvrk",
        "outputId": "96687369-36ad-43fd-9b41-2649b22495e4"
      },
      "source": [
        "print(\"Predictions using Naive Bayes on original features\")\n",
        "y_pred = model_NB.predict(X_test_copy)\n",
        "print(y_pred)"
      ],
      "execution_count": 951,
      "outputs": [
        {
          "output_type": "stream",
          "text": [
            "Predictions using Naive Bayes on original features\n",
            "['Iris-virginica' 'Iris-versicolor' 'Iris-setosa' 'Iris-virginica'\n",
            " 'Iris-setosa' 'Iris-virginica' 'Iris-setosa' 'Iris-versicolor'\n",
            " 'Iris-versicolor' 'Iris-versicolor' 'Iris-versicolor' 'Iris-versicolor'\n",
            " 'Iris-versicolor' 'Iris-versicolor' 'Iris-versicolor' 'Iris-setosa'\n",
            " 'Iris-versicolor' 'Iris-versicolor' 'Iris-setosa' 'Iris-setosa'\n",
            " 'Iris-virginica' 'Iris-versicolor' 'Iris-setosa' 'Iris-setosa'\n",
            " 'Iris-virginica' 'Iris-setosa' 'Iris-setosa' 'Iris-versicolor'\n",
            " 'Iris-versicolor' 'Iris-setosa']\n"
          ],
          "name": "stdout"
        }
      ]
    },
    {
      "cell_type": "code",
      "metadata": {
        "colab": {
          "base_uri": "https://localhost:8080/"
        },
        "id": "K5h8MwUX8lBb",
        "outputId": "660b787d-ef38-43b0-f1cd-ab0a70e6939b"
      },
      "source": [
        "from sklearn.metrics import confusion_matrix\n",
        "cm = confusion_matrix(y_test, y_pred)\n",
        "print(\"The Confusion Matrix is\")\n",
        "print(cm)"
      ],
      "execution_count": 952,
      "outputs": [
        {
          "output_type": "stream",
          "text": [
            "The Confusion Matrix is\n",
            "[[11  0  0]\n",
            " [ 0 13  0]\n",
            " [ 0  1  5]]\n"
          ],
          "name": "stdout"
        }
      ]
    },
    {
      "cell_type": "code",
      "metadata": {
        "colab": {
          "base_uri": "https://localhost:8080/"
        },
        "id": "mMW803lRz5OL",
        "outputId": "72bd6ef9-ff85-4f5d-a400-f48621528348"
      },
      "source": [
        "# model_NB.score(X_test_copy,y_test_copy)\n",
        "from sklearn.metrics import accuracy_score\n",
        "print(\"THE ACCURACY SCORE FOR NAIVE BAYES WITH ORIGINAL FEATURES:\",accuracy_score(y_test, y_pred))"
      ],
      "execution_count": 953,
      "outputs": [
        {
          "output_type": "stream",
          "text": [
            "THE ACCURACY SCORE FOR NAIVE BAYES WITH ORIGINAL FEATURES: 0.9666666666666667\n"
          ],
          "name": "stdout"
        }
      ]
    },
    {
      "cell_type": "code",
      "metadata": {
        "colab": {
          "base_uri": "https://localhost:8080/"
        },
        "id": "xGQoV-Wz0E5l",
        "outputId": "77c2c642-5cb0-49c8-a2a0-4ec9940c28d5"
      },
      "source": [
        "model_NB_transformed_pca = GaussianNB(priors = None)\n",
        "model_NB_transformed_pca.fit(X_transformed_pca_1,y_train)"
      ],
      "execution_count": 954,
      "outputs": [
        {
          "output_type": "execute_result",
          "data": {
            "text/plain": [
              "GaussianNB(priors=None, var_smoothing=1e-09)"
            ]
          },
          "metadata": {
            "tags": []
          },
          "execution_count": 954
        }
      ]
    },
    {
      "cell_type": "code",
      "metadata": {
        "colab": {
          "base_uri": "https://localhost:8080/"
        },
        "id": "xs0zVyoY6u_i",
        "outputId": "adf71ba0-df69-4b78-d2d0-d37d27887a57"
      },
      "source": [
        "print(\"Predictions using Naive Bayes after applying PCA\")\n",
        "y_pred_pca = model_NB_transformed_pca.predict(X_test_transformed_1)\n",
        "print(y_pred_pca)"
      ],
      "execution_count": 955,
      "outputs": [
        {
          "output_type": "stream",
          "text": [
            "Predictions using Naive Bayes after applying PCA\n",
            "['Iris-virginica' 'Iris-versicolor' 'Iris-setosa' 'Iris-virginica'\n",
            " 'Iris-setosa' 'Iris-virginica' 'Iris-setosa' 'Iris-virginica'\n",
            " 'Iris-virginica' 'Iris-versicolor' 'Iris-versicolor' 'Iris-versicolor'\n",
            " 'Iris-versicolor' 'Iris-versicolor' 'Iris-versicolor' 'Iris-setosa'\n",
            " 'Iris-versicolor' 'Iris-versicolor' 'Iris-setosa' 'Iris-setosa'\n",
            " 'Iris-versicolor' 'Iris-versicolor' 'Iris-setosa' 'Iris-setosa'\n",
            " 'Iris-virginica' 'Iris-setosa' 'Iris-setosa' 'Iris-versicolor'\n",
            " 'Iris-versicolor' 'Iris-setosa']\n"
          ],
          "name": "stdout"
        }
      ]
    },
    {
      "cell_type": "code",
      "metadata": {
        "colab": {
          "base_uri": "https://localhost:8080/"
        },
        "id": "T0HBimxY2rEt",
        "outputId": "b359f239-9746-4310-c367-c4d90069ca1f"
      },
      "source": [
        "# model_NB_transformed_pca.score(X_test_transformed_1,y_test)\n",
        "cm_pca = confusion_matrix(y_test, y_pred_pca)\n",
        "print(\"The Confusion Matrix is(PCA)\")\n",
        "print(cm_pca)"
      ],
      "execution_count": 956,
      "outputs": [
        {
          "output_type": "stream",
          "text": [
            "The Confusion Matrix is(PCA)\n",
            "[[11  0  0]\n",
            " [ 0 11  2]\n",
            " [ 0  2  4]]\n"
          ],
          "name": "stdout"
        }
      ]
    },
    {
      "cell_type": "code",
      "metadata": {
        "colab": {
          "base_uri": "https://localhost:8080/"
        },
        "id": "ksN_lVHL-UE4",
        "outputId": "109c06a2-a983-4268-a9e4-d2cb5fcf014e"
      },
      "source": [
        "print(\"THE ACCURACY SCORE FOR NAIVE BAYES AFTER APPLYING PCA:\",accuracy_score(y_test, y_pred_pca))"
      ],
      "execution_count": 957,
      "outputs": [
        {
          "output_type": "stream",
          "text": [
            "THE ACCURACY SCORE FOR NAIVE BAYES AFTER APPLYING PCA: 0.8666666666666667\n"
          ],
          "name": "stdout"
        }
      ]
    },
    {
      "cell_type": "code",
      "metadata": {
        "colab": {
          "base_uri": "https://localhost:8080/"
        },
        "id": "t7nuB3vu5BmW",
        "outputId": "33e6cebb-6b44-4f0e-cbcb-a37deefc5335"
      },
      "source": [
        "model_NB_transformed_lda = GaussianNB(priors = None)\n",
        "model_NB_transformed_lda.fit(X_transformed_lda,y_train)"
      ],
      "execution_count": 958,
      "outputs": [
        {
          "output_type": "execute_result",
          "data": {
            "text/plain": [
              "GaussianNB(priors=None, var_smoothing=1e-09)"
            ]
          },
          "metadata": {
            "tags": []
          },
          "execution_count": 958
        }
      ]
    },
    {
      "cell_type": "code",
      "metadata": {
        "colab": {
          "base_uri": "https://localhost:8080/"
        },
        "id": "NXVKcnHA63dN",
        "outputId": "2d4029b8-043e-429e-d48d-e51ebb4fee84"
      },
      "source": [
        "print(\"Predictions using Naive Bayes after applying LDA\")\n",
        "y_pred_lda = model_NB_transformed_lda.predict(X_test_transformed_2)\n",
        "print(y_pred_lda)"
      ],
      "execution_count": 959,
      "outputs": [
        {
          "output_type": "stream",
          "text": [
            "Predictions using Naive Bayes after applying LDA\n",
            "['Iris-virginica' 'Iris-versicolor' 'Iris-setosa' 'Iris-virginica'\n",
            " 'Iris-setosa' 'Iris-virginica' 'Iris-setosa' 'Iris-versicolor'\n",
            " 'Iris-versicolor' 'Iris-versicolor' 'Iris-virginica' 'Iris-versicolor'\n",
            " 'Iris-versicolor' 'Iris-versicolor' 'Iris-versicolor' 'Iris-setosa'\n",
            " 'Iris-versicolor' 'Iris-versicolor' 'Iris-setosa' 'Iris-setosa'\n",
            " 'Iris-virginica' 'Iris-versicolor' 'Iris-setosa' 'Iris-setosa'\n",
            " 'Iris-virginica' 'Iris-setosa' 'Iris-setosa' 'Iris-versicolor'\n",
            " 'Iris-versicolor' 'Iris-setosa']\n"
          ],
          "name": "stdout"
        }
      ]
    },
    {
      "cell_type": "code",
      "metadata": {
        "colab": {
          "base_uri": "https://localhost:8080/"
        },
        "id": "7OYXmpLa5js6",
        "outputId": "3ca4133e-b2cc-4eb4-9cb7-190bd9365068"
      },
      "source": [
        "# model_NB_transformed_lda.score(X_test_transformed_2,y_test)\n",
        "cm_lda= confusion_matrix(y_test, y_pred_lda)\n",
        "print(\"The Confusion Matrix(LDA) is\")\n",
        "print(cm_lda)"
      ],
      "execution_count": 960,
      "outputs": [
        {
          "output_type": "stream",
          "text": [
            "The Confusion Matrix(LDA) is\n",
            "[[11  0  0]\n",
            " [ 0 13  0]\n",
            " [ 0  0  6]]\n"
          ],
          "name": "stdout"
        }
      ]
    },
    {
      "cell_type": "code",
      "metadata": {
        "colab": {
          "base_uri": "https://localhost:8080/"
        },
        "id": "pHKCRSRJ-nvW",
        "outputId": "b4828a3e-17d0-4dad-9a40-0985b8601a39"
      },
      "source": [
        "print(\"THE ACCURACY SCORE FOR NAIVE BAYES AFTER APPLYING LDA:\",accuracy_score(y_test, y_pred_lda))"
      ],
      "execution_count": 961,
      "outputs": [
        {
          "output_type": "stream",
          "text": [
            "THE ACCURACY SCORE FOR NAIVE BAYES AFTER APPLYING LDA: 1.0\n"
          ],
          "name": "stdout"
        }
      ]
    },
    {
      "cell_type": "markdown",
      "metadata": {
        "id": "fKyBwO63wYSb"
      },
      "source": [
        "**EXTRA ANALYSIS**"
      ]
    },
    {
      "cell_type": "code",
      "metadata": {
        "colab": {
          "base_uri": "https://localhost:8080/"
        },
        "id": "w1xq78VcwW2n",
        "outputId": "90e04f3d-e934-4da4-bf88-7a99b105abbc"
      },
      "source": [
        "from sklearn.cluster import KMeans\n",
        "#Fit model\n",
        "model_KMeans = KNeighborsClassifier(n_neighbors=5)\n",
        "model_KMeans.fit(X_train_copy,y_train_copy)"
      ],
      "execution_count": 962,
      "outputs": [
        {
          "output_type": "execute_result",
          "data": {
            "text/plain": [
              "KNeighborsClassifier(algorithm='auto', leaf_size=30, metric='minkowski',\n",
              "                     metric_params=None, n_jobs=None, n_neighbors=5, p=2,\n",
              "                     weights='uniform')"
            ]
          },
          "metadata": {
            "tags": []
          },
          "execution_count": 962
        }
      ]
    },
    {
      "cell_type": "code",
      "metadata": {
        "colab": {
          "base_uri": "https://localhost:8080/"
        },
        "id": "DftTqKqsxnxK",
        "outputId": "0580d0e5-b172-4e49-fd88-cd9d5b614516"
      },
      "source": [
        "print(\"Predictions using Naive KMenas on original features\")\n",
        "y_pred_K = model_KMeans.predict(X_test_copy)\n",
        "print(y_pred_K)"
      ],
      "execution_count": 963,
      "outputs": [
        {
          "output_type": "stream",
          "text": [
            "Predictions using Naive KMenas on original features\n",
            "['Iris-virginica' 'Iris-versicolor' 'Iris-setosa' 'Iris-virginica'\n",
            " 'Iris-setosa' 'Iris-virginica' 'Iris-setosa' 'Iris-versicolor'\n",
            " 'Iris-versicolor' 'Iris-versicolor' 'Iris-virginica' 'Iris-versicolor'\n",
            " 'Iris-versicolor' 'Iris-versicolor' 'Iris-virginica' 'Iris-setosa'\n",
            " 'Iris-versicolor' 'Iris-versicolor' 'Iris-setosa' 'Iris-setosa'\n",
            " 'Iris-virginica' 'Iris-versicolor' 'Iris-setosa' 'Iris-setosa'\n",
            " 'Iris-virginica' 'Iris-setosa' 'Iris-setosa' 'Iris-versicolor'\n",
            " 'Iris-versicolor' 'Iris-setosa']\n"
          ],
          "name": "stdout"
        }
      ]
    },
    {
      "cell_type": "code",
      "metadata": {
        "colab": {
          "base_uri": "https://localhost:8080/"
        },
        "id": "bsjsDAJ0xyhi",
        "outputId": "0f588813-f3ff-4494-a77a-d4054904df91"
      },
      "source": [
        "from sklearn.metrics import confusion_matrix\n",
        "cm_K = confusion_matrix(y_test, y_pred_K)\n",
        "print(\"The Confusion Matrix is\")\n",
        "print(cm_K)"
      ],
      "execution_count": 964,
      "outputs": [
        {
          "output_type": "stream",
          "text": [
            "The Confusion Matrix is\n",
            "[[11  0  0]\n",
            " [ 0 12  1]\n",
            " [ 0  0  6]]\n"
          ],
          "name": "stdout"
        }
      ]
    },
    {
      "cell_type": "code",
      "metadata": {
        "colab": {
          "base_uri": "https://localhost:8080/"
        },
        "id": "dOqiRixQx9MK",
        "outputId": "27696175-b0d5-44d9-cd2f-8d43db89e932"
      },
      "source": [
        "print(\"THE ACCURACY SCORE FOR Kmeans WITH ORIGINAL FEATURES:\",accuracy_score(y_test, y_pred_K))"
      ],
      "execution_count": 965,
      "outputs": [
        {
          "output_type": "stream",
          "text": [
            "THE ACCURACY SCORE FOR Kmeans WITH ORIGINAL FEATURES: 0.9666666666666667\n"
          ],
          "name": "stdout"
        }
      ]
    },
    {
      "cell_type": "code",
      "metadata": {
        "colab": {
          "base_uri": "https://localhost:8080/"
        },
        "id": "jhQma7YoyIDq",
        "outputId": "29b51fdc-4df8-45bc-9795-e67a864a5b42"
      },
      "source": [
        "model_K_transformed_pca = KNeighborsClassifier(n_neighbors=5)\n",
        "model_K_transformed_pca.fit(X_transformed_pca_1,y_train)\n",
        "\n",
        "y_pred_pca_K = model_K_transformed_pca.predict(X_test_transformed_1)\n",
        "\n",
        "cm_pca_K = confusion_matrix(y_test, y_pred_pca_K)\n",
        "print(\"The Confusion Matrix is(PCA)-->KMEANS\")\n",
        "print(cm_pca_K)\n",
        "\n",
        "print(\"THE ACCURACY SCORE FOR KMEANS AFTER APPLYING PCA:\",accuracy_score(y_test, y_pred_pca_K))"
      ],
      "execution_count": 966,
      "outputs": [
        {
          "output_type": "stream",
          "text": [
            "The Confusion Matrix is(PCA)-->KMEANS\n",
            "[[11  0  0]\n",
            " [ 0 11  2]\n",
            " [ 0  0  6]]\n",
            "THE ACCURACY SCORE FOR KMEANS AFTER APPLYING PCA: 0.9333333333333333\n"
          ],
          "name": "stdout"
        }
      ]
    },
    {
      "cell_type": "code",
      "metadata": {
        "colab": {
          "base_uri": "https://localhost:8080/"
        },
        "id": "3VV2dtBPzLRj",
        "outputId": "2accee81-bce2-46f8-b248-d064bb6e975d"
      },
      "source": [
        "model_K_transformed_lda =  KNeighborsClassifier(n_neighbors=5)\n",
        "model_K_transformed_lda.fit(X_transformed_lda,y_train)\n",
        "\n",
        "y_pred_lda_K = model_K_transformed_lda.predict(X_test_transformed_2)\n",
        "\n",
        "cm_lda_K= confusion_matrix(y_test, y_pred_lda_K)\n",
        "print(\"The Confusion Matrix(LDA)  FOR KMEANS is\")\n",
        "print(cm_lda_K)\n",
        "\n",
        "print(\"THE ACCURACY SCORE FOR KMEANS AFTER APPLYING LDA:\",accuracy_score(y_test, y_pred_lda_K))"
      ],
      "execution_count": 967,
      "outputs": [
        {
          "output_type": "stream",
          "text": [
            "The Confusion Matrix(LDA)  FOR KMEANS is\n",
            "[[11  0  0]\n",
            " [ 0 13  0]\n",
            " [ 0  0  6]]\n",
            "THE ACCURACY SCORE FOR KMEANS AFTER APPLYING LDA: 1.0\n"
          ],
          "name": "stdout"
        }
      ]
    },
    {
      "cell_type": "markdown",
      "metadata": {
        "id": "lVjozCtg_bIU"
      },
      "source": [
        "## ***QUES 3***"
      ]
    },
    {
      "cell_type": "code",
      "metadata": {
        "colab": {
          "base_uri": "https://localhost:8080/",
          "height": 392
        },
        "id": "H-uYPXzw_dli",
        "outputId": "56b29c0d-abf2-4bb2-d4e9-ee2effbe0703"
      },
      "source": [
        "diabetes = pd.read_csv(\"/content/diabetes.csv\")\n",
        "diabetes"
      ],
      "execution_count": 968,
      "outputs": [
        {
          "output_type": "execute_result",
          "data": {
            "text/html": [
              "<div>\n",
              "<style scoped>\n",
              "    .dataframe tbody tr th:only-of-type {\n",
              "        vertical-align: middle;\n",
              "    }\n",
              "\n",
              "    .dataframe tbody tr th {\n",
              "        vertical-align: top;\n",
              "    }\n",
              "\n",
              "    .dataframe thead th {\n",
              "        text-align: right;\n",
              "    }\n",
              "</style>\n",
              "<table border=\"1\" class=\"dataframe\">\n",
              "  <thead>\n",
              "    <tr style=\"text-align: right;\">\n",
              "      <th></th>\n",
              "      <th>Pregnancies</th>\n",
              "      <th>Glucose</th>\n",
              "      <th>BloodPressure</th>\n",
              "      <th>SkinThickness</th>\n",
              "      <th>Insulin</th>\n",
              "      <th>BMI</th>\n",
              "      <th>DiabetesPedigreeFunction</th>\n",
              "      <th>Age</th>\n",
              "      <th>Outcome</th>\n",
              "    </tr>\n",
              "  </thead>\n",
              "  <tbody>\n",
              "    <tr>\n",
              "      <th>0</th>\n",
              "      <td>6</td>\n",
              "      <td>148</td>\n",
              "      <td>72</td>\n",
              "      <td>35</td>\n",
              "      <td>0</td>\n",
              "      <td>33.6</td>\n",
              "      <td>0.627</td>\n",
              "      <td>50</td>\n",
              "      <td>1</td>\n",
              "    </tr>\n",
              "    <tr>\n",
              "      <th>1</th>\n",
              "      <td>1</td>\n",
              "      <td>85</td>\n",
              "      <td>66</td>\n",
              "      <td>29</td>\n",
              "      <td>0</td>\n",
              "      <td>26.6</td>\n",
              "      <td>0.351</td>\n",
              "      <td>31</td>\n",
              "      <td>0</td>\n",
              "    </tr>\n",
              "    <tr>\n",
              "      <th>2</th>\n",
              "      <td>8</td>\n",
              "      <td>183</td>\n",
              "      <td>64</td>\n",
              "      <td>0</td>\n",
              "      <td>0</td>\n",
              "      <td>23.3</td>\n",
              "      <td>0.672</td>\n",
              "      <td>32</td>\n",
              "      <td>1</td>\n",
              "    </tr>\n",
              "    <tr>\n",
              "      <th>3</th>\n",
              "      <td>1</td>\n",
              "      <td>89</td>\n",
              "      <td>66</td>\n",
              "      <td>23</td>\n",
              "      <td>94</td>\n",
              "      <td>28.1</td>\n",
              "      <td>0.167</td>\n",
              "      <td>21</td>\n",
              "      <td>0</td>\n",
              "    </tr>\n",
              "    <tr>\n",
              "      <th>4</th>\n",
              "      <td>0</td>\n",
              "      <td>137</td>\n",
              "      <td>40</td>\n",
              "      <td>35</td>\n",
              "      <td>168</td>\n",
              "      <td>43.1</td>\n",
              "      <td>2.288</td>\n",
              "      <td>33</td>\n",
              "      <td>1</td>\n",
              "    </tr>\n",
              "    <tr>\n",
              "      <th>...</th>\n",
              "      <td>...</td>\n",
              "      <td>...</td>\n",
              "      <td>...</td>\n",
              "      <td>...</td>\n",
              "      <td>...</td>\n",
              "      <td>...</td>\n",
              "      <td>...</td>\n",
              "      <td>...</td>\n",
              "      <td>...</td>\n",
              "    </tr>\n",
              "    <tr>\n",
              "      <th>763</th>\n",
              "      <td>10</td>\n",
              "      <td>101</td>\n",
              "      <td>76</td>\n",
              "      <td>48</td>\n",
              "      <td>180</td>\n",
              "      <td>32.9</td>\n",
              "      <td>0.171</td>\n",
              "      <td>63</td>\n",
              "      <td>0</td>\n",
              "    </tr>\n",
              "    <tr>\n",
              "      <th>764</th>\n",
              "      <td>2</td>\n",
              "      <td>122</td>\n",
              "      <td>70</td>\n",
              "      <td>27</td>\n",
              "      <td>0</td>\n",
              "      <td>36.8</td>\n",
              "      <td>0.340</td>\n",
              "      <td>27</td>\n",
              "      <td>0</td>\n",
              "    </tr>\n",
              "    <tr>\n",
              "      <th>765</th>\n",
              "      <td>5</td>\n",
              "      <td>121</td>\n",
              "      <td>72</td>\n",
              "      <td>23</td>\n",
              "      <td>112</td>\n",
              "      <td>26.2</td>\n",
              "      <td>0.245</td>\n",
              "      <td>30</td>\n",
              "      <td>0</td>\n",
              "    </tr>\n",
              "    <tr>\n",
              "      <th>766</th>\n",
              "      <td>1</td>\n",
              "      <td>126</td>\n",
              "      <td>60</td>\n",
              "      <td>0</td>\n",
              "      <td>0</td>\n",
              "      <td>30.1</td>\n",
              "      <td>0.349</td>\n",
              "      <td>47</td>\n",
              "      <td>1</td>\n",
              "    </tr>\n",
              "    <tr>\n",
              "      <th>767</th>\n",
              "      <td>1</td>\n",
              "      <td>93</td>\n",
              "      <td>70</td>\n",
              "      <td>31</td>\n",
              "      <td>0</td>\n",
              "      <td>30.4</td>\n",
              "      <td>0.315</td>\n",
              "      <td>23</td>\n",
              "      <td>0</td>\n",
              "    </tr>\n",
              "  </tbody>\n",
              "</table>\n",
              "<p>768 rows × 9 columns</p>\n",
              "</div>"
            ],
            "text/plain": [
              "     Pregnancies  Glucose  ...  Age  Outcome\n",
              "0              6      148  ...   50        1\n",
              "1              1       85  ...   31        0\n",
              "2              8      183  ...   32        1\n",
              "3              1       89  ...   21        0\n",
              "4              0      137  ...   33        1\n",
              "..           ...      ...  ...  ...      ...\n",
              "763           10      101  ...   63        0\n",
              "764            2      122  ...   27        0\n",
              "765            5      121  ...   30        0\n",
              "766            1      126  ...   47        1\n",
              "767            1       93  ...   23        0\n",
              "\n",
              "[768 rows x 9 columns]"
            ]
          },
          "metadata": {
            "tags": []
          },
          "execution_count": 968
        }
      ]
    },
    {
      "cell_type": "markdown",
      "metadata": {
        "id": "DqKWSBIYA2L2"
      },
      "source": [
        "## **BASIC EDA**"
      ]
    },
    {
      "cell_type": "code",
      "metadata": {
        "colab": {
          "base_uri": "https://localhost:8080/"
        },
        "id": "cgLtrAALA3ut",
        "outputId": "572a10af-17da-40fe-b9a9-330874a63baa"
      },
      "source": [
        "diabetes.shape"
      ],
      "execution_count": 969,
      "outputs": [
        {
          "output_type": "execute_result",
          "data": {
            "text/plain": [
              "(768, 9)"
            ]
          },
          "metadata": {
            "tags": []
          },
          "execution_count": 969
        }
      ]
    },
    {
      "cell_type": "code",
      "metadata": {
        "colab": {
          "base_uri": "https://localhost:8080/",
          "height": 277
        },
        "id": "EZlPbaNVA-sv",
        "outputId": "cb4d12f2-d4fb-4e05-8e20-39166e934f79"
      },
      "source": [
        "diabetes.describe()"
      ],
      "execution_count": 970,
      "outputs": [
        {
          "output_type": "execute_result",
          "data": {
            "text/html": [
              "<div>\n",
              "<style scoped>\n",
              "    .dataframe tbody tr th:only-of-type {\n",
              "        vertical-align: middle;\n",
              "    }\n",
              "\n",
              "    .dataframe tbody tr th {\n",
              "        vertical-align: top;\n",
              "    }\n",
              "\n",
              "    .dataframe thead th {\n",
              "        text-align: right;\n",
              "    }\n",
              "</style>\n",
              "<table border=\"1\" class=\"dataframe\">\n",
              "  <thead>\n",
              "    <tr style=\"text-align: right;\">\n",
              "      <th></th>\n",
              "      <th>Pregnancies</th>\n",
              "      <th>Glucose</th>\n",
              "      <th>BloodPressure</th>\n",
              "      <th>SkinThickness</th>\n",
              "      <th>Insulin</th>\n",
              "      <th>BMI</th>\n",
              "      <th>DiabetesPedigreeFunction</th>\n",
              "      <th>Age</th>\n",
              "      <th>Outcome</th>\n",
              "    </tr>\n",
              "  </thead>\n",
              "  <tbody>\n",
              "    <tr>\n",
              "      <th>count</th>\n",
              "      <td>768.000000</td>\n",
              "      <td>768.000000</td>\n",
              "      <td>768.000000</td>\n",
              "      <td>768.000000</td>\n",
              "      <td>768.000000</td>\n",
              "      <td>768.000000</td>\n",
              "      <td>768.000000</td>\n",
              "      <td>768.000000</td>\n",
              "      <td>768.000000</td>\n",
              "    </tr>\n",
              "    <tr>\n",
              "      <th>mean</th>\n",
              "      <td>3.845052</td>\n",
              "      <td>120.894531</td>\n",
              "      <td>69.105469</td>\n",
              "      <td>20.536458</td>\n",
              "      <td>79.799479</td>\n",
              "      <td>31.992578</td>\n",
              "      <td>0.471876</td>\n",
              "      <td>33.240885</td>\n",
              "      <td>0.348958</td>\n",
              "    </tr>\n",
              "    <tr>\n",
              "      <th>std</th>\n",
              "      <td>3.369578</td>\n",
              "      <td>31.972618</td>\n",
              "      <td>19.355807</td>\n",
              "      <td>15.952218</td>\n",
              "      <td>115.244002</td>\n",
              "      <td>7.884160</td>\n",
              "      <td>0.331329</td>\n",
              "      <td>11.760232</td>\n",
              "      <td>0.476951</td>\n",
              "    </tr>\n",
              "    <tr>\n",
              "      <th>min</th>\n",
              "      <td>0.000000</td>\n",
              "      <td>0.000000</td>\n",
              "      <td>0.000000</td>\n",
              "      <td>0.000000</td>\n",
              "      <td>0.000000</td>\n",
              "      <td>0.000000</td>\n",
              "      <td>0.078000</td>\n",
              "      <td>21.000000</td>\n",
              "      <td>0.000000</td>\n",
              "    </tr>\n",
              "    <tr>\n",
              "      <th>25%</th>\n",
              "      <td>1.000000</td>\n",
              "      <td>99.000000</td>\n",
              "      <td>62.000000</td>\n",
              "      <td>0.000000</td>\n",
              "      <td>0.000000</td>\n",
              "      <td>27.300000</td>\n",
              "      <td>0.243750</td>\n",
              "      <td>24.000000</td>\n",
              "      <td>0.000000</td>\n",
              "    </tr>\n",
              "    <tr>\n",
              "      <th>50%</th>\n",
              "      <td>3.000000</td>\n",
              "      <td>117.000000</td>\n",
              "      <td>72.000000</td>\n",
              "      <td>23.000000</td>\n",
              "      <td>30.500000</td>\n",
              "      <td>32.000000</td>\n",
              "      <td>0.372500</td>\n",
              "      <td>29.000000</td>\n",
              "      <td>0.000000</td>\n",
              "    </tr>\n",
              "    <tr>\n",
              "      <th>75%</th>\n",
              "      <td>6.000000</td>\n",
              "      <td>140.250000</td>\n",
              "      <td>80.000000</td>\n",
              "      <td>32.000000</td>\n",
              "      <td>127.250000</td>\n",
              "      <td>36.600000</td>\n",
              "      <td>0.626250</td>\n",
              "      <td>41.000000</td>\n",
              "      <td>1.000000</td>\n",
              "    </tr>\n",
              "    <tr>\n",
              "      <th>max</th>\n",
              "      <td>17.000000</td>\n",
              "      <td>199.000000</td>\n",
              "      <td>122.000000</td>\n",
              "      <td>99.000000</td>\n",
              "      <td>846.000000</td>\n",
              "      <td>67.100000</td>\n",
              "      <td>2.420000</td>\n",
              "      <td>81.000000</td>\n",
              "      <td>1.000000</td>\n",
              "    </tr>\n",
              "  </tbody>\n",
              "</table>\n",
              "</div>"
            ],
            "text/plain": [
              "       Pregnancies     Glucose  ...         Age     Outcome\n",
              "count   768.000000  768.000000  ...  768.000000  768.000000\n",
              "mean      3.845052  120.894531  ...   33.240885    0.348958\n",
              "std       3.369578   31.972618  ...   11.760232    0.476951\n",
              "min       0.000000    0.000000  ...   21.000000    0.000000\n",
              "25%       1.000000   99.000000  ...   24.000000    0.000000\n",
              "50%       3.000000  117.000000  ...   29.000000    0.000000\n",
              "75%       6.000000  140.250000  ...   41.000000    1.000000\n",
              "max      17.000000  199.000000  ...   81.000000    1.000000\n",
              "\n",
              "[8 rows x 9 columns]"
            ]
          },
          "metadata": {
            "tags": []
          },
          "execution_count": 970
        }
      ]
    },
    {
      "cell_type": "code",
      "metadata": {
        "colab": {
          "base_uri": "https://localhost:8080/"
        },
        "id": "aL825YAkBYRq",
        "outputId": "76702a25-086c-449b-c882-5970233ad655"
      },
      "source": [
        "diabetes.info()"
      ],
      "execution_count": 971,
      "outputs": [
        {
          "output_type": "stream",
          "text": [
            "<class 'pandas.core.frame.DataFrame'>\n",
            "RangeIndex: 768 entries, 0 to 767\n",
            "Data columns (total 9 columns):\n",
            " #   Column                    Non-Null Count  Dtype  \n",
            "---  ------                    --------------  -----  \n",
            " 0   Pregnancies               768 non-null    int64  \n",
            " 1   Glucose                   768 non-null    int64  \n",
            " 2   BloodPressure             768 non-null    int64  \n",
            " 3   SkinThickness             768 non-null    int64  \n",
            " 4   Insulin                   768 non-null    int64  \n",
            " 5   BMI                       768 non-null    float64\n",
            " 6   DiabetesPedigreeFunction  768 non-null    float64\n",
            " 7   Age                       768 non-null    int64  \n",
            " 8   Outcome                   768 non-null    int64  \n",
            "dtypes: float64(2), int64(7)\n",
            "memory usage: 54.1 KB\n"
          ],
          "name": "stdout"
        }
      ]
    },
    {
      "cell_type": "code",
      "metadata": {
        "colab": {
          "base_uri": "https://localhost:8080/",
          "height": 284
        },
        "id": "-qjkg2N1CQt_",
        "outputId": "36f58c29-e565-43c3-fc55-71694b39b925"
      },
      "source": [
        "sns.countplot(y=diabetes.Outcome,data=diabetes)\n",
        "plt.xlabel(\"Count of each Target class\")\n",
        "plt.ylabel(\"Target classes\")\n",
        "plt.show()"
      ],
      "execution_count": 972,
      "outputs": [
        {
          "output_type": "display_data",
          "data": {
            "image/png": "[encoded data removed]",
            "text/plain": [
              "<Figure size 432x288 with 1 Axes>"
            ]
          },
          "metadata": {
            "tags": [],
            "needs_background": "light"
          }
        }
      ]
    },
    {
      "cell_type": "code",
      "metadata": {
        "colab": {
          "base_uri": "https://localhost:8080/",
          "height": 718
        },
        "id": "-XdAVIs6CpJz",
        "outputId": "f389c9c4-3a73-4922-f9b7-2a838ad54b91"
      },
      "source": [
        "diabetes.hist(figsize=(15,12))\n",
        "#plt.title(\"Features Distribution\")\n",
        "plt.show()"
      ],
      "execution_count": 973,
      "outputs": [
        {
          "output_type": "display_data",
          "data": {
            "image/png": "[encoded data removed]",
            "text/plain": [
              "<Figure size 1080x864 with 9 Axes>"
            ]
          },
          "metadata": {
            "tags": [],
            "needs_background": "light"
          }
        }
      ]
    },
    {
      "cell_type": "code",
      "metadata": {
        "colab": {
          "base_uri": "https://localhost:8080/",
          "height": 784
        },
        "id": "2zDxBodsFIjg",
        "outputId": "fbb929e9-c1ec-4e04-fc0e-58fdbb9aa613"
      },
      "source": [
        "import missingno as msno\n",
        "p=msno.bar(diabetes)"
      ],
      "execution_count": 974,
      "outputs": [
        {
          "output_type": "display_data",
          "data": {
            "image/png": "[encoded data removed]",
            "text/plain": [
              "<Figure size 1728x720 with 3 Axes>"
            ]
          },
          "metadata": {
            "tags": [],
            "needs_background": "light"
          }
        }
      ]
    },
    {
      "cell_type": "code",
      "metadata": {
        "colab": {
          "base_uri": "https://localhost:8080/"
        },
        "id": "ZfJdcAaXFNlK",
        "outputId": "6f67aee6-1aa8-4ba3-8429-f7836e4765d1"
      },
      "source": [
        "diabetes.isna().sum()"
      ],
      "execution_count": 975,
      "outputs": [
        {
          "output_type": "execute_result",
          "data": {
            "text/plain": [
              "Pregnancies                 0\n",
              "Glucose                     0\n",
              "BloodPressure               0\n",
              "SkinThickness               0\n",
              "Insulin                     0\n",
              "BMI                         0\n",
              "DiabetesPedigreeFunction    0\n",
              "Age                         0\n",
              "Outcome                     0\n",
              "dtype: int64"
            ]
          },
          "metadata": {
            "tags": []
          },
          "execution_count": 975
        }
      ]
    },
    {
      "cell_type": "markdown",
      "metadata": {
        "id": "lWklTs6wJ5e7"
      },
      "source": [
        "Checking for certain invalid readings"
      ]
    },
    {
      "cell_type": "code",
      "metadata": {
        "colab": {
          "base_uri": "https://localhost:8080/"
        },
        "id": "J11eUOI4Fr66",
        "outputId": "1e52d4fb-cd75-4708-896a-4014c3dcfb16"
      },
      "source": [
        "#as we know in general that the blood pressure of a person cannot be zero,means there is something wrong in data so counting no of zeros based on class\n",
        "print(\"the no of points for which blood pressure =0 grouped according to outcome\")\n",
        "print(diabetes[diabetes.BloodPressure == 0].groupby('Outcome')['Age'].count())\n",
        "print(\" \")\n",
        "\n",
        "#as we know that the glucose level of person cannot be zero even after fasting,hence 0 is invalid reading\n",
        "print(\"the no of points for which glucose =0 grouped according to outcome\")\n",
        "print(diabetes[diabetes.Glucose == 0].groupby('Outcome')['Age'].count())\n",
        "print(\" \")\n",
        "\n",
        "#For normal people, skin fold thickness can’t be less than 10 mm better yet zero\n",
        "print(\"the no of points for whichskin thickness =0 grouped according to outcome\")\n",
        "print(diabetes[diabetes.SkinThickness == 0].groupby('Outcome')['Age'].count())\n",
        "print(\" \")\n",
        "\n",
        "#BMI cannot not be 0 or close to zero unless the person is really underweight\n",
        "print(\"the no of points for which BMI =0 grouped according to outcome\")\n",
        "print(diabetes[diabetes.BMI == 0].groupby('Outcome')['Age'].count())\n",
        "print(\" \")\n",
        "\n",
        "#in normal cases we dont see insulin to be zero\n",
        "print(\"the no of points for which insulin =0 grouped according to outcome\")\n",
        "print(diabetes[diabetes.Insulin == 0].groupby('Outcome')['Age'].count())"
      ],
      "execution_count": 976,
      "outputs": [
        {
          "output_type": "stream",
          "text": [
            "the no of points for which blood pressure =0 grouped according to outcome\n",
            "Outcome\n",
            "0    19\n",
            "1    16\n",
            "Name: Age, dtype: int64\n",
            " \n",
            "the no of points for which glucose =0 grouped according to outcome\n",
            "Outcome\n",
            "0    3\n",
            "1    2\n",
            "Name: Age, dtype: int64\n",
            " \n",
            "the no of points for whichskin thickness =0 grouped according to outcome\n",
            "Outcome\n",
            "0    139\n",
            "1     88\n",
            "Name: Age, dtype: int64\n",
            " \n",
            "the no of points for which BMI =0 grouped according to outcome\n",
            "Outcome\n",
            "0    9\n",
            "1    2\n",
            "Name: Age, dtype: int64\n",
            " \n",
            "the no of points for which insulin =0 grouped according to outcome\n",
            "Outcome\n",
            "0    236\n",
            "1    138\n",
            "Name: Age, dtype: int64\n"
          ],
          "name": "stdout"
        }
      ]
    },
    {
      "cell_type": "markdown",
      "metadata": {
        "id": "Lev0O-tsJMbO"
      },
      "source": [
        "Removing the rows where BMI, Glucose, Blood Pressure are zero"
      ]
    },
    {
      "cell_type": "code",
      "metadata": {
        "colab": {
          "base_uri": "https://localhost:8080/"
        },
        "id": "mZT3ZYzPJKOk",
        "outputId": "aab6a22d-473f-4482-dfb8-469860c899f5"
      },
      "source": [
        "diabetes_modified = diabetes[(diabetes.BloodPressure != 0) & (diabetes.BMI != 0) & (diabetes.Glucose != 0)]\n",
        "print(diabetes_modified.shape)"
      ],
      "execution_count": 977,
      "outputs": [
        {
          "output_type": "stream",
          "text": [
            "(724, 9)\n"
          ],
          "name": "stdout"
        }
      ]
    },
    {
      "cell_type": "code",
      "metadata": {
        "colab": {
          "base_uri": "https://localhost:8080/",
          "height": 718
        },
        "id": "Xx2NCKP7Jbl8",
        "outputId": "5b52e93e-7f07-4206-9a2c-dfee152bd042"
      },
      "source": [
        "diabetes_modified.hist(figsize=(15,12))\n",
        "#plt.title(\"Features Distribution\")\n",
        "plt.show()"
      ],
      "execution_count": 978,
      "outputs": [
        {
          "output_type": "display_data",
          "data": {
            "image/png": "[encoded data removed]",
            "text/plain": [
              "<Figure size 1080x864 with 9 Axes>"
            ]
          },
          "metadata": {
            "tags": [],
            "needs_background": "light"
          }
        }
      ]
    },
    {
      "cell_type": "code",
      "metadata": {
        "colab": {
          "base_uri": "https://localhost:8080/",
          "height": 392
        },
        "id": "-Ni4XW4gDzbi",
        "outputId": "b940f18d-ab9b-47e7-e011-c5e23b022c2c"
      },
      "source": [
        "X_diab = diabetes_modified.drop(['Outcome'],axis=1)\n",
        "y_diab = diabetes_modified.Outcome\n",
        "X_diab"
      ],
      "execution_count": 979,
      "outputs": [
        {
          "output_type": "execute_result",
          "data": {
            "text/html": [
              "<div>\n",
              "<style scoped>\n",
              "    .dataframe tbody tr th:only-of-type {\n",
              "        vertical-align: middle;\n",
              "    }\n",
              "\n",
              "    .dataframe tbody tr th {\n",
              "        vertical-align: top;\n",
              "    }\n",
              "\n",
              "    .dataframe thead th {\n",
              "        text-align: right;\n",
              "    }\n",
              "</style>\n",
              "<table border=\"1\" class=\"dataframe\">\n",
              "  <thead>\n",
              "    <tr style=\"text-align: right;\">\n",
              "      <th></th>\n",
              "      <th>Pregnancies</th>\n",
              "      <th>Glucose</th>\n",
              "      <th>BloodPressure</th>\n",
              "      <th>SkinThickness</th>\n",
              "      <th>Insulin</th>\n",
              "      <th>BMI</th>\n",
              "      <th>DiabetesPedigreeFunction</th>\n",
              "      <th>Age</th>\n",
              "    </tr>\n",
              "  </thead>\n",
              "  <tbody>\n",
              "    <tr>\n",
              "      <th>0</th>\n",
              "      <td>6</td>\n",
              "      <td>148</td>\n",
              "      <td>72</td>\n",
              "      <td>35</td>\n",
              "      <td>0</td>\n",
              "      <td>33.6</td>\n",
              "      <td>0.627</td>\n",
              "      <td>50</td>\n",
              "    </tr>\n",
              "    <tr>\n",
              "      <th>1</th>\n",
              "      <td>1</td>\n",
              "      <td>85</td>\n",
              "      <td>66</td>\n",
              "      <td>29</td>\n",
              "      <td>0</td>\n",
              "      <td>26.6</td>\n",
              "      <td>0.351</td>\n",
              "      <td>31</td>\n",
              "    </tr>\n",
              "    <tr>\n",
              "      <th>2</th>\n",
              "      <td>8</td>\n",
              "      <td>183</td>\n",
              "      <td>64</td>\n",
              "      <td>0</td>\n",
              "      <td>0</td>\n",
              "      <td>23.3</td>\n",
              "      <td>0.672</td>\n",
              "      <td>32</td>\n",
              "    </tr>\n",
              "    <tr>\n",
              "      <th>3</th>\n",
              "      <td>1</td>\n",
              "      <td>89</td>\n",
              "      <td>66</td>\n",
              "      <td>23</td>\n",
              "      <td>94</td>\n",
              "      <td>28.1</td>\n",
              "      <td>0.167</td>\n",
              "      <td>21</td>\n",
              "    </tr>\n",
              "    <tr>\n",
              "      <th>4</th>\n",
              "      <td>0</td>\n",
              "      <td>137</td>\n",
              "      <td>40</td>\n",
              "      <td>35</td>\n",
              "      <td>168</td>\n",
              "      <td>43.1</td>\n",
              "      <td>2.288</td>\n",
              "      <td>33</td>\n",
              "    </tr>\n",
              "    <tr>\n",
              "      <th>...</th>\n",
              "      <td>...</td>\n",
              "      <td>...</td>\n",
              "      <td>...</td>\n",
              "      <td>...</td>\n",
              "      <td>...</td>\n",
              "      <td>...</td>\n",
              "      <td>...</td>\n",
              "      <td>...</td>\n",
              "    </tr>\n",
              "    <tr>\n",
              "      <th>763</th>\n",
              "      <td>10</td>\n",
              "      <td>101</td>\n",
              "      <td>76</td>\n",
              "      <td>48</td>\n",
              "      <td>180</td>\n",
              "      <td>32.9</td>\n",
              "      <td>0.171</td>\n",
              "      <td>63</td>\n",
              "    </tr>\n",
              "    <tr>\n",
              "      <th>764</th>\n",
              "      <td>2</td>\n",
              "      <td>122</td>\n",
              "      <td>70</td>\n",
              "      <td>27</td>\n",
              "      <td>0</td>\n",
              "      <td>36.8</td>\n",
              "      <td>0.340</td>\n",
              "      <td>27</td>\n",
              "    </tr>\n",
              "    <tr>\n",
              "      <th>765</th>\n",
              "      <td>5</td>\n",
              "      <td>121</td>\n",
              "      <td>72</td>\n",
              "      <td>23</td>\n",
              "      <td>112</td>\n",
              "      <td>26.2</td>\n",
              "      <td>0.245</td>\n",
              "      <td>30</td>\n",
              "    </tr>\n",
              "    <tr>\n",
              "      <th>766</th>\n",
              "      <td>1</td>\n",
              "      <td>126</td>\n",
              "      <td>60</td>\n",
              "      <td>0</td>\n",
              "      <td>0</td>\n",
              "      <td>30.1</td>\n",
              "      <td>0.349</td>\n",
              "      <td>47</td>\n",
              "    </tr>\n",
              "    <tr>\n",
              "      <th>767</th>\n",
              "      <td>1</td>\n",
              "      <td>93</td>\n",
              "      <td>70</td>\n",
              "      <td>31</td>\n",
              "      <td>0</td>\n",
              "      <td>30.4</td>\n",
              "      <td>0.315</td>\n",
              "      <td>23</td>\n",
              "    </tr>\n",
              "  </tbody>\n",
              "</table>\n",
              "<p>724 rows × 8 columns</p>\n",
              "</div>"
            ],
            "text/plain": [
              "     Pregnancies  Glucose  BloodPressure  ...   BMI  DiabetesPedigreeFunction  Age\n",
              "0              6      148             72  ...  33.6                     0.627   50\n",
              "1              1       85             66  ...  26.6                     0.351   31\n",
              "2              8      183             64  ...  23.3                     0.672   32\n",
              "3              1       89             66  ...  28.1                     0.167   21\n",
              "4              0      137             40  ...  43.1                     2.288   33\n",
              "..           ...      ...            ...  ...   ...                       ...  ...\n",
              "763           10      101             76  ...  32.9                     0.171   63\n",
              "764            2      122             70  ...  36.8                     0.340   27\n",
              "765            5      121             72  ...  26.2                     0.245   30\n",
              "766            1      126             60  ...  30.1                     0.349   47\n",
              "767            1       93             70  ...  30.4                     0.315   23\n",
              "\n",
              "[724 rows x 8 columns]"
            ]
          },
          "metadata": {
            "tags": []
          },
          "execution_count": 979
        }
      ]
    },
    {
      "cell_type": "code",
      "metadata": {
        "id": "n0ZJ0hrTIxIH"
      },
      "source": [
        "from sklearn.feature_selection import  mutual_info_classif,f_classif\n",
        "from sklearn.feature_selection import SelectKBest"
      ],
      "execution_count": 980,
      "outputs": []
    },
    {
      "cell_type": "markdown",
      "metadata": {
        "id": "FHOUNEYAniea"
      },
      "source": [
        "## **IDENTIFICATION OF FEATURES USING MUTUAL_INFO_CLASSIF,RFE**"
      ]
    },
    {
      "cell_type": "code",
      "metadata": {
        "colab": {
          "base_uri": "https://localhost:8080/",
          "height": 418
        },
        "id": "3IYeRIiKWZ2L",
        "outputId": "fbbcbc62-ef6b-496e-e044-5037cc320c67"
      },
      "source": [
        "fs = SelectKBest(score_func=mutual_info_classif, k='all')\n",
        "fs.fit(X_diab, y_diab)\n",
        "for i in range(len(fs.scores_)):\n",
        "\tprint('Feature %d: %f' % (i, fs.scores_[i]))\n",
        "plt.plot(fs.scores_,color='teal')"
      ],
      "execution_count": 981,
      "outputs": [
        {
          "output_type": "stream",
          "text": [
            "Feature 0: 0.027905\n",
            "Feature 1: 0.118360\n",
            "Feature 2: 0.037016\n",
            "Feature 3: 0.018402\n",
            "Feature 4: 0.055538\n",
            "Feature 5: 0.070010\n",
            "Feature 6: 0.024759\n",
            "Feature 7: 0.072784\n"
          ],
          "name": "stdout"
        },
        {
          "output_type": "execute_result",
          "data": {
            "text/plain": [
              "[<matplotlib.lines.Line2D at 0x7fb4b4772610>]"
            ]
          },
          "metadata": {
            "tags": []
          },
          "execution_count": 981
        },
        {
          "output_type": "display_data",
          "data": {
            "image/png": "[encoded data removed]",
            "text/plain": [
              "<Figure size 432x288 with 1 Axes>"
            ]
          },
          "metadata": {
            "tags": [],
            "needs_background": "light"
          }
        }
      ]
    },
    {
      "cell_type": "code",
      "metadata": {
        "colab": {
          "base_uri": "https://localhost:8080/",
          "height": 306
        },
        "id": "r5G_o0WNeJMr",
        "outputId": "35fd42c4-9667-4a24-b88e-3ba747bb47a7"
      },
      "source": [
        "model_select = LinearRegression()\n",
        "rfe = RFE(model_select)\n",
        "fit_rfe = rfe.fit(X_diab, y_diab)\n",
        "\n",
        "df_RFE_results = []\n",
        "for i in range(X_diab.shape[1]):\n",
        "    df_RFE_results.append(\n",
        "        {      \n",
        "            'Feature_names': diabetes_modified.columns[i],\n",
        "            'Selected':  rfe.support_[i],\n",
        "            'RFE_ranking':  rfe.ranking_[i],\n",
        "        }\n",
        "    )\n",
        "\n",
        "df_RFE_results = pd.DataFrame(df_RFE_results)\n",
        "df_RFE_results.index.name='Columns'\n",
        "df_RFE_results"
      ],
      "execution_count": 982,
      "outputs": [
        {
          "output_type": "execute_result",
          "data": {
            "text/html": [
              "<div>\n",
              "<style scoped>\n",
              "    .dataframe tbody tr th:only-of-type {\n",
              "        vertical-align: middle;\n",
              "    }\n",
              "\n",
              "    .dataframe tbody tr th {\n",
              "        vertical-align: top;\n",
              "    }\n",
              "\n",
              "    .dataframe thead th {\n",
              "        text-align: right;\n",
              "    }\n",
              "</style>\n",
              "<table border=\"1\" class=\"dataframe\">\n",
              "  <thead>\n",
              "    <tr style=\"text-align: right;\">\n",
              "      <th></th>\n",
              "      <th>Feature_names</th>\n",
              "      <th>Selected</th>\n",
              "      <th>RFE_ranking</th>\n",
              "    </tr>\n",
              "    <tr>\n",
              "      <th>Columns</th>\n",
              "      <th></th>\n",
              "      <th></th>\n",
              "      <th></th>\n",
              "    </tr>\n",
              "  </thead>\n",
              "  <tbody>\n",
              "    <tr>\n",
              "      <th>0</th>\n",
              "      <td>Pregnancies</td>\n",
              "      <td>True</td>\n",
              "      <td>1</td>\n",
              "    </tr>\n",
              "    <tr>\n",
              "      <th>1</th>\n",
              "      <td>Glucose</td>\n",
              "      <td>True</td>\n",
              "      <td>1</td>\n",
              "    </tr>\n",
              "    <tr>\n",
              "      <th>2</th>\n",
              "      <td>BloodPressure</td>\n",
              "      <td>False</td>\n",
              "      <td>3</td>\n",
              "    </tr>\n",
              "    <tr>\n",
              "      <th>3</th>\n",
              "      <td>SkinThickness</td>\n",
              "      <td>False</td>\n",
              "      <td>5</td>\n",
              "    </tr>\n",
              "    <tr>\n",
              "      <th>4</th>\n",
              "      <td>Insulin</td>\n",
              "      <td>False</td>\n",
              "      <td>4</td>\n",
              "    </tr>\n",
              "    <tr>\n",
              "      <th>5</th>\n",
              "      <td>BMI</td>\n",
              "      <td>True</td>\n",
              "      <td>1</td>\n",
              "    </tr>\n",
              "    <tr>\n",
              "      <th>6</th>\n",
              "      <td>DiabetesPedigreeFunction</td>\n",
              "      <td>True</td>\n",
              "      <td>1</td>\n",
              "    </tr>\n",
              "    <tr>\n",
              "      <th>7</th>\n",
              "      <td>Age</td>\n",
              "      <td>False</td>\n",
              "      <td>2</td>\n",
              "    </tr>\n",
              "  </tbody>\n",
              "</table>\n",
              "</div>"
            ],
            "text/plain": [
              "                    Feature_names  Selected  RFE_ranking\n",
              "Columns                                                 \n",
              "0                     Pregnancies      True            1\n",
              "1                         Glucose      True            1\n",
              "2                   BloodPressure     False            3\n",
              "3                   SkinThickness     False            5\n",
              "4                         Insulin     False            4\n",
              "5                             BMI      True            1\n",
              "6        DiabetesPedigreeFunction      True            1\n",
              "7                             Age     False            2"
            ]
          },
          "metadata": {
            "tags": []
          },
          "execution_count": 982
        }
      ]
    },
    {
      "cell_type": "markdown",
      "metadata": {
        "id": "-ikGdey4oEcq"
      },
      "source": [
        "## **Calculate and compare the  accuracy and F1 score by both the methods and with the classifier learned using all the features**"
      ]
    },
    {
      "cell_type": "markdown",
      "metadata": {
        "id": "dmX8a7f4OJkh"
      },
      "source": [
        "MODEL BUILT USING ALL FEATURES"
      ]
    },
    {
      "cell_type": "code",
      "metadata": {
        "colab": {
          "base_uri": "https://localhost:8080/"
        },
        "id": "u8xQAdlTN89j",
        "outputId": "40d5c539-b832-40b3-8931-0deeb996af8f"
      },
      "source": [
        "X_train_diab, X_test_diab, y_train_diab, y_test_diab = train_test_split(X_diab, y_diab, test_size=0.33, random_state=1)\n",
        "\n",
        "from sklearn.neighbors import KNeighborsClassifier\n",
        "from sklearn.metrics import classification_report\n",
        "from sklearn.metrics import accuracy_score\n",
        "from sklearn.metrics import f1_score\n",
        "\n",
        "model_KNN = KNeighborsClassifier(n_neighbors=3)\n",
        "model_KNN.fit(X_train_diab, y_train_diab)\n",
        "# print(model_KNN.score(X_test_diab,y_test_diab))\n",
        "ypred_KNN = model_KNN.predict(X_test_diab)\n",
        "accuracy_KNN = accuracy_score(y_test_diab, ypred_KNN)\n",
        "print('Accuracy(KNN): %f' % accuracy_KNN)\n",
        "f1_KNN = f1_score(y_test_diab, ypred_KNN)\n",
        "print('F1 score(KNN): %f' % f1_KNN)"
      ],
      "execution_count": 983,
      "outputs": [
        {
          "output_type": "stream",
          "text": [
            "Accuracy(KNN): 0.694561\n",
            "F1 score(KNN): 0.540881\n"
          ],
          "name": "stdout"
        }
      ]
    },
    {
      "cell_type": "code",
      "metadata": {
        "colab": {
          "base_uri": "https://localhost:8080/"
        },
        "id": "tLaLq4qoPZa9",
        "outputId": "550beeb6-c81b-4be0-e673-f9f5bf56ee09"
      },
      "source": [
        "# feature selection\n",
        "def select_features_selectk(X_train, y_train, X_test):\n",
        "\t# configure to select a subset of features\n",
        "\tfs = SelectKBest(score_func=mutual_info_classif, k=4)\n",
        "\t# learn relationship from training data\n",
        "\tfs.fit(X_train, y_train)\n",
        "\t# transform train input data\n",
        "\tX_train_fs = fs.transform(X_train)\n",
        "\t# transform test input data\n",
        "\tX_test_fs = fs.transform(X_test)\n",
        "\treturn X_train_fs, X_test_fs, fs\n",
        "\n",
        "\n",
        "X_train_diab_1, X_test_diab_1, y_train_diab_1, y_test_diab_1 = train_test_split(X_diab, y_diab, test_size=0.33, random_state=1)\n",
        "# feature selection\n",
        "X_train_info, X_test_info, info = select_features_selectk(X_train_diab_1, y_train_diab_1, X_test_diab_1)\n",
        "model_KNN_fs  =  KNeighborsClassifier(n_neighbors=3)\n",
        "model_KNN_fs.fit(X_train_info, y_train_diab_1)\n",
        "# print(model_KNN.score(X_test_info,y_test_diab_1))\n",
        "ypred_KNN_fs = model_KNN_fs.predict(X_test_info)\n",
        "accuracy_KNN_fs = accuracy_score(y_test_diab_1, ypred_KNN_fs)\n",
        "print('Accuracy(KNN) after feature selection method 1: %f' % accuracy_KNN_fs)\n",
        "f1_KNN_fs = f1_score(y_test_diab_1, ypred_KNN_fs)\n",
        "print('F1 score(KNN) after feature selection method 1: %f' % f1_KNN_fs)"
      ],
      "execution_count": 984,
      "outputs": [
        {
          "output_type": "stream",
          "text": [
            "Accuracy(KNN) after feature selection method 1: 0.761506\n",
            "F1 score(KNN) after feature selection method 1: 0.641509\n"
          ],
          "name": "stdout"
        }
      ]
    },
    {
      "cell_type": "code",
      "metadata": {
        "colab": {
          "base_uri": "https://localhost:8080/"
        },
        "id": "NKZv40HhgH5Y",
        "outputId": "fbaf4327-a361-47cb-97c9-358c49b8b45e"
      },
      "source": [
        "def select_features_rfe(X_train, y_train, X_test):\n",
        "  model_select_2 = LinearRegression()\n",
        "  rfe = RFE(model_select_2,5)\n",
        "  fit_rfe_2 = rfe.fit(X_train, y_train)\n",
        "  X_train_fs = rfe.transform(X_train)\n",
        "  # transform test input data\n",
        "  X_test_fs = rfe.transform(X_test)\n",
        "  return X_train_fs, X_test_fs,rfe\n",
        "\n",
        "\n",
        "X_train_diab_2, X_test_diab_2, y_train_diab_2, y_test_diab_2 = train_test_split(X_diab, y_diab, test_size=0.33, random_state=1)\n",
        "# feature selection\n",
        "X_train_info_1, X_test_info_1, info_1 = select_features_rfe(X_train_diab_2, y_train_diab_2, X_test_diab_2)\n",
        "model_KNN_fs_1  =  KNeighborsClassifier(n_neighbors=3)\n",
        "model_KNN_fs_1.fit(X_train_info_1, y_train_diab_2)\n",
        "# print(model_KNN.score(X_test_info,y_test_diab_1))\n",
        "ypred_KNN_fs_1 = model_KNN_fs_1.predict(X_test_info_1)\n",
        "accuracy_KNN_fs_1 = accuracy_score(y_test_diab_2, ypred_KNN_fs_1)\n",
        "print('Accuracy(KNN) after feature selection method 2: %f' % accuracy_KNN_fs_1)\n",
        "f1_KNN_fs_1 = f1_score(y_test_diab_1, ypred_KNN_fs_1)\n",
        "print('F1 score(KNN) after feature selection method 2: %f' % f1_KNN_fs_1)"
      ],
      "execution_count": 985,
      "outputs": [
        {
          "output_type": "stream",
          "text": [
            "Accuracy(KNN) after feature selection method 2: 0.761506\n",
            "F1 score(KNN) after feature selection method 2: 0.641509\n"
          ],
          "name": "stdout"
        }
      ]
    },
    {
      "cell_type": "markdown",
      "metadata": {
        "id": "Q5RKLHtTcqC7"
      },
      "source": [
        "**EXTRA ANALYSIS FOR F_CALSSIF FOR KNN**\n",
        "\n"
      ]
    },
    {
      "cell_type": "code",
      "metadata": {
        "colab": {
          "base_uri": "https://localhost:8080/",
          "height": 418
        },
        "id": "wJpWL0iwnzPw",
        "outputId": "bb62540f-a08f-4416-82e9-f7de188d4b03"
      },
      "source": [
        "f_classif_fs = SelectKBest(score_func=f_classif, k='all')\n",
        "selected_features_list =f_classif_fs.fit(X_diab, y_diab)\n",
        "\n",
        "for i in range(len(f_classif_fs.scores_)):\n",
        "\tprint('Feature %d: %f' % (i, f_classif_fs.scores_[i]))\n",
        "plt.plot(f_classif_fs.scores_,color='teal')"
      ],
      "execution_count": 986,
      "outputs": [
        {
          "output_type": "stream",
          "text": [
            "Feature 0: 38.290564\n",
            "Feature 1: 226.152520\n",
            "Feature 2: 20.637931\n",
            "Feature 3: 6.167243\n",
            "Feature 4: 15.612888\n",
            "Feature 5: 71.080260\n",
            "Feature 6: 25.571087\n",
            "Feature 7: 46.402860\n"
          ],
          "name": "stdout"
        },
        {
          "output_type": "execute_result",
          "data": {
            "text/plain": [
              "[<matplotlib.lines.Line2D at 0x7fb4b4de2950>]"
            ]
          },
          "metadata": {
            "tags": []
          },
          "execution_count": 986
        },
        {
          "output_type": "display_data",
          "data": {
            "image/png": "[encoded data removed]",
            "text/plain": [
              "<Figure size 432x288 with 1 Axes>"
            ]
          },
          "metadata": {
            "tags": [],
            "needs_background": "light"
          }
        }
      ]
    },
    {
      "cell_type": "code",
      "metadata": {
        "colab": {
          "base_uri": "https://localhost:8080/"
        },
        "id": "R5VXaP5iclLz",
        "outputId": "7ddd2b77-d695-4adf-bd68-68854e6fdf1d"
      },
      "source": [
        "def select_features_F(X_train, y_train, X_test):\n",
        "  # learn relationship from training data\n",
        "  fs = SelectKBest(score_func=f_classif, k=4)\n",
        "  fs.fit(X_train, y_train)\n",
        "  # transform train input data\n",
        "  X_train_fs = fs.transform(X_train)\n",
        "  # transform test input data\n",
        "  X_test_fs = fs.transform(X_test)\n",
        "  return X_train_fs, X_test_fs, fs\n",
        "\n",
        "\n",
        "X_train_diab_0, X_test_diab_0, y_train_diab_0, y_test_diab_0 = train_test_split(X_diab, y_diab, test_size=0.33, random_state=1)\n",
        "# feature selection\n",
        "X_train_info_0, X_test_info_0, info_0 = select_features_F(X_train_diab_0, y_train_diab_0, X_test_diab_0)\n",
        "model_KNN_fs_0  =  KNeighborsClassifier(n_neighbors=3)\n",
        "model_KNN_fs_0.fit(X_train_info_0, y_train_diab_0)\n",
        "# print(model_KNN.score(X_test_info,y_test_diab_1))\n",
        "ypred_KNN_fs_0 = model_KNN_fs.predict(X_test_info_0)\n",
        "accuracy_KNN_fs_0 = accuracy_score(y_test_diab_0, ypred_KNN_fs_0)\n",
        "print('Accuracy(KNN) after feature selection method 0: %f' % accuracy_KNN_fs_0)\n",
        "f1_KNN_fs_0 = f1_score(y_test_diab_1, ypred_KNN_fs)\n",
        "print('F1 score(KNN) after feature selection method 0: %f' % f1_KNN_fs_0)"
      ],
      "execution_count": 900,
      "outputs": [
        {
          "output_type": "stream",
          "text": [
            "Accuracy(KNN) after feature selection method 0: 0.761506\n",
            "F1 score(KNN) after feature selection method 0: 0.641509\n"
          ],
          "name": "stdout"
        }
      ]
    },
    {
      "cell_type": "markdown",
      "metadata": {
        "id": "Cl-OWIoatQS0"
      },
      "source": [
        "**EXTRA ANALYSIS USING RANDOM FOREST FOR MUTUAL INFO, RFE**"
      ]
    },
    {
      "cell_type": "code",
      "metadata": {
        "colab": {
          "base_uri": "https://localhost:8080/"
        },
        "id": "V7jNqcVpr9ax",
        "outputId": "3f6a2bb3-6cd0-41cf-b980-69b1b22b7dd6"
      },
      "source": [
        "X_train_diab_RF, X_test_diab_RF, y_train_diab, y_test_diab_RF = train_test_split(X_diab, y_diab, test_size=0.33, random_state=1)\n",
        "\n",
        "from sklearn.ensemble import RandomForestClassifier\n",
        "clf_random = RandomForestClassifier(max_depth=2, random_state=0)\n",
        "clf_random.fit(X_diab, y_diab)\n",
        "\n",
        "ypred_RF = clf_random.predict(X_test_diab_RF)\n",
        "accuracy_RF = accuracy_score(y_test_diab_RF, ypred_RF)\n",
        "print('Accuracy(RF): %f' % accuracy_RF)\n",
        "f1_KNN = f1_score(y_test_diab_RF, ypred_RF)\n",
        "print('F1 score(RF): %f' % f1_KNN)"
      ],
      "execution_count": 987,
      "outputs": [
        {
          "output_type": "stream",
          "text": [
            "Accuracy(RF): 0.707113\n",
            "F1 score(RF): 0.444444\n"
          ],
          "name": "stdout"
        }
      ]
    },
    {
      "cell_type": "code",
      "metadata": {
        "colab": {
          "base_uri": "https://localhost:8080/"
        },
        "id": "QxfsYHJxtiLR",
        "outputId": "51e86c89-ae3c-425c-d99a-98879df7d293"
      },
      "source": [
        "X_train_diab_RF_1, X_test_diab_RF_1, y_train_diab_RF_1, y_test_diab_RF_1 = train_test_split(X_diab, y_diab, test_size=0.33, random_state=1)\n",
        "# feature selection\n",
        "X_train_RF_info, X_test_RF_info, info_RF = select_features_selectk(X_train_diab_RF_1, y_train_diab_RF_1, X_test_diab_RF_1)\n",
        "model_RF_fs  =  RandomForestClassifier(max_depth=2, random_state=0)\n",
        "model_RF_fs.fit(X_train_RF_info, y_train_diab_RF_1)\n",
        "# print(model_KNN.score(X_test_info,y_test_diab_1))\n",
        "ypred_RF_fs = model_RF_fs.predict(X_test_RF_info)\n",
        "accuracy_RF_fs = accuracy_score(y_test_diab_RF_1, ypred_RF_fs)\n",
        "print('Accuracy(RF) after feature selection method 1: %f' % accuracy_RF_fs)\n",
        "f1_RF_fs = f1_score(y_test_diab_RF_1, ypred_RF_fs)\n",
        "print('F1 score(RF) after feature selection method 1: %f' % f1_RF_fs)"
      ],
      "execution_count": 988,
      "outputs": [
        {
          "output_type": "stream",
          "text": [
            "Accuracy(RF) after feature selection method 1: 0.715481\n",
            "F1 score(RF) after feature selection method 1: 0.507246\n"
          ],
          "name": "stdout"
        }
      ]
    },
    {
      "cell_type": "code",
      "metadata": {
        "colab": {
          "base_uri": "https://localhost:8080/"
        },
        "id": "aNuNrEsjuI-T",
        "outputId": "09b766c5-76a5-4d37-a2e5-bd67a3de7038"
      },
      "source": [
        "X_train_diab_RF_2, X_test_diab_RF_2, y_train_diab_RF_2, y_test_diab_RF_2 = train_test_split(X_diab, y_diab, test_size=0.33, random_state=1)\n",
        "# feature selection\n",
        "X_train_RF_info_1, X_test_RF_info_1, info_RF_1 = select_features_rfe(X_train_diab_RF_2, y_train_diab_RF_2, X_test_diab_RF_2)\n",
        "model_RF_fs_1  =  RandomForestClassifier(max_depth=2, random_state=0)\n",
        "model_RF_fs_1.fit(X_train_RF_info_1, y_train_diab_RF_2)\n",
        "# print(model_KNN.score(X_test_info,y_test_diab_1))\n",
        "ypred_RF_fs_1 = model_RF_fs_1.predict(X_test_RF_info_1)\n",
        "accuracy_RF_fs_1 = accuracy_score(y_test_diab_RF_2, ypred_RF_fs_1)\n",
        "print('Accuracy(RF) after feature selection method 2: %f' % accuracy_RF_fs_1)\n",
        "f1_RF_fs_1 = f1_score(y_test_diab_RF_2, ypred_RF_fs_1)\n",
        "print('F1 score(RF) after feature selection method 2: %f' % f1_RF_fs_1)"
      ],
      "execution_count": 989,
      "outputs": [
        {
          "output_type": "stream",
          "text": [
            "Accuracy(RF) after feature selection method 2: 0.698745\n",
            "F1 score(RF) after feature selection method 2: 0.462687\n"
          ],
          "name": "stdout"
        }
      ]
    },
    {
      "cell_type": "markdown",
      "metadata": {
        "id": "Jtnq2FRtoQaN"
      },
      "source": [
        "## **Use Pearson Correlation and compute correlated features with a threshold of 70%.**"
      ]
    },
    {
      "cell_type": "code",
      "metadata": {
        "colab": {
          "base_uri": "https://localhost:8080/",
          "height": 306
        },
        "id": "bZjY-ml4l5vH",
        "outputId": "83ba856b-afae-4372-9c6a-6c3566294b83"
      },
      "source": [
        "corr_p = diabetes_modified.corr(method ='pearson')\n",
        "corr_p"
      ],
      "execution_count": 990,
      "outputs": [
        {
          "output_type": "execute_result",
          "data": {
            "text/html": [
              "<div>\n",
              "<style scoped>\n",
              "    .dataframe tbody tr th:only-of-type {\n",
              "        vertical-align: middle;\n",
              "    }\n",
              "\n",
              "    .dataframe tbody tr th {\n",
              "        vertical-align: top;\n",
              "    }\n",
              "\n",
              "    .dataframe thead th {\n",
              "        text-align: right;\n",
              "    }\n",
              "</style>\n",
              "<table border=\"1\" class=\"dataframe\">\n",
              "  <thead>\n",
              "    <tr style=\"text-align: right;\">\n",
              "      <th></th>\n",
              "      <th>Pregnancies</th>\n",
              "      <th>Glucose</th>\n",
              "      <th>BloodPressure</th>\n",
              "      <th>SkinThickness</th>\n",
              "      <th>Insulin</th>\n",
              "      <th>BMI</th>\n",
              "      <th>DiabetesPedigreeFunction</th>\n",
              "      <th>Age</th>\n",
              "      <th>Outcome</th>\n",
              "    </tr>\n",
              "  </thead>\n",
              "  <tbody>\n",
              "    <tr>\n",
              "      <th>Pregnancies</th>\n",
              "      <td>1.000000</td>\n",
              "      <td>0.134915</td>\n",
              "      <td>0.209668</td>\n",
              "      <td>-0.095683</td>\n",
              "      <td>-0.080059</td>\n",
              "      <td>0.012342</td>\n",
              "      <td>-0.025996</td>\n",
              "      <td>0.557066</td>\n",
              "      <td>0.224417</td>\n",
              "    </tr>\n",
              "    <tr>\n",
              "      <th>Glucose</th>\n",
              "      <td>0.134915</td>\n",
              "      <td>1.000000</td>\n",
              "      <td>0.223331</td>\n",
              "      <td>0.074381</td>\n",
              "      <td>0.337896</td>\n",
              "      <td>0.223276</td>\n",
              "      <td>0.136630</td>\n",
              "      <td>0.263560</td>\n",
              "      <td>0.488384</td>\n",
              "    </tr>\n",
              "    <tr>\n",
              "      <th>BloodPressure</th>\n",
              "      <td>0.209668</td>\n",
              "      <td>0.223331</td>\n",
              "      <td>1.000000</td>\n",
              "      <td>0.011777</td>\n",
              "      <td>-0.046856</td>\n",
              "      <td>0.287403</td>\n",
              "      <td>-0.000075</td>\n",
              "      <td>0.324897</td>\n",
              "      <td>0.166703</td>\n",
              "    </tr>\n",
              "    <tr>\n",
              "      <th>SkinThickness</th>\n",
              "      <td>-0.095683</td>\n",
              "      <td>0.074381</td>\n",
              "      <td>0.011777</td>\n",
              "      <td>1.000000</td>\n",
              "      <td>0.420874</td>\n",
              "      <td>0.401528</td>\n",
              "      <td>0.176253</td>\n",
              "      <td>-0.128908</td>\n",
              "      <td>0.092030</td>\n",
              "    </tr>\n",
              "    <tr>\n",
              "      <th>Insulin</th>\n",
              "      <td>-0.080059</td>\n",
              "      <td>0.337896</td>\n",
              "      <td>-0.046856</td>\n",
              "      <td>0.420874</td>\n",
              "      <td>1.000000</td>\n",
              "      <td>0.191831</td>\n",
              "      <td>0.182656</td>\n",
              "      <td>-0.049412</td>\n",
              "      <td>0.145488</td>\n",
              "    </tr>\n",
              "    <tr>\n",
              "      <th>BMI</th>\n",
              "      <td>0.012342</td>\n",
              "      <td>0.223276</td>\n",
              "      <td>0.287403</td>\n",
              "      <td>0.401528</td>\n",
              "      <td>0.191831</td>\n",
              "      <td>1.000000</td>\n",
              "      <td>0.154858</td>\n",
              "      <td>0.020835</td>\n",
              "      <td>0.299375</td>\n",
              "    </tr>\n",
              "    <tr>\n",
              "      <th>DiabetesPedigreeFunction</th>\n",
              "      <td>-0.025996</td>\n",
              "      <td>0.136630</td>\n",
              "      <td>-0.000075</td>\n",
              "      <td>0.176253</td>\n",
              "      <td>0.182656</td>\n",
              "      <td>0.154858</td>\n",
              "      <td>1.000000</td>\n",
              "      <td>0.023098</td>\n",
              "      <td>0.184947</td>\n",
              "    </tr>\n",
              "    <tr>\n",
              "      <th>Age</th>\n",
              "      <td>0.557066</td>\n",
              "      <td>0.263560</td>\n",
              "      <td>0.324897</td>\n",
              "      <td>-0.128908</td>\n",
              "      <td>-0.049412</td>\n",
              "      <td>0.020835</td>\n",
              "      <td>0.023098</td>\n",
              "      <td>1.000000</td>\n",
              "      <td>0.245741</td>\n",
              "    </tr>\n",
              "    <tr>\n",
              "      <th>Outcome</th>\n",
              "      <td>0.224417</td>\n",
              "      <td>0.488384</td>\n",
              "      <td>0.166703</td>\n",
              "      <td>0.092030</td>\n",
              "      <td>0.145488</td>\n",
              "      <td>0.299375</td>\n",
              "      <td>0.184947</td>\n",
              "      <td>0.245741</td>\n",
              "      <td>1.000000</td>\n",
              "    </tr>\n",
              "  </tbody>\n",
              "</table>\n",
              "</div>"
            ],
            "text/plain": [
              "                          Pregnancies   Glucose  ...       Age   Outcome\n",
              "Pregnancies                  1.000000  0.134915  ...  0.557066  0.224417\n",
              "Glucose                      0.134915  1.000000  ...  0.263560  0.488384\n",
              "BloodPressure                0.209668  0.223331  ...  0.324897  0.166703\n",
              "SkinThickness               -0.095683  0.074381  ... -0.128908  0.092030\n",
              "Insulin                     -0.080059  0.337896  ... -0.049412  0.145488\n",
              "BMI                          0.012342  0.223276  ...  0.020835  0.299375\n",
              "DiabetesPedigreeFunction    -0.025996  0.136630  ...  0.023098  0.184947\n",
              "Age                          0.557066  0.263560  ...  1.000000  0.245741\n",
              "Outcome                      0.224417  0.488384  ...  0.245741  1.000000\n",
              "\n",
              "[9 rows x 9 columns]"
            ]
          },
          "metadata": {
            "tags": []
          },
          "execution_count": 990
        }
      ]
    },
    {
      "cell_type": "code",
      "metadata": {
        "colab": {
          "base_uri": "https://localhost:8080/",
          "height": 733
        },
        "id": "HCdxkP-9moa-",
        "outputId": "9c407301-31df-4c72-ccc9-3b71cbed7986"
      },
      "source": [
        "fig, ax = plt.subplots(figsize=(10,10))  \n",
        "sns.heatmap(corr_p, annot=True,linewidths=0.5,ax=ax)\n",
        "plt.show()"
      ],
      "execution_count": 991,
      "outputs": [
        {
          "output_type": "display_data",
          "data": {
            "image/png": "[encoded data removed]",
            "text/plain": [
              "<Figure size 720x720 with 2 Axes>"
            ]
          },
          "metadata": {
            "tags": [],
            "needs_background": "light"
          }
        }
      ]
    },
    {
      "cell_type": "code",
      "metadata": {
        "colab": {
          "base_uri": "https://localhost:8080/"
        },
        "id": "_5mnUW7rqZOD",
        "outputId": "82913263-cdf8-4c45-817a-2472be38e0cc"
      },
      "source": [
        "corr_p.values>0.7"
      ],
      "execution_count": 992,
      "outputs": [
        {
          "output_type": "execute_result",
          "data": {
            "text/plain": [
              "array([[ True, False, False, False, False, False, False, False, False],\n",
              "       [False,  True, False, False, False, False, False, False, False],\n",
              "       [False, False,  True, False, False, False, False, False, False],\n",
              "       [False, False, False,  True, False, False, False, False, False],\n",
              "       [False, False, False, False,  True, False, False, False, False],\n",
              "       [False, False, False, False, False,  True, False, False, False],\n",
              "       [False, False, False, False, False, False,  True, False, False],\n",
              "       [False, False, False, False, False, False, False,  True, False],\n",
              "       [False, False, False, False, False, False, False, False,  True]])"
            ]
          },
          "metadata": {
            "tags": []
          },
          "execution_count": 992
        }
      ]
    },
    {
      "cell_type": "code",
      "metadata": {
        "colab": {
          "base_uri": "https://localhost:8080/"
        },
        "id": "cpRaUi-LpTLz",
        "outputId": "59559469-5269-4c27-f047-1396b942566c"
      },
      "source": [
        "corr_p_temp  = np.array(corr_p)\n",
        "for i in range(len(corr_p_temp)):\n",
        "  for j in range(1,len(corr_p_temp)):\n",
        "    if(corr_p_temp[i][j]>0.7):\n",
        "      print(corr_p_temp[i][j])"
      ],
      "execution_count": 993,
      "outputs": [
        {
          "output_type": "stream",
          "text": [
            "1.0\n",
            "1.0\n",
            "1.0\n",
            "1.0\n",
            "1.0\n",
            "1.0\n",
            "1.0\n",
            "1.0\n"
          ],
          "name": "stdout"
        }
      ]
    }
  ]
}