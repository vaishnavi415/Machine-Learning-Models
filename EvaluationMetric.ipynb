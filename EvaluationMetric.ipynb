{
  "nbformat": 4,
  "nbformat_minor": 0,
  "metadata": {
    "colab": {
      "name": "EvaluationMetricLab.ipynb",
      "provenance": [],
      "collapsed_sections": []
    },
    "kernelspec": {
      "name": "python3",
      "display_name": "Python 3"
    }
  },
  "cells": [
    {
      "cell_type": "code",
      "metadata": {
        "id": "9l7HD94rODqX"
      },
      "source": [
        "import pandas as pd\n",
        "import numpy as np\n",
        "# from google.colab import drive"
      ],
      "execution_count": 1,
      "outputs": []
    },
    {
      "cell_type": "code",
      "metadata": {
        "id": "30qfWl1uOGVv"
      },
      "source": [
        "# drive.mount('/content/drive')"
      ],
      "execution_count": 2,
      "outputs": []
    },
    {
      "cell_type": "code",
      "metadata": {
        "id": "uXcnDs55OhzG"
      },
      "source": [
        "# give path to the data.csv \r\n",
        "file_path = '/content/data.csv' "
      ],
      "execution_count": 3,
      "outputs": []
    },
    {
      "cell_type": "markdown",
      "metadata": {
        "id": "P2izkRL5GOiV"
      },
      "source": [
        "As one may see, the csv file contains actual labels and the predicted probabilities from two ML model (random forest and logistic regression)."
      ]
    },
    {
      "cell_type": "code",
      "metadata": {
        "id": "Ps5StOSZOzc3",
        "colab": {
          "base_uri": "https://localhost:8080/",
          "height": 195
        },
        "outputId": "6e9085fe-51e0-47dc-d383-c7ac81f62039"
      },
      "source": [
        "df = pd.read_csv(file_path)\n",
        "df.head()\n"
      ],
      "execution_count": 4,
      "outputs": [
        {
          "output_type": "execute_result",
          "data": {
            "text/html": [
              "<div>\n",
              "<style scoped>\n",
              "    .dataframe tbody tr th:only-of-type {\n",
              "        vertical-align: middle;\n",
              "    }\n",
              "\n",
              "    .dataframe tbody tr th {\n",
              "        vertical-align: top;\n",
              "    }\n",
              "\n",
              "    .dataframe thead th {\n",
              "        text-align: right;\n",
              "    }\n",
              "</style>\n",
              "<table border=\"1\" class=\"dataframe\">\n",
              "  <thead>\n",
              "    <tr style=\"text-align: right;\">\n",
              "      <th></th>\n",
              "      <th>y_act</th>\n",
              "      <th>y_pred_random_forest</th>\n",
              "      <th>y_pred_logistic</th>\n",
              "    </tr>\n",
              "  </thead>\n",
              "  <tbody>\n",
              "    <tr>\n",
              "      <th>0</th>\n",
              "      <td>1</td>\n",
              "      <td>0.639816</td>\n",
              "      <td>0.531904</td>\n",
              "    </tr>\n",
              "    <tr>\n",
              "      <th>1</th>\n",
              "      <td>0</td>\n",
              "      <td>0.490993</td>\n",
              "      <td>0.414496</td>\n",
              "    </tr>\n",
              "    <tr>\n",
              "      <th>2</th>\n",
              "      <td>1</td>\n",
              "      <td>0.623815</td>\n",
              "      <td>0.569883</td>\n",
              "    </tr>\n",
              "    <tr>\n",
              "      <th>3</th>\n",
              "      <td>1</td>\n",
              "      <td>0.506616</td>\n",
              "      <td>0.443674</td>\n",
              "    </tr>\n",
              "    <tr>\n",
              "      <th>4</th>\n",
              "      <td>0</td>\n",
              "      <td>0.418302</td>\n",
              "      <td>0.369532</td>\n",
              "    </tr>\n",
              "  </tbody>\n",
              "</table>\n",
              "</div>"
            ],
            "text/plain": [
              "   y_act  y_pred_random_forest  y_pred_logistic\n",
              "0      1              0.639816         0.531904\n",
              "1      0              0.490993         0.414496\n",
              "2      1              0.623815         0.569883\n",
              "3      1              0.506616         0.443674\n",
              "4      0              0.418302         0.369532"
            ]
          },
          "metadata": {
            "tags": []
          },
          "execution_count": 4
        }
      ]
    },
    {
      "cell_type": "markdown",
      "metadata": {
        "id": "ya4LrEfQGlJ6"
      },
      "source": [
        "You have to take a threshold value and will have to predict final label. \r\n",
        "So add two new columns named as 'y_pred_rf'and 'y_pred_lr' in the df dataframe. These new columns will have final label predicted by the two models based on the threshold set."
      ]
    },
    {
      "cell_type": "code",
      "metadata": {
        "id": "djBcS1sPO2hP",
        "colab": {
          "base_uri": "https://localhost:8080/",
          "height": 195
        },
        "outputId": "61dfc963-690f-45fa-8c27-9b37718b4ddf"
      },
      "source": [
        "thresh = 0.5\n",
        "df['y_pred_rf'] = (df.y_pred_random_forest >= thresh).astype('int')\n",
        "df['y_pred_lr'] = (df.y_pred_logistic >= thresh).astype('int')\n",
        "df.head()"
      ],
      "execution_count": 60,
      "outputs": [
        {
          "output_type": "execute_result",
          "data": {
            "text/html": [
              "<div>\n",
              "<style scoped>\n",
              "    .dataframe tbody tr th:only-of-type {\n",
              "        vertical-align: middle;\n",
              "    }\n",
              "\n",
              "    .dataframe tbody tr th {\n",
              "        vertical-align: top;\n",
              "    }\n",
              "\n",
              "    .dataframe thead th {\n",
              "        text-align: right;\n",
              "    }\n",
              "</style>\n",
              "<table border=\"1\" class=\"dataframe\">\n",
              "  <thead>\n",
              "    <tr style=\"text-align: right;\">\n",
              "      <th></th>\n",
              "      <th>y_act</th>\n",
              "      <th>y_pred_random_forest</th>\n",
              "      <th>y_pred_logistic</th>\n",
              "      <th>y_pred_rf</th>\n",
              "      <th>y_pred_lr</th>\n",
              "    </tr>\n",
              "  </thead>\n",
              "  <tbody>\n",
              "    <tr>\n",
              "      <th>0</th>\n",
              "      <td>1</td>\n",
              "      <td>0.639816</td>\n",
              "      <td>0.531904</td>\n",
              "      <td>1</td>\n",
              "      <td>1</td>\n",
              "    </tr>\n",
              "    <tr>\n",
              "      <th>1</th>\n",
              "      <td>0</td>\n",
              "      <td>0.490993</td>\n",
              "      <td>0.414496</td>\n",
              "      <td>0</td>\n",
              "      <td>0</td>\n",
              "    </tr>\n",
              "    <tr>\n",
              "      <th>2</th>\n",
              "      <td>1</td>\n",
              "      <td>0.623815</td>\n",
              "      <td>0.569883</td>\n",
              "      <td>1</td>\n",
              "      <td>1</td>\n",
              "    </tr>\n",
              "    <tr>\n",
              "      <th>3</th>\n",
              "      <td>1</td>\n",
              "      <td>0.506616</td>\n",
              "      <td>0.443674</td>\n",
              "      <td>1</td>\n",
              "      <td>0</td>\n",
              "    </tr>\n",
              "    <tr>\n",
              "      <th>4</th>\n",
              "      <td>0</td>\n",
              "      <td>0.418302</td>\n",
              "      <td>0.369532</td>\n",
              "      <td>0</td>\n",
              "      <td>0</td>\n",
              "    </tr>\n",
              "  </tbody>\n",
              "</table>\n",
              "</div>"
            ],
            "text/plain": [
              "   y_act  y_pred_random_forest  y_pred_logistic  y_pred_rf  y_pred_lr\n",
              "0      1              0.639816         0.531904          1          1\n",
              "1      0              0.490993         0.414496          0          0\n",
              "2      1              0.623815         0.569883          1          1\n",
              "3      1              0.506616         0.443674          1          0\n",
              "4      0              0.418302         0.369532          0          0"
            ]
          },
          "metadata": {
            "tags": []
          },
          "execution_count": 60
        }
      ]
    },
    {
      "cell_type": "code",
      "metadata": {
        "id": "MyCUFrItPlPO",
        "colab": {
          "base_uri": "https://localhost:8080/"
        },
        "outputId": "891427fa-261e-4a4a-c6ae-075035aa155c"
      },
      "source": [
        "df.shape"
      ],
      "execution_count": 8,
      "outputs": [
        {
          "output_type": "execute_result",
          "data": {
            "text/plain": [
              "(15758, 5)"
            ]
          },
          "metadata": {
            "tags": []
          },
          "execution_count": 8
        }
      ]
    },
    {
      "cell_type": "markdown",
      "metadata": {
        "id": "--7qeK98HW0i"
      },
      "source": [
        "Complete below function to compute true positive (tp), tn, fn, fp"
      ]
    },
    {
      "cell_type": "code",
      "metadata": {
        "id": "odU7dUxRPJ0l"
      },
      "source": [
        "def compute_tp_tn_fn_fp(y_act, y_pred):\n",
        "  tp=0\n",
        "  tn=0\n",
        "  fp=0\n",
        "  fn=0\n",
        "  \n",
        "  for i in range(len(y_pred)):\n",
        "    if y_act[i] == y_pred[i]==1:\n",
        "      tp = tp + 1\n",
        "    if y_act[i]==y_pred[i]==0:\n",
        "      tn = tn + 1\n",
        "    if y_pred[i]==1 and y_act[i]!=y_pred[i]:\n",
        "      fp = fp + 1\n",
        "    if y_pred[i]==0 and y_act[i]!=y_pred[i]:\n",
        "      fn = fn + 1\n",
        "  return tp, tn, fp, fn"
      ],
      "execution_count": 9,
      "outputs": []
    },
    {
      "cell_type": "code",
      "metadata": {
        "id": "NUr_BhRdPScf",
        "colab": {
          "base_uri": "https://localhost:8080/"
        },
        "outputId": "88e788a9-7a60-40ab-c25e-68f3dfcc5447"
      },
      "source": [
        "tp_lr, tn_lr, fp_lr, fn_lr = compute_tp_tn_fn_fp(df.y_act, df.y_pred_lr)\n",
        "print('TP for Logistic Reg :', tp_lr)\n",
        "print('TN for Logistic Reg :', tn_lr)\n",
        "print('FP for Logistic Reg :', fp_lr)\n",
        "print('FN for Logistic Reg :', fn_lr)"
      ],
      "execution_count": 10,
      "outputs": [
        {
          "output_type": "stream",
          "text": [
            "TP for Logistic Reg : 4279\n",
            "TN for Logistic Reg : 5425\n",
            "FP for Logistic Reg : 2454\n",
            "FN for Logistic Reg : 3600\n"
          ],
          "name": "stdout"
        }
      ]
    },
    {
      "cell_type": "code",
      "metadata": {
        "id": "I_g7lSw0QXSW",
        "colab": {
          "base_uri": "https://localhost:8080/"
        },
        "outputId": "28387eb4-52d3-4925-f082-7072d955aaab"
      },
      "source": [
        "tp_rf, tn_rf, fp_rf, fn_rf = compute_tp_tn_fn_fp(df.y_act, df.y_pred_rf)\n",
        "print('TP for Random Forest :', tp_rf)\n",
        "print('TN for Random Forest :', tn_rf)\n",
        "print('FP for Random Forest :', fp_rf)\n",
        "print('FN for Random Forest :', fn_rf)"
      ],
      "execution_count": 11,
      "outputs": [
        {
          "output_type": "stream",
          "text": [
            "TP for Random Forest : 5047\n",
            "TN for Random Forest : 5519\n",
            "FP for Random Forest : 2360\n",
            "FN for Random Forest : 2832\n"
          ],
          "name": "stdout"
        }
      ]
    },
    {
      "cell_type": "markdown",
      "metadata": {
        "id": "GvCtMtH1H26J"
      },
      "source": [
        "Let's verify result from sklearn"
      ]
    },
    {
      "cell_type": "code",
      "metadata": {
        "id": "bgZP9T4CZ1Li"
      },
      "source": [
        "from sklearn.metrics import confusion_matrix\n",
        "tn_rf1, fp_rf1, fn_rf1, tp_rf1 = confusion_matrix(df.y_act, df.y_pred_rf).ravel()"
      ],
      "execution_count": 12,
      "outputs": []
    },
    {
      "cell_type": "code",
      "metadata": {
        "id": "_rtIci_rZ9J7",
        "colab": {
          "base_uri": "https://localhost:8080/"
        },
        "outputId": "37210c6e-6493-41bd-aadd-8587e09e3413"
      },
      "source": [
        "print('TP for Random Forest :', tp_rf1)\n",
        "print('TN for Random Forest :', tn_rf1)\n",
        "print('FP for Random Forest :', fp_rf1)\n",
        "print('FN for Random Forest :', fn_rf1)"
      ],
      "execution_count": 13,
      "outputs": [
        {
          "output_type": "stream",
          "text": [
            "TP for Random Forest : 5047\n",
            "TN for Random Forest : 5519\n",
            "FP for Random Forest : 2360\n",
            "FN for Random Forest : 2832\n"
          ],
          "name": "stdout"
        }
      ]
    },
    {
      "cell_type": "markdown",
      "metadata": {
        "id": "jhjYqqR2H8xU"
      },
      "source": [
        "In a similar way complete all the functions below"
      ]
    },
    {
      "cell_type": "markdown",
      "metadata": {
        "id": "RyRdGMBHSHac"
      },
      "source": [
        ""
      ]
    },
    {
      "cell_type": "code",
      "metadata": {
        "id": "G8RHrb5kQ_I_"
      },
      "source": [
        "def compute_accuracy(tp, tn, fn, fp):\n",
        "  acc = 100*((tn + tp)/(tn + fp + tp +fn))\n",
        "  return acc"
      ],
      "execution_count": 14,
      "outputs": []
    },
    {
      "cell_type": "code",
      "metadata": {
        "id": "NR5DT6tHRvc5",
        "colab": {
          "base_uri": "https://localhost:8080/"
        },
        "outputId": "74879899-f1f3-413c-ec8b-549bd7dbbefe"
      },
      "source": [
        "print('Accuracy for Logistic Regression :', compute_accuracy(tp_lr, tn_lr, fn_lr, fp_lr))\n",
        "print('Accuracy for Random Forest :', compute_accuracy(tp_rf, tn_rf, fn_rf, fp_rf))"
      ],
      "execution_count": 15,
      "outputs": [
        {
          "output_type": "stream",
          "text": [
            "Accuracy for Logistic Regression : 61.58141896179718\n",
            "Accuracy for Random Forest : 67.05165630156111\n"
          ],
          "name": "stdout"
        }
      ]
    },
    {
      "cell_type": "code",
      "metadata": {
        "id": "KPXXYszjTMOr"
      },
      "source": [
        "def compute_accuracy1(tp,tn,fn,fp):\r\n",
        "  acc1 = 100*(((tn/(tn + fp)) + (tp/(tp + fn)))/2)\r\n",
        "  return acc1"
      ],
      "execution_count": 16,
      "outputs": []
    },
    {
      "cell_type": "code",
      "metadata": {
        "id": "MrJUNR5BTVF2",
        "colab": {
          "base_uri": "https://localhost:8080/"
        },
        "outputId": "712df141-ebf3-4d5d-83f3-2a8e9868bf23"
      },
      "source": [
        "print('Accuracy for Logistic Regression from average method :', compute_accuracy1(tp_lr, tn_lr, fn_lr, fp_lr))\r\n",
        "print('Accuracy for Random Forest from average method:', compute_accuracy1(tp_rf, tn_rf, fn_rf, fp_rf))"
      ],
      "execution_count": 17,
      "outputs": [
        {
          "output_type": "stream",
          "text": [
            "Accuracy for Logistic Regression from average method : 61.58141896179718\n",
            "Accuracy for Random Forest from average method: 67.05165630156111\n"
          ],
          "name": "stdout"
        }
      ]
    },
    {
      "cell_type": "code",
      "metadata": {
        "id": "Oa_Yf9boSN3M"
      },
      "source": [
        "from sklearn.metrics import accuracy_score"
      ],
      "execution_count": 18,
      "outputs": []
    },
    {
      "cell_type": "code",
      "metadata": {
        "id": "SUiyyqq-SWer",
        "colab": {
          "base_uri": "https://localhost:8080/"
        },
        "outputId": "b92e691d-15e6-4be5-b025-91e6b7b6cc28"
      },
      "source": [
        "print('Accuracy for Logistic Regression :', 100* accuracy_score(df.y_act, \n",
        "                                                           df.y_pred_lr))\n",
        "print('Accuracy for Logistic Regression :', 100*accuracy_score(df.y_act, \n",
        "                                                           df.y_pred_rf))"
      ],
      "execution_count": 19,
      "outputs": [
        {
          "output_type": "stream",
          "text": [
            "Accuracy for Logistic Regression : 61.58141896179718\n",
            "Accuracy for Logistic Regression : 67.05165630156111\n"
          ],
          "name": "stdout"
        }
      ]
    },
    {
      "cell_type": "code",
      "metadata": {
        "id": "Lirv9_L0SZ85"
      },
      "source": [
        "def compute_precision(tp,fp):\n",
        "  precision = 100*(tp/(tp + fp))\n",
        "  return precision"
      ],
      "execution_count": 20,
      "outputs": []
    },
    {
      "cell_type": "code",
      "metadata": {
        "id": "fXBCPFF9XVqR",
        "colab": {
          "base_uri": "https://localhost:8080/"
        },
        "outputId": "e6f3d921-5876-42d5-ff24-a78e0cc678f5"
      },
      "source": [
        "print('Precision for Logistic Regression :', compute_precision(tp_lr,fp_lr))\n",
        "print('Precision for Random Forest :', compute_precision(tp_rf,fp_rf))"
      ],
      "execution_count": 21,
      "outputs": [
        {
          "output_type": "stream",
          "text": [
            "Precision for Logistic Regression : 63.55265112134264\n",
            "Precision for Random Forest : 68.1382476036182\n"
          ],
          "name": "stdout"
        }
      ]
    },
    {
      "cell_type": "code",
      "metadata": {
        "id": "bKvrMNKSYpWW",
        "colab": {
          "base_uri": "https://localhost:8080/"
        },
        "outputId": "cd3f35d5-c6a1-4985-fe28-f465e8ff4491"
      },
      "source": [
        "from sklearn.metrics import precision_score\n",
        "print('Precision for Logistic Regression :', 100* precision_score(df.y_act, \n",
        "                                                           df.y_pred_lr))\n",
        "print('Precision for Random Forest :', 100* precision_score(df.y_act, \n",
        "                                                           df.y_pred_rf))"
      ],
      "execution_count": 22,
      "outputs": [
        {
          "output_type": "stream",
          "text": [
            "Precision for Logistic Regression : 63.55265112134264\n",
            "Precision for Random Forest : 68.1382476036182\n"
          ],
          "name": "stdout"
        }
      ]
    },
    {
      "cell_type": "code",
      "metadata": {
        "id": "ZsrGqhaMY2j9"
      },
      "source": [
        "def compute_recall(tp,fn):\n",
        "  recal = 100*(tp/(tp + fn))\n",
        "  return recal "
      ],
      "execution_count": 23,
      "outputs": []
    },
    {
      "cell_type": "code",
      "metadata": {
        "id": "t9nsMZwBbFqF",
        "colab": {
          "base_uri": "https://localhost:8080/"
        },
        "outputId": "4dd0e02b-4e14-4035-cf83-7c6d6b7a6921"
      },
      "source": [
        "print('Recall for Logistic Regression :', compute_recall(tp_lr,fn_lr))\n",
        "print('Recall for Random Forest :', compute_recall(tp_rf,fn_rf))"
      ],
      "execution_count": 24,
      "outputs": [
        {
          "output_type": "stream",
          "text": [
            "Recall for Logistic Regression : 54.30892245208783\n",
            "Recall for Random Forest : 64.05635232897576\n"
          ],
          "name": "stdout"
        }
      ]
    },
    {
      "cell_type": "code",
      "metadata": {
        "id": "hctMfFOCa-OX",
        "colab": {
          "base_uri": "https://localhost:8080/"
        },
        "outputId": "f284b333-24df-4c5c-db72-292ad4f83eed"
      },
      "source": [
        "from sklearn.metrics import recall_score\n",
        "\n",
        "print('Recall for Logistic Regression :', 100* recall_score(df.y_act, \n",
        "                                                           df.y_pred_lr))\n",
        "print('Recall for Random Forest :', 100* recall_score(df.y_act, \n",
        "                                                           df.y_pred_rf))"
      ],
      "execution_count": 25,
      "outputs": [
        {
          "output_type": "stream",
          "text": [
            "Recall for Logistic Regression : 54.30892245208783\n",
            "Recall for Random Forest : 64.05635232897576\n"
          ],
          "name": "stdout"
        }
      ]
    },
    {
      "cell_type": "code",
      "metadata": {
        "id": "oYF1hlSGbiN4"
      },
      "source": [
        "def compute_f1_score(y_true, y_pred):\n",
        "  # calculates the F1 score. Complete function\n",
        "  tp,tn,fp,fn = compute_tp_tn_fn_fp(y_true, y_pred)\n",
        "  rec = compute_recall(tp,fn)\n",
        "  prec = compute_precision(tp,fp)\n",
        "  f1_score = (2*((prec*rec)/(prec + rec)))/100\n",
        "  return f1_score"
      ],
      "execution_count": 26,
      "outputs": []
    },
    {
      "cell_type": "code",
      "metadata": {
        "id": "6BQl8guud5c8",
        "colab": {
          "base_uri": "https://localhost:8080/"
        },
        "outputId": "30ea7297-4d77-4ae0-c1b2-3a82ec02c79b"
      },
      "source": [
        "print('F1 score for Logistic Regression :', compute_f1_score(df.y_act, \n",
        "                                                             df.y_pred_lr))\n",
        "print('F1 score for Random Forest :', compute_f1_score(df.y_act, \n",
        "                                                             df.y_pred_rf))"
      ],
      "execution_count": 27,
      "outputs": [
        {
          "output_type": "stream",
          "text": [
            "F1 score for Logistic Regression : 0.5856830002737476\n",
            "F1 score for Random Forest : 0.660342797330891\n"
          ],
          "name": "stdout"
        }
      ]
    },
    {
      "cell_type": "code",
      "metadata": {
        "id": "qBrixsxLeFHq",
        "colab": {
          "base_uri": "https://localhost:8080/"
        },
        "outputId": "1baea831-8a40-4504-db13-22f2fd009d9b"
      },
      "source": [
        "from sklearn.metrics import f1_score\n",
        "print('F1 score for Logistic Regression :', f1_score(df.y_act, df.y_pred_lr))\n",
        "print('F1 score for Random Forest :', f1_score(df.y_act, df.y_pred_rf))"
      ],
      "execution_count": 28,
      "outputs": [
        {
          "output_type": "stream",
          "text": [
            "F1 score for Logistic Regression : 0.5856830002737475\n",
            "F1 score for Random Forest : 0.660342797330891\n"
          ],
          "name": "stdout"
        }
      ]
    },
    {
      "cell_type": "code",
      "metadata": {
        "id": "_ehAwBc4ecS_"
      },
      "source": [
        "from sklearn.metrics import roc_auc_score\r\n",
        "from sklearn.metrics import roc_curve\r\n"
      ],
      "execution_count": 57,
      "outputs": []
    },
    {
      "cell_type": "code",
      "metadata": {
        "id": "nI3ruLw4Jxz2"
      },
      "source": [
        "#based on  actual label and predicted probabilities\r\n",
        "fpr_lr, tpr_lr, threshold_lr = roc_curve(df.y_act,df.y_pred_logistic)\r\n",
        "fpr_rf, tpr_rf, threshold_rf = roc_curve(df.y_act,df.y_pred_random_forest)\r\n",
        "\r\n",
        "# based on final label predicted by the two models based on the threshold set.\r\n",
        "rf_fpr, rf_tpr, _ = roc_curve(df.y_act, df.y_pred_rf)\r\n",
        "lr_fpr, lr_tpr, _ = roc_curve(df.y_act, df.y_pred_lr)"
      ],
      "execution_count": 59,
      "outputs": []
    },
    {
      "cell_type": "code",
      "metadata": {
        "id": "j6Xoi8ld3sN8"
      },
      "source": [
        "#based on  actual label and predicted probabilities\r\n",
        "auc_lr = roc_auc_score(df.y_act,df.y_pred_logistic)\r\n",
        "auc_rf = roc_auc_score(df.y_act,df.y_pred_random_forest) \r\n",
        "\r\n",
        "# based on final label predicted by the two models based on the threshold set.\r\n",
        "rf_auc = roc_auc_score(df.y_act, df.y_pred_rf)\r\n",
        "lr_auc = roc_auc_score(df.y_act, df.y_pred_lr)"
      ],
      "execution_count": 54,
      "outputs": []
    },
    {
      "cell_type": "code",
      "metadata": {
        "colab": {
          "base_uri": "https://localhost:8080/"
        },
        "id": "qkqq6P1l8yWv",
        "outputId": "d2f680de-469f-47de-b5f7-f3174b4c84fa"
      },
      "source": [
        "print('Random Forest: AUROC = %.3f' % (auc_rf))\r\n",
        "print('Logistic Regression: AUROC = %.3f' % (auc_lr))\r\n",
        "\r\n",
        "print('Random Forest: AUROC = %.3f' % (rf_auc))\r\n",
        "print('Logistic Regression: AUROC = %.3f' % (lr_auc))"
      ],
      "execution_count": 55,
      "outputs": [
        {
          "output_type": "stream",
          "text": [
            "Random Forest: AUROC = 0.738\n",
            "Logistic Regression: AUROC = 0.666\n",
            "Random Forest: AUROC = 0.671\n",
            "Logistic Regression: AUROC = 0.616\n"
          ],
          "name": "stdout"
        }
      ]
    },
    {
      "cell_type": "code",
      "metadata": {
        "colab": {
          "base_uri": "https://localhost:8080/",
          "height": 295
        },
        "id": "te2pcaOKCRFl",
        "outputId": "2f89631b-1aaf-4047-9def-2f19241f7281"
      },
      "source": [
        "#based on  actual label and predicted probabilities\r\n",
        "import matplotlib.pyplot as plt\r\n",
        "\r\n",
        "\r\n",
        "plt.plot(fpr_rf, tpr_rf, marker='.', label='Random Forest (AUC = %0.3f)' % auc_rf)\r\n",
        "plt.plot(fpr_lr, tpr_lr, marker='.', label='Logistic Regression (AUC = %0.3f)' % auc_lr)\r\n",
        "\r\n",
        "# Title\r\n",
        "plt.title('ROC Plot')\r\n",
        "# Axis labels\r\n",
        "plt.xlabel('False Positive Rate')\r\n",
        "plt.ylabel('True Positive Rate')\r\n",
        "# Show legend\r\n",
        "plt.legend() \r\n",
        "# Show plot\r\n",
        "plt.show()"
      ],
      "execution_count": 49,
      "outputs": [
        {
          "output_type": "display_data",
          "data": {
            "image/png": "[encoded data removed]",
            "text/plain": [
              "<Figure size 432x288 with 1 Axes>"
            ]
          },
          "metadata": {
            "tags": [],
            "needs_background": "light"
          }
        }
      ]
    },
    {
      "cell_type": "code",
      "metadata": {
        "colab": {
          "base_uri": "https://localhost:8080/",
          "height": 295
        },
        "id": "aX6RAe4yI4Sc",
        "outputId": "a05397fa-2ab5-4dbc-8afb-60f5937bf5b2"
      },
      "source": [
        "# based on final label predicted by the two models based on the threshold set.\r\n",
        "import matplotlib.pyplot as plt\r\n",
        "\r\n",
        "\r\n",
        "plt.plot(rf_fpr, rf_tpr, marker='.', label='Random Forest (AUC = %0.3f)' % rf_auc)\r\n",
        "plt.plot(lr_fpr, lr_tpr, marker='.', label='Logistic Regression (AUC = %0.3f)' % lr_auc)\r\n",
        "\r\n",
        "# Title\r\n",
        "plt.title('ROC Plot')\r\n",
        "# Axis labels\r\n",
        "plt.xlabel('False Positive Rate')\r\n",
        "plt.ylabel('True Positive Rate')\r\n",
        "# Show legend\r\n",
        "plt.legend() \r\n",
        "# Show plot\r\n",
        "plt.show()"
      ],
      "execution_count": 51,
      "outputs": [
        {
          "output_type": "display_data",
          "data": {
            "image/png": "[encoded data removed]",
            "text/plain": [
              "<Figure size 432x288 with 1 Axes>"
            ]
          },
          "metadata": {
            "tags": [],
            "needs_background": "light"
          }
        }
      ]
    }
  ]
}