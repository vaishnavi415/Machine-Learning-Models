{
  "nbformat": 4,
  "nbformat_minor": 0,
  "metadata": {
    "colab": {
      "name": "Lab_Excercise_3_(1)_(1) (1).ipynb",
      "provenance": [],
      "collapsed_sections": [],
      "toc_visible": true
    },
    "kernelspec": {
      "name": "python3",
      "display_name": "Python 3"
    },
    "language_info": {
      "name": "python"
    }
  },
  "cells": [
    {
      "cell_type": "markdown",
      "metadata": {
        "id": "c1bdHZpVR49x"
      },
      "source": [
        "Dependecies: Add your Dependencies here"
      ]
    },
    {
      "cell_type": "code",
      "metadata": {
        "id": "SvEn454ZZ2z1"
      },
      "source": [
        "#!pip install dtreeviz\n",
        "#import dtreeviz"
      ],
      "execution_count": 187,
      "outputs": []
    },
    {
      "cell_type": "code",
      "metadata": {
        "id": "ZAhH4iltSA-g"
      },
      "source": [
        "import pandas as pd\n",
        "import numpy as np\n",
        "import seaborn as sns\n",
        "from matplotlib import pyplot as plt\n",
        "from matplotlib import rcParams\n",
        "from sklearn import tree\n",
        "from sklearn.model_selection import cross_val_score\n",
        "#from dtreeviz.trees import dtreeviz\n",
        "rcParams['figure.figsize']= 10,10"
      ],
      "execution_count": 188,
      "outputs": []
    },
    {
      "cell_type": "markdown",
      "metadata": {
        "id": "F5ZZ6LuuSvP-"
      },
      "source": [
        "Read the dataset from the CSV file"
      ]
    },
    {
      "cell_type": "code",
      "metadata": {
        "id": "LWGOAbf7Sxiu",
        "colab": {
          "base_uri": "https://localhost:8080/",
          "height": 419
        },
        "outputId": "656baa63-b675-4084-9c8b-305f3d7f6d58"
      },
      "source": [
        "dic = {'Serious_Dlq_in_2yrs':0,'Debt_Ratio':0.24,'age':23,'Number_Of_Time_30-59_Days_Past_Due':0,'Number_Of_Time_60-89_Days_Past_Due':0,'Number_Of_Times_90_Days_Late':0,'Monthly_Income':78,'Dependents':0}\n",
        "data = pd.read_csv('/content/credit_scoring_sample.csv')\n",
        "data"
      ],
      "execution_count": 189,
      "outputs": [
        {
          "output_type": "execute_result",
          "data": {
            "text/html": [
              "<div>\n",
              "<style scoped>\n",
              "    .dataframe tbody tr th:only-of-type {\n",
              "        vertical-align: middle;\n",
              "    }\n",
              "\n",
              "    .dataframe tbody tr th {\n",
              "        vertical-align: top;\n",
              "    }\n",
              "\n",
              "    .dataframe thead th {\n",
              "        text-align: right;\n",
              "    }\n",
              "</style>\n",
              "<table border=\"1\" class=\"dataframe\">\n",
              "  <thead>\n",
              "    <tr style=\"text-align: right;\">\n",
              "      <th></th>\n",
              "      <th>Serious_Dlq_in_2yrs</th>\n",
              "      <th>Debt_Ratio</th>\n",
              "      <th>age</th>\n",
              "      <th>Number_Of_Time_30-59_Days_Past_Due</th>\n",
              "      <th>Number_Of_Time_60-89_Days_Past_Due</th>\n",
              "      <th>Number_Of_Times_90_Days_Late</th>\n",
              "      <th>Monthly_Income</th>\n",
              "      <th>Dependents</th>\n",
              "    </tr>\n",
              "  </thead>\n",
              "  <tbody>\n",
              "    <tr>\n",
              "      <th>0</th>\n",
              "      <td>0</td>\n",
              "      <td>454.000000</td>\n",
              "      <td>21</td>\n",
              "      <td>0</td>\n",
              "      <td>0</td>\n",
              "      <td>0</td>\n",
              "      <td>NaN</td>\n",
              "      <td>NaN</td>\n",
              "    </tr>\n",
              "    <tr>\n",
              "      <th>1</th>\n",
              "      <td>1</td>\n",
              "      <td>0.174377</td>\n",
              "      <td>22</td>\n",
              "      <td>1</td>\n",
              "      <td>1</td>\n",
              "      <td>1</td>\n",
              "      <td>280.0</td>\n",
              "      <td>0.0</td>\n",
              "    </tr>\n",
              "    <tr>\n",
              "      <th>2</th>\n",
              "      <td>0</td>\n",
              "      <td>0.000000</td>\n",
              "      <td>22</td>\n",
              "      <td>0</td>\n",
              "      <td>0</td>\n",
              "      <td>0</td>\n",
              "      <td>1500.0</td>\n",
              "      <td>0.0</td>\n",
              "    </tr>\n",
              "    <tr>\n",
              "      <th>3</th>\n",
              "      <td>1</td>\n",
              "      <td>0.000000</td>\n",
              "      <td>23</td>\n",
              "      <td>98</td>\n",
              "      <td>98</td>\n",
              "      <td>98</td>\n",
              "      <td>NaN</td>\n",
              "      <td>0.0</td>\n",
              "    </tr>\n",
              "    <tr>\n",
              "      <th>4</th>\n",
              "      <td>1</td>\n",
              "      <td>111.000000</td>\n",
              "      <td>23</td>\n",
              "      <td>0</td>\n",
              "      <td>1</td>\n",
              "      <td>2</td>\n",
              "      <td>NaN</td>\n",
              "      <td>0.0</td>\n",
              "    </tr>\n",
              "    <tr>\n",
              "      <th>...</th>\n",
              "      <td>...</td>\n",
              "      <td>...</td>\n",
              "      <td>...</td>\n",
              "      <td>...</td>\n",
              "      <td>...</td>\n",
              "      <td>...</td>\n",
              "      <td>...</td>\n",
              "      <td>...</td>\n",
              "    </tr>\n",
              "    <tr>\n",
              "      <th>994</th>\n",
              "      <td>0</td>\n",
              "      <td>0.065758</td>\n",
              "      <td>89</td>\n",
              "      <td>0</td>\n",
              "      <td>0</td>\n",
              "      <td>0</td>\n",
              "      <td>10416.0</td>\n",
              "      <td>0.0</td>\n",
              "    </tr>\n",
              "    <tr>\n",
              "      <th>995</th>\n",
              "      <td>0</td>\n",
              "      <td>0.019423</td>\n",
              "      <td>90</td>\n",
              "      <td>0</td>\n",
              "      <td>0</td>\n",
              "      <td>0</td>\n",
              "      <td>3500.0</td>\n",
              "      <td>0.0</td>\n",
              "    </tr>\n",
              "    <tr>\n",
              "      <th>996</th>\n",
              "      <td>0</td>\n",
              "      <td>0.173890</td>\n",
              "      <td>91</td>\n",
              "      <td>0</td>\n",
              "      <td>0</td>\n",
              "      <td>0</td>\n",
              "      <td>5767.0</td>\n",
              "      <td>0.0</td>\n",
              "    </tr>\n",
              "    <tr>\n",
              "      <th>997</th>\n",
              "      <td>0</td>\n",
              "      <td>32.000000</td>\n",
              "      <td>92</td>\n",
              "      <td>0</td>\n",
              "      <td>0</td>\n",
              "      <td>0</td>\n",
              "      <td>NaN</td>\n",
              "      <td>0.0</td>\n",
              "    </tr>\n",
              "    <tr>\n",
              "      <th>998</th>\n",
              "      <td>0</td>\n",
              "      <td>0.000000</td>\n",
              "      <td>94</td>\n",
              "      <td>0</td>\n",
              "      <td>0</td>\n",
              "      <td>0</td>\n",
              "      <td>NaN</td>\n",
              "      <td>0.0</td>\n",
              "    </tr>\n",
              "  </tbody>\n",
              "</table>\n",
              "<p>999 rows × 8 columns</p>\n",
              "</div>"
            ],
            "text/plain": [
              "     Serious_Dlq_in_2yrs  Debt_Ratio  ...  Monthly_Income  Dependents\n",
              "0                      0  454.000000  ...             NaN         NaN\n",
              "1                      1    0.174377  ...           280.0         0.0\n",
              "2                      0    0.000000  ...          1500.0         0.0\n",
              "3                      1    0.000000  ...             NaN         0.0\n",
              "4                      1  111.000000  ...             NaN         0.0\n",
              "..                   ...         ...  ...             ...         ...\n",
              "994                    0    0.065758  ...         10416.0         0.0\n",
              "995                    0    0.019423  ...          3500.0         0.0\n",
              "996                    0    0.173890  ...          5767.0         0.0\n",
              "997                    0   32.000000  ...             NaN         0.0\n",
              "998                    0    0.000000  ...             NaN         0.0\n",
              "\n",
              "[999 rows x 8 columns]"
            ]
          },
          "metadata": {
            "tags": []
          },
          "execution_count": 189
        }
      ]
    },
    {
      "cell_type": "code",
      "metadata": {
        "id": "n5gKW5Y3VHYi",
        "colab": {
          "base_uri": "https://localhost:8080/",
          "height": 627
        },
        "outputId": "36b90221-141f-4be9-8e49-ed2d85088f5f"
      },
      "source": [
        "plt.scatter(data.index , data['Serious_Dlq_in_2yrs'])\n",
        "plt.xlabel(\"number_of_observations\")\n",
        "plt.ylabel(\"range_value\")\n",
        "plt.title(\"Target distribution\")\n",
        "\n",
        "\n",
        "plt.show()"
      ],
      "execution_count": 190,
      "outputs": [
        {
          "output_type": "display_data",
          "data": {
            "image/png": "[encoded data removed]",
            "text/plain": [
              "<Figure size 720x720 with 1 Axes>"
            ]
          },
          "metadata": {
            "tags": []
          }
        }
      ]
    },
    {
      "cell_type": "code",
      "metadata": {
        "colab": {
          "base_uri": "https://localhost:8080/",
          "height": 666
        },
        "id": "7KBl6GKWvOUm",
        "outputId": "f426cb64-176c-492f-a33a-64c2081d2de0"
      },
      "source": [
        "ax = data[ 'Serious_Dlq_in_2yrs'].value_counts().sort_values().plot(kind=\"barh\")\n",
        "totals= []\n",
        "for i in ax.patches:\n",
        "    totals.append(i.get_width())\n",
        "total = sum(totals)\n",
        "for i in ax.patches:\n",
        "     ax.text(i.get_width()+.3, i.get_y()+.20, \n",
        "     str(round((i.get_width()/total)*100, 2))+'%', \n",
        "     fontsize=10, color='black')\n",
        "ax.grid(axis=\"x\")\n",
        "plt.suptitle('Serious_Dlq_in_2yrs', fontsize=20)\n",
        "plt.show()"
      ],
      "execution_count": 191,
      "outputs": [
        {
          "output_type": "display_data",
          "data": {
            "image/png": "[encoded data removed]",
            "text/plain": [
              "<Figure size 720x720 with 1 Axes>"
            ]
          },
          "metadata": {
            "tags": []
          }
        }
      ]
    },
    {
      "cell_type": "code",
      "metadata": {
        "id": "sYXjG7M6TU4-",
        "colab": {
          "base_uri": "https://localhost:8080/"
        },
        "outputId": "0530e9db-82f0-4d7d-bdea-e3e045783778"
      },
      "source": [
        "data[['Serious_Dlq_in_2yrs']].sum()"
      ],
      "execution_count": 192,
      "outputs": [
        {
          "output_type": "execute_result",
          "data": {
            "text/plain": [
              "Serious_Dlq_in_2yrs    300\n",
              "dtype: int64"
            ]
          },
          "metadata": {
            "tags": []
          },
          "execution_count": 192
        }
      ]
    },
    {
      "cell_type": "code",
      "metadata": {
        "id": "MuZzejPkUhWG",
        "colab": {
          "base_uri": "https://localhost:8080/",
          "height": 297
        },
        "outputId": "04e2d2ab-abad-426f-84bd-559bfea64688"
      },
      "source": [
        "data[['Dependents']].describe()"
      ],
      "execution_count": 193,
      "outputs": [
        {
          "output_type": "execute_result",
          "data": {
            "text/html": [
              "<div>\n",
              "<style scoped>\n",
              "    .dataframe tbody tr th:only-of-type {\n",
              "        vertical-align: middle;\n",
              "    }\n",
              "\n",
              "    .dataframe tbody tr th {\n",
              "        vertical-align: top;\n",
              "    }\n",
              "\n",
              "    .dataframe thead th {\n",
              "        text-align: right;\n",
              "    }\n",
              "</style>\n",
              "<table border=\"1\" class=\"dataframe\">\n",
              "  <thead>\n",
              "    <tr style=\"text-align: right;\">\n",
              "      <th></th>\n",
              "      <th>Dependents</th>\n",
              "    </tr>\n",
              "  </thead>\n",
              "  <tbody>\n",
              "    <tr>\n",
              "      <th>count</th>\n",
              "      <td>976.000000</td>\n",
              "    </tr>\n",
              "    <tr>\n",
              "      <th>mean</th>\n",
              "      <td>0.780738</td>\n",
              "    </tr>\n",
              "    <tr>\n",
              "      <th>std</th>\n",
              "      <td>1.125498</td>\n",
              "    </tr>\n",
              "    <tr>\n",
              "      <th>min</th>\n",
              "      <td>0.000000</td>\n",
              "    </tr>\n",
              "    <tr>\n",
              "      <th>25%</th>\n",
              "      <td>0.000000</td>\n",
              "    </tr>\n",
              "    <tr>\n",
              "      <th>50%</th>\n",
              "      <td>0.000000</td>\n",
              "    </tr>\n",
              "    <tr>\n",
              "      <th>75%</th>\n",
              "      <td>1.000000</td>\n",
              "    </tr>\n",
              "    <tr>\n",
              "      <th>max</th>\n",
              "      <td>8.000000</td>\n",
              "    </tr>\n",
              "  </tbody>\n",
              "</table>\n",
              "</div>"
            ],
            "text/plain": [
              "       Dependents\n",
              "count  976.000000\n",
              "mean     0.780738\n",
              "std      1.125498\n",
              "min      0.000000\n",
              "25%      0.000000\n",
              "50%      0.000000\n",
              "75%      1.000000\n",
              "max      8.000000"
            ]
          },
          "metadata": {
            "tags": []
          },
          "execution_count": 193
        }
      ]
    },
    {
      "cell_type": "code",
      "metadata": {
        "id": "7ZzCv1MBUSeH",
        "colab": {
          "base_uri": "https://localhost:8080/"
        },
        "outputId": "a9cdea9e-f49b-463f-d123-16855adcbea7"
      },
      "source": [
        "data.isna().sum()"
      ],
      "execution_count": 194,
      "outputs": [
        {
          "output_type": "execute_result",
          "data": {
            "text/plain": [
              "Serious_Dlq_in_2yrs                     0\n",
              "Debt_Ratio                              0\n",
              "age                                     0\n",
              "Number_Of_Time_30-59_Days_Past_Due      0\n",
              "Number_Of_Time_60-89_Days_Past_Due      0\n",
              "Number_Of_Times_90_Days_Late            0\n",
              "Monthly_Income                        186\n",
              "Dependents                             23\n",
              "dtype: int64"
            ]
          },
          "metadata": {
            "tags": []
          },
          "execution_count": 194
        }
      ]
    },
    {
      "cell_type": "code",
      "metadata": {
        "id": "Y3bVn6c-Vk1C",
        "colab": {
          "base_uri": "https://localhost:8080/"
        },
        "outputId": "ff90a51c-814c-4fac-ee96-fc2a5f2abd1d"
      },
      "source": [
        "# Handle the NaN values\n",
        "data.fillna(data.mean(), inplace=True)\n",
        "data.isna().sum()"
      ],
      "execution_count": 195,
      "outputs": [
        {
          "output_type": "execute_result",
          "data": {
            "text/plain": [
              "Serious_Dlq_in_2yrs                   0\n",
              "Debt_Ratio                            0\n",
              "age                                   0\n",
              "Number_Of_Time_30-59_Days_Past_Due    0\n",
              "Number_Of_Time_60-89_Days_Past_Due    0\n",
              "Number_Of_Times_90_Days_Late          0\n",
              "Monthly_Income                        0\n",
              "Dependents                            0\n",
              "dtype: int64"
            ]
          },
          "metadata": {
            "tags": []
          },
          "execution_count": 195
        }
      ]
    },
    {
      "cell_type": "code",
      "metadata": {
        "id": "gM817FetVsSO",
        "colab": {
          "base_uri": "https://localhost:8080/",
          "height": 1000
        },
        "outputId": "81b8bc51-0a3e-4820-c863-b05da0795378"
      },
      "source": [
        "# Visualize the distribution of data for every feature\n",
        "for x in data.columns:\n",
        "  if x != \"Serious_Dlq_in_2yrs\":\n",
        "    plt.xlabel(\"index\")\n",
        "    plt.ylabel(x)\n",
        "    plt.scatter(data.index,data[x])\n",
        "    plt.show()\n",
        "    print('\\n')"
      ],
      "execution_count": 196,
      "outputs": [
        {
          "output_type": "display_data",
          "data": {
            "image/png": "[encoded data removed]",
            "text/plain": [
              "<Figure size 720x720 with 1 Axes>"
            ]
          },
          "metadata": {
            "tags": []
          }
        },
        {
          "output_type": "stream",
          "text": [
            "\n",
            "\n"
          ],
          "name": "stdout"
        },
        {
          "output_type": "display_data",
          "data": {
            "image/png": "[encoded data removed]",
            "text/plain": [
              "<Figure size 720x720 with 1 Axes>"
            ]
          },
          "metadata": {
            "tags": []
          }
        },
        {
          "output_type": "stream",
          "text": [
            "\n",
            "\n"
          ],
          "name": "stdout"
        },
        {
          "output_type": "display_data",
          "data": {
            "image/png": "[encoded data removed]",
            "text/plain": [
              "<Figure size 720x720 with 1 Axes>"
            ]
          },
          "metadata": {
            "tags": []
          }
        },
        {
          "output_type": "stream",
          "text": [
            "\n",
            "\n"
          ],
          "name": "stdout"
        },
        {
          "output_type": "display_data",
          "data": {
            "image/png": "[encoded data removed]",
            "text/plain": [
              "<Figure size 720x720 with 1 Axes>"
            ]
          },
          "metadata": {
            "tags": []
          }
        },
        {
          "output_type": "stream",
          "text": [
            "\n",
            "\n"
          ],
          "name": "stdout"
        },
        {
          "output_type": "display_data",
          "data": {
            "image/png": "[encoded data removed]",
            "text/plain": [
              "<Figure size 720x720 with 1 Axes>"
            ]
          },
          "metadata": {
            "tags": []
          }
        },
        {
          "output_type": "stream",
          "text": [
            "\n",
            "\n"
          ],
          "name": "stdout"
        },
        {
          "output_type": "display_data",
          "data": {
            "image/png": "[encoded data removed]",
            "text/plain": [
              "<Figure size 720x720 with 1 Axes>"
            ]
          },
          "metadata": {
            "tags": []
          }
        },
        {
          "output_type": "stream",
          "text": [
            "\n",
            "\n"
          ],
          "name": "stdout"
        },
        {
          "output_type": "display_data",
          "data": {
            "image/png": "[encoded data removed]",
            "text/plain": [
              "<Figure size 720x720 with 1 Axes>"
            ]
          },
          "metadata": {
            "tags": []
          }
        },
        {
          "output_type": "stream",
          "text": [
            "\n",
            "\n"
          ],
          "name": "stdout"
        }
      ]
    },
    {
      "cell_type": "markdown",
      "metadata": {
        "id": "z8iur7tiWuwT"
      },
      "source": [
        "Train the Random Forest Classifier"
      ]
    },
    {
      "cell_type": "code",
      "metadata": {
        "id": "jwijwtAVWwNq"
      },
      "source": [
        "from sklearn.ensemble import RandomForestClassifier\n",
        "from sklearn.model_selection import StratifiedKFold\n",
        "from sklearn.model_selection import GridSearchCV\n",
        "from sklearn.model_selection import train_test_split"
      ],
      "execution_count": 197,
      "outputs": []
    },
    {
      "cell_type": "code",
      "metadata": {
        "id": "6HCU6WgdW9hP"
      },
      "source": [
        "# seperate depedendent and independent variables from the dataset\n",
        "X = data.iloc[:,1:].values #indep.\n",
        "y = data.iloc[:,0:1].values #dep.\n",
        "#feature_names = X.columns\n",
        "#labels = y.unique()\n",
        "\n",
        "#X_train, X_test, y_train, y_test = train_test_split(X, y, test_size=0.33, random_state=42)\n",
        "\n"
      ],
      "execution_count": 198,
      "outputs": []
    },
    {
      "cell_type": "code",
      "metadata": {
        "id": "PQW0YDOiBdgw",
        "colab": {
          "base_uri": "https://localhost:8080/"
        },
        "outputId": "0f9df655-416e-4199-8650-43f6c8dbe420"
      },
      "source": [
        "f = data.columns\n",
        "f[1:]"
      ],
      "execution_count": 199,
      "outputs": [
        {
          "output_type": "execute_result",
          "data": {
            "text/plain": [
              "Index(['Debt_Ratio', 'age', 'Number_Of_Time_30-59_Days_Past_Due',\n",
              "       'Number_Of_Time_60-89_Days_Past_Due', 'Number_Of_Times_90_Days_Late',\n",
              "       'Monthly_Income', 'Dependents'],\n",
              "      dtype='object')"
            ]
          },
          "metadata": {
            "tags": []
          },
          "execution_count": 199
        }
      ]
    },
    {
      "cell_type": "code",
      "metadata": {
        "id": "r20IBUNmXOKM"
      },
      "source": [
        "# define paramerts for the random forest\n",
        "parameters = {'max_features': [1, 2, 4], 'max_depth': [2,3,4,5]}\n",
        "rf = RandomForestClassifier(n_estimators=100,n_jobs=-1, random_state=42, \n",
        "                            class_weight='balanced')\n",
        "#rf.fit(X_train,y_train)"
      ],
      "execution_count": 200,
      "outputs": []
    },
    {
      "cell_type": "code",
      "metadata": {
        "id": "9R-UApjDxbPo"
      },
      "source": [
        "#plt.figure(figsize=(20,20))\n",
        "#_ = tree.plot_tree(rf.estimators_[0], feature_names=f, filled=True)"
      ],
      "execution_count": 201,
      "outputs": []
    },
    {
      "cell_type": "code",
      "metadata": {
        "id": "p8Qa-z0Gxru_"
      },
      "source": [
        "#viz = dtreeviz(rf.estimators_[0], X, y, feature_names= [str(x) for x in feature_names], target_name= str(labels))\n",
        "#viz.view()"
      ],
      "execution_count": 202,
      "outputs": []
    },
    {
      "cell_type": "code",
      "metadata": {
        "id": "OY9uM41a322A",
        "colab": {
          "base_uri": "https://localhost:8080/"
        },
        "outputId": "66db3e53-d9c9-4526-efe7-38d8478f40f1"
      },
      "source": [
        "print(y)"
      ],
      "execution_count": 203,
      "outputs": [
        {
          "output_type": "stream",
          "text": [
            "[[0]\n",
            " [1]\n",
            " [0]\n",
            " [1]\n",
            " [1]\n",
            " [1]\n",
            " [1]\n",
            " [0]\n",
            " [0]\n",
            " [0]\n",
            " [1]\n",
            " [1]\n",
            " [1]\n",
            " [0]\n",
            " [0]\n",
            " [0]\n",
            " [0]\n",
            " [1]\n",
            " [1]\n",
            " [1]\n",
            " [1]\n",
            " [0]\n",
            " [0]\n",
            " [0]\n",
            " [0]\n",
            " [0]\n",
            " [0]\n",
            " [1]\n",
            " [1]\n",
            " [1]\n",
            " [0]\n",
            " [0]\n",
            " [1]\n",
            " [1]\n",
            " [1]\n",
            " [0]\n",
            " [0]\n",
            " [0]\n",
            " [0]\n",
            " [0]\n",
            " [0]\n",
            " [1]\n",
            " [1]\n",
            " [1]\n",
            " [1]\n",
            " [1]\n",
            " [1]\n",
            " [1]\n",
            " [1]\n",
            " [1]\n",
            " [0]\n",
            " [0]\n",
            " [0]\n",
            " [1]\n",
            " [1]\n",
            " [1]\n",
            " [0]\n",
            " [0]\n",
            " [0]\n",
            " [0]\n",
            " [0]\n",
            " [0]\n",
            " [0]\n",
            " [0]\n",
            " [1]\n",
            " [1]\n",
            " [0]\n",
            " [0]\n",
            " [0]\n",
            " [0]\n",
            " [0]\n",
            " [0]\n",
            " [0]\n",
            " [0]\n",
            " [0]\n",
            " [0]\n",
            " [0]\n",
            " [0]\n",
            " [0]\n",
            " [0]\n",
            " [1]\n",
            " [1]\n",
            " [1]\n",
            " [1]\n",
            " [1]\n",
            " [1]\n",
            " [1]\n",
            " [1]\n",
            " [0]\n",
            " [0]\n",
            " [0]\n",
            " [0]\n",
            " [0]\n",
            " [0]\n",
            " [0]\n",
            " [0]\n",
            " [0]\n",
            " [0]\n",
            " [1]\n",
            " [1]\n",
            " [1]\n",
            " [1]\n",
            " [0]\n",
            " [0]\n",
            " [0]\n",
            " [0]\n",
            " [0]\n",
            " [0]\n",
            " [0]\n",
            " [0]\n",
            " [0]\n",
            " [0]\n",
            " [1]\n",
            " [1]\n",
            " [1]\n",
            " [1]\n",
            " [1]\n",
            " [1]\n",
            " [1]\n",
            " [1]\n",
            " [0]\n",
            " [0]\n",
            " [0]\n",
            " [0]\n",
            " [0]\n",
            " [0]\n",
            " [0]\n",
            " [0]\n",
            " [0]\n",
            " [1]\n",
            " [1]\n",
            " [1]\n",
            " [1]\n",
            " [1]\n",
            " [1]\n",
            " [0]\n",
            " [0]\n",
            " [0]\n",
            " [0]\n",
            " [0]\n",
            " [0]\n",
            " [0]\n",
            " [0]\n",
            " [0]\n",
            " [0]\n",
            " [1]\n",
            " [1]\n",
            " [1]\n",
            " [1]\n",
            " [1]\n",
            " [1]\n",
            " [1]\n",
            " [1]\n",
            " [0]\n",
            " [0]\n",
            " [0]\n",
            " [0]\n",
            " [0]\n",
            " [0]\n",
            " [1]\n",
            " [1]\n",
            " [1]\n",
            " [1]\n",
            " [0]\n",
            " [0]\n",
            " [0]\n",
            " [0]\n",
            " [0]\n",
            " [0]\n",
            " [0]\n",
            " [0]\n",
            " [0]\n",
            " [0]\n",
            " [1]\n",
            " [1]\n",
            " [1]\n",
            " [1]\n",
            " [1]\n",
            " [1]\n",
            " [0]\n",
            " [0]\n",
            " [0]\n",
            " [0]\n",
            " [0]\n",
            " [0]\n",
            " [0]\n",
            " [0]\n",
            " [0]\n",
            " [0]\n",
            " [0]\n",
            " [0]\n",
            " [0]\n",
            " [0]\n",
            " [0]\n",
            " [0]\n",
            " [1]\n",
            " [1]\n",
            " [1]\n",
            " [1]\n",
            " [1]\n",
            " [1]\n",
            " [0]\n",
            " [0]\n",
            " [0]\n",
            " [0]\n",
            " [0]\n",
            " [0]\n",
            " [0]\n",
            " [0]\n",
            " [0]\n",
            " [0]\n",
            " [0]\n",
            " [0]\n",
            " [0]\n",
            " [0]\n",
            " [0]\n",
            " [0]\n",
            " [1]\n",
            " [1]\n",
            " [1]\n",
            " [1]\n",
            " [1]\n",
            " [1]\n",
            " [0]\n",
            " [0]\n",
            " [0]\n",
            " [0]\n",
            " [0]\n",
            " [0]\n",
            " [0]\n",
            " [0]\n",
            " [0]\n",
            " [0]\n",
            " [0]\n",
            " [0]\n",
            " [0]\n",
            " [0]\n",
            " [0]\n",
            " [0]\n",
            " [0]\n",
            " [0]\n",
            " [1]\n",
            " [1]\n",
            " [1]\n",
            " [1]\n",
            " [1]\n",
            " [1]\n",
            " [1]\n",
            " [0]\n",
            " [0]\n",
            " [0]\n",
            " [0]\n",
            " [0]\n",
            " [0]\n",
            " [0]\n",
            " [0]\n",
            " [0]\n",
            " [0]\n",
            " [0]\n",
            " [0]\n",
            " [0]\n",
            " [0]\n",
            " [1]\n",
            " [1]\n",
            " [1]\n",
            " [1]\n",
            " [1]\n",
            " [1]\n",
            " [1]\n",
            " [1]\n",
            " [1]\n",
            " [1]\n",
            " [1]\n",
            " [0]\n",
            " [0]\n",
            " [0]\n",
            " [0]\n",
            " [0]\n",
            " [0]\n",
            " [0]\n",
            " [0]\n",
            " [0]\n",
            " [0]\n",
            " [0]\n",
            " [0]\n",
            " [0]\n",
            " [1]\n",
            " [1]\n",
            " [1]\n",
            " [1]\n",
            " [1]\n",
            " [1]\n",
            " [1]\n",
            " [1]\n",
            " [1]\n",
            " [1]\n",
            " [1]\n",
            " [1]\n",
            " [1]\n",
            " [1]\n",
            " [1]\n",
            " [1]\n",
            " [1]\n",
            " [0]\n",
            " [0]\n",
            " [0]\n",
            " [0]\n",
            " [0]\n",
            " [0]\n",
            " [0]\n",
            " [0]\n",
            " [0]\n",
            " [0]\n",
            " [0]\n",
            " [1]\n",
            " [1]\n",
            " [1]\n",
            " [1]\n",
            " [1]\n",
            " [1]\n",
            " [1]\n",
            " [1]\n",
            " [1]\n",
            " [0]\n",
            " [0]\n",
            " [0]\n",
            " [0]\n",
            " [0]\n",
            " [0]\n",
            " [0]\n",
            " [0]\n",
            " [0]\n",
            " [0]\n",
            " [0]\n",
            " [0]\n",
            " [0]\n",
            " [0]\n",
            " [0]\n",
            " [0]\n",
            " [0]\n",
            " [0]\n",
            " [1]\n",
            " [1]\n",
            " [1]\n",
            " [1]\n",
            " [1]\n",
            " [1]\n",
            " [1]\n",
            " [1]\n",
            " [0]\n",
            " [0]\n",
            " [0]\n",
            " [0]\n",
            " [0]\n",
            " [0]\n",
            " [0]\n",
            " [0]\n",
            " [0]\n",
            " [0]\n",
            " [0]\n",
            " [0]\n",
            " [0]\n",
            " [0]\n",
            " [1]\n",
            " [1]\n",
            " [1]\n",
            " [1]\n",
            " [1]\n",
            " [1]\n",
            " [0]\n",
            " [0]\n",
            " [0]\n",
            " [0]\n",
            " [0]\n",
            " [0]\n",
            " [0]\n",
            " [0]\n",
            " [0]\n",
            " [1]\n",
            " [1]\n",
            " [1]\n",
            " [1]\n",
            " [1]\n",
            " [0]\n",
            " [0]\n",
            " [0]\n",
            " [0]\n",
            " [0]\n",
            " [0]\n",
            " [0]\n",
            " [0]\n",
            " [0]\n",
            " [0]\n",
            " [0]\n",
            " [0]\n",
            " [0]\n",
            " [0]\n",
            " [0]\n",
            " [0]\n",
            " [1]\n",
            " [1]\n",
            " [1]\n",
            " [1]\n",
            " [1]\n",
            " [1]\n",
            " [1]\n",
            " [1]\n",
            " [1]\n",
            " [1]\n",
            " [1]\n",
            " [0]\n",
            " [0]\n",
            " [0]\n",
            " [0]\n",
            " [0]\n",
            " [0]\n",
            " [0]\n",
            " [0]\n",
            " [0]\n",
            " [0]\n",
            " [0]\n",
            " [0]\n",
            " [1]\n",
            " [1]\n",
            " [1]\n",
            " [1]\n",
            " [1]\n",
            " [1]\n",
            " [1]\n",
            " [1]\n",
            " [1]\n",
            " [1]\n",
            " [0]\n",
            " [0]\n",
            " [0]\n",
            " [0]\n",
            " [0]\n",
            " [0]\n",
            " [0]\n",
            " [0]\n",
            " [0]\n",
            " [0]\n",
            " [0]\n",
            " [0]\n",
            " [0]\n",
            " [0]\n",
            " [0]\n",
            " [0]\n",
            " [0]\n",
            " [0]\n",
            " [0]\n",
            " [1]\n",
            " [1]\n",
            " [1]\n",
            " [1]\n",
            " [1]\n",
            " [1]\n",
            " [1]\n",
            " [1]\n",
            " [1]\n",
            " [0]\n",
            " [0]\n",
            " [0]\n",
            " [0]\n",
            " [0]\n",
            " [0]\n",
            " [0]\n",
            " [0]\n",
            " [0]\n",
            " [0]\n",
            " [0]\n",
            " [0]\n",
            " [0]\n",
            " [0]\n",
            " [0]\n",
            " [1]\n",
            " [1]\n",
            " [1]\n",
            " [1]\n",
            " [1]\n",
            " [1]\n",
            " [1]\n",
            " [1]\n",
            " [1]\n",
            " [1]\n",
            " [1]\n",
            " [1]\n",
            " [0]\n",
            " [0]\n",
            " [0]\n",
            " [0]\n",
            " [0]\n",
            " [0]\n",
            " [0]\n",
            " [0]\n",
            " [0]\n",
            " [0]\n",
            " [0]\n",
            " [0]\n",
            " [0]\n",
            " [0]\n",
            " [0]\n",
            " [1]\n",
            " [1]\n",
            " [1]\n",
            " [1]\n",
            " [1]\n",
            " [0]\n",
            " [0]\n",
            " [0]\n",
            " [0]\n",
            " [0]\n",
            " [0]\n",
            " [0]\n",
            " [0]\n",
            " [0]\n",
            " [0]\n",
            " [0]\n",
            " [0]\n",
            " [0]\n",
            " [0]\n",
            " [1]\n",
            " [1]\n",
            " [1]\n",
            " [1]\n",
            " [1]\n",
            " [0]\n",
            " [0]\n",
            " [0]\n",
            " [0]\n",
            " [0]\n",
            " [0]\n",
            " [0]\n",
            " [0]\n",
            " [0]\n",
            " [0]\n",
            " [0]\n",
            " [0]\n",
            " [0]\n",
            " [1]\n",
            " [1]\n",
            " [1]\n",
            " [1]\n",
            " [1]\n",
            " [1]\n",
            " [1]\n",
            " [0]\n",
            " [0]\n",
            " [0]\n",
            " [0]\n",
            " [0]\n",
            " [0]\n",
            " [0]\n",
            " [0]\n",
            " [0]\n",
            " [0]\n",
            " [0]\n",
            " [0]\n",
            " [0]\n",
            " [0]\n",
            " [0]\n",
            " [0]\n",
            " [0]\n",
            " [0]\n",
            " [0]\n",
            " [1]\n",
            " [1]\n",
            " [1]\n",
            " [1]\n",
            " [1]\n",
            " [1]\n",
            " [1]\n",
            " [1]\n",
            " [1]\n",
            " [1]\n",
            " [1]\n",
            " [0]\n",
            " [0]\n",
            " [0]\n",
            " [0]\n",
            " [0]\n",
            " [0]\n",
            " [0]\n",
            " [0]\n",
            " [0]\n",
            " [0]\n",
            " [0]\n",
            " [0]\n",
            " [0]\n",
            " [0]\n",
            " [0]\n",
            " [0]\n",
            " [0]\n",
            " [0]\n",
            " [0]\n",
            " [1]\n",
            " [1]\n",
            " [1]\n",
            " [1]\n",
            " [0]\n",
            " [0]\n",
            " [0]\n",
            " [0]\n",
            " [0]\n",
            " [0]\n",
            " [0]\n",
            " [0]\n",
            " [0]\n",
            " [0]\n",
            " [0]\n",
            " [0]\n",
            " [0]\n",
            " [0]\n",
            " [0]\n",
            " [0]\n",
            " [0]\n",
            " [0]\n",
            " [1]\n",
            " [1]\n",
            " [1]\n",
            " [1]\n",
            " [0]\n",
            " [0]\n",
            " [0]\n",
            " [0]\n",
            " [0]\n",
            " [0]\n",
            " [0]\n",
            " [0]\n",
            " [0]\n",
            " [0]\n",
            " [0]\n",
            " [0]\n",
            " [0]\n",
            " [0]\n",
            " [0]\n",
            " [0]\n",
            " [0]\n",
            " [0]\n",
            " [1]\n",
            " [1]\n",
            " [1]\n",
            " [1]\n",
            " [1]\n",
            " [1]\n",
            " [1]\n",
            " [1]\n",
            " [0]\n",
            " [0]\n",
            " [0]\n",
            " [0]\n",
            " [0]\n",
            " [0]\n",
            " [0]\n",
            " [0]\n",
            " [0]\n",
            " [0]\n",
            " [0]\n",
            " [0]\n",
            " [0]\n",
            " [0]\n",
            " [0]\n",
            " [0]\n",
            " [0]\n",
            " [0]\n",
            " [1]\n",
            " [1]\n",
            " [1]\n",
            " [1]\n",
            " [1]\n",
            " [1]\n",
            " [0]\n",
            " [0]\n",
            " [0]\n",
            " [0]\n",
            " [0]\n",
            " [0]\n",
            " [0]\n",
            " [0]\n",
            " [0]\n",
            " [0]\n",
            " [0]\n",
            " [0]\n",
            " [0]\n",
            " [0]\n",
            " [0]\n",
            " [1]\n",
            " [1]\n",
            " [1]\n",
            " [1]\n",
            " [1]\n",
            " [1]\n",
            " [1]\n",
            " [1]\n",
            " [0]\n",
            " [0]\n",
            " [0]\n",
            " [0]\n",
            " [0]\n",
            " [0]\n",
            " [0]\n",
            " [0]\n",
            " [0]\n",
            " [0]\n",
            " [0]\n",
            " [0]\n",
            " [0]\n",
            " [0]\n",
            " [0]\n",
            " [0]\n",
            " [0]\n",
            " [0]\n",
            " [0]\n",
            " [1]\n",
            " [1]\n",
            " [1]\n",
            " [1]\n",
            " [1]\n",
            " [1]\n",
            " [1]\n",
            " [1]\n",
            " [1]\n",
            " [1]\n",
            " [0]\n",
            " [0]\n",
            " [0]\n",
            " [0]\n",
            " [0]\n",
            " [0]\n",
            " [0]\n",
            " [0]\n",
            " [0]\n",
            " [0]\n",
            " [0]\n",
            " [0]\n",
            " [0]\n",
            " [0]\n",
            " [0]\n",
            " [0]\n",
            " [0]\n",
            " [0]\n",
            " [0]\n",
            " [0]\n",
            " [0]\n",
            " [0]\n",
            " [1]\n",
            " [1]\n",
            " [1]\n",
            " [1]\n",
            " [0]\n",
            " [0]\n",
            " [0]\n",
            " [0]\n",
            " [0]\n",
            " [0]\n",
            " [0]\n",
            " [0]\n",
            " [0]\n",
            " [0]\n",
            " [0]\n",
            " [0]\n",
            " [0]\n",
            " [0]\n",
            " [0]\n",
            " [0]\n",
            " [0]\n",
            " [0]\n",
            " [1]\n",
            " [1]\n",
            " [1]\n",
            " [1]\n",
            " [1]\n",
            " [0]\n",
            " [0]\n",
            " [0]\n",
            " [0]\n",
            " [0]\n",
            " [0]\n",
            " [0]\n",
            " [0]\n",
            " [0]\n",
            " [0]\n",
            " [0]\n",
            " [0]\n",
            " [0]\n",
            " [0]\n",
            " [0]\n",
            " [0]\n",
            " [0]\n",
            " [1]\n",
            " [1]\n",
            " [1]\n",
            " [1]\n",
            " [0]\n",
            " [0]\n",
            " [0]\n",
            " [0]\n",
            " [0]\n",
            " [0]\n",
            " [0]\n",
            " [0]\n",
            " [0]\n",
            " [0]\n",
            " [0]\n",
            " [0]\n",
            " [0]\n",
            " [0]\n",
            " [0]\n",
            " [0]\n",
            " [0]\n",
            " [0]\n",
            " [1]\n",
            " [0]\n",
            " [0]\n",
            " [0]\n",
            " [0]\n",
            " [0]\n",
            " [0]\n",
            " [0]\n",
            " [0]\n",
            " [0]\n",
            " [0]\n",
            " [1]\n",
            " [1]\n",
            " [0]\n",
            " [0]\n",
            " [0]\n",
            " [0]\n",
            " [0]\n",
            " [0]\n",
            " [0]\n",
            " [0]\n",
            " [0]\n",
            " [0]\n",
            " [0]\n",
            " [0]\n",
            " [0]\n",
            " [0]\n",
            " [0]\n",
            " [0]\n",
            " [1]\n",
            " [1]\n",
            " [1]\n",
            " [0]\n",
            " [0]\n",
            " [0]\n",
            " [0]\n",
            " [0]\n",
            " [0]\n",
            " [0]\n",
            " [0]\n",
            " [0]\n",
            " [0]\n",
            " [0]\n",
            " [0]\n",
            " [1]\n",
            " [1]\n",
            " [1]\n",
            " [1]\n",
            " [0]\n",
            " [0]\n",
            " [0]\n",
            " [0]\n",
            " [0]\n",
            " [0]\n",
            " [0]\n",
            " [0]\n",
            " [0]\n",
            " [0]\n",
            " [1]\n",
            " [1]\n",
            " [0]\n",
            " [0]\n",
            " [0]\n",
            " [0]\n",
            " [0]\n",
            " [0]\n",
            " [0]\n",
            " [0]\n",
            " [0]\n",
            " [0]\n",
            " [0]\n",
            " [0]\n",
            " [0]\n",
            " [0]\n",
            " [0]\n",
            " [0]\n",
            " [0]\n",
            " [0]\n",
            " [0]\n",
            " [0]\n",
            " [0]\n",
            " [1]\n",
            " [1]\n",
            " [1]\n",
            " [0]\n",
            " [0]\n",
            " [0]\n",
            " [0]\n",
            " [0]\n",
            " [0]\n",
            " [0]\n",
            " [0]\n",
            " [0]\n",
            " [0]\n",
            " [1]\n",
            " [1]\n",
            " [1]\n",
            " [0]\n",
            " [0]\n",
            " [0]\n",
            " [0]\n",
            " [0]\n",
            " [0]\n",
            " [0]\n",
            " [0]\n",
            " [0]\n",
            " [0]\n",
            " [0]\n",
            " [0]\n",
            " [0]\n",
            " [1]\n",
            " [0]\n",
            " [0]\n",
            " [0]\n",
            " [0]\n",
            " [0]\n",
            " [0]\n",
            " [1]\n",
            " [1]\n",
            " [1]\n",
            " [0]\n",
            " [0]\n",
            " [0]\n",
            " [0]\n",
            " [0]\n",
            " [0]\n",
            " [0]\n",
            " [0]\n",
            " [0]\n",
            " [0]\n",
            " [0]\n",
            " [0]\n",
            " [0]\n",
            " [0]\n",
            " [0]\n",
            " [0]\n",
            " [0]\n",
            " [0]\n",
            " [0]\n",
            " [0]\n",
            " [0]\n",
            " [0]\n",
            " [0]\n",
            " [0]\n",
            " [1]\n",
            " [0]\n",
            " [0]\n",
            " [0]\n",
            " [0]\n",
            " [0]\n",
            " [0]\n",
            " [0]\n",
            " [0]\n",
            " [1]\n",
            " [0]\n",
            " [0]\n",
            " [0]\n",
            " [0]\n",
            " [0]\n",
            " [0]\n",
            " [1]\n",
            " [0]\n",
            " [0]\n",
            " [0]\n",
            " [0]\n",
            " [0]\n",
            " [0]\n",
            " [0]\n",
            " [0]\n",
            " [0]\n",
            " [0]\n",
            " [0]\n",
            " [0]\n",
            " [0]\n",
            " [0]\n",
            " [0]\n",
            " [0]\n",
            " [1]\n",
            " [0]\n",
            " [0]\n",
            " [0]\n",
            " [0]\n",
            " [0]\n",
            " [0]\n",
            " [0]\n",
            " [0]\n",
            " [0]\n",
            " [0]]\n"
          ],
          "name": "stdout"
        }
      ]
    },
    {
      "cell_type": "code",
      "metadata": {
        "id": "JhQA2dzeXZpg",
        "colab": {
          "base_uri": "https://localhost:8080/"
        },
        "outputId": "17a23b46-90dd-44dd-d024-73abb75d7830"
      },
      "source": [
        "# perform cross validation\n",
        "skf = StratifiedKFold(n_splits=5, shuffle=True, random_state=5)\n",
        "#skf.split(X,y)\n",
        "lst_accu_stratified=[]\n",
        "for train_index, test_index in skf.split(X, y):\n",
        "    # print(\"TRAIN:\", train_index, \"TEST:\", test_index)\n",
        "    X_train, X_test = X[train_index], X[test_index]\n",
        "    y_train, y_test = y[train_index], y[test_index]\n",
        "    rf.fit(X_train, y_train.ravel())\n",
        "    lst_accu_stratified.append(rf.score(X_test, y_test))\n",
        "lst_accu_stratified"
      ],
      "execution_count": 204,
      "outputs": [
        {
          "output_type": "execute_result",
          "data": {
            "text/plain": [
              "[0.78, 0.805, 0.79, 0.77, 0.7839195979899497]"
            ]
          },
          "metadata": {
            "tags": []
          },
          "execution_count": 204
        }
      ]
    },
    {
      "cell_type": "code",
      "metadata": {
        "id": "FE7AZCemXrmh",
        "colab": {
          "base_uri": "https://localhost:8080/"
        },
        "outputId": "da2ebbb8-34bc-48a3-ad6d-1647b492fa0a"
      },
      "source": [
        "grid_search = GridSearchCV(rf, parameters, n_jobs=-1, scoring='roc_auc', cv=skf)\n",
        "grid_search.fit(X_train, y_train.ravel()) \n",
        "\n",
        "print(grid_search.best_params_)"
      ],
      "execution_count": 205,
      "outputs": [
        {
          "output_type": "stream",
          "text": [
            "{'max_depth': 3, 'max_features': 2}\n"
          ],
          "name": "stdout"
        }
      ]
    },
    {
      "cell_type": "code",
      "metadata": {
        "id": "EVh3bKE78Vpq"
      },
      "source": [
        "#from sklearn import metrics\n",
        "#cv_scores_rf = cross_val_score(rf, X_train, y_train.ravel(), cv=5)\n",
        "#cv_scores_rf"
      ],
      "execution_count": 206,
      "outputs": []
    },
    {
      "cell_type": "code",
      "metadata": {
        "colab": {
          "base_uri": "https://localhost:8080/"
        },
        "id": "FqI2qoXk8Yx4",
        "outputId": "89be91db-8aea-4376-fed9-862b9c02f70f"
      },
      "source": [
        "print(\"%0.2f accuracy with a standard deviation of %0.2f\" % (cv_scores_rf.mean(), cv_scores_rf.std()))"
      ],
      "execution_count": 207,
      "outputs": [
        {
          "output_type": "stream",
          "text": [
            "0.49 accuracy with a standard deviation of 0.13\n"
          ],
          "name": "stdout"
        }
      ]
    },
    {
      "cell_type": "code",
      "metadata": {
        "id": "OQBsgN-7YBY8",
        "colab": {
          "base_uri": "https://localhost:8080/"
        },
        "outputId": "777e7154-0e13-4a4e-868f-fb5618cde22c"
      },
      "source": [
        "#Get the best score from the grid search\n",
        "print(grid_search.best_score_) "
      ],
      "execution_count": 208,
      "outputs": [
        {
          "output_type": "stream",
          "text": [
            "0.8204427083333334\n"
          ],
          "name": "stdout"
        }
      ]
    },
    {
      "cell_type": "code",
      "metadata": {
        "id": "bDMHRrkW8eCr",
        "colab": {
          "base_uri": "https://localhost:8080/"
        },
        "outputId": "ec6fc983-7f1c-4059-c091-25de42d0c390"
      },
      "source": [
        "clf = grid_search.best_estimator_\n",
        "clf.fit(X_test,y_test)"
      ],
      "execution_count": 209,
      "outputs": [
        {
          "output_type": "stream",
          "text": [
            "/usr/local/lib/python3.7/dist-packages/ipykernel_launcher.py:2: DataConversionWarning: A column-vector y was passed when a 1d array was expected. Please change the shape of y to (n_samples,), for example using ravel().\n",
            "  \n"
          ],
          "name": "stderr"
        },
        {
          "output_type": "execute_result",
          "data": {
            "text/plain": [
              "RandomForestClassifier(bootstrap=True, ccp_alpha=0.0, class_weight='balanced',\n",
              "                       criterion='gini', max_depth=3, max_features=2,\n",
              "                       max_leaf_nodes=None, max_samples=None,\n",
              "                       min_impurity_decrease=0.0, min_impurity_split=None,\n",
              "                       min_samples_leaf=1, min_samples_split=2,\n",
              "                       min_weight_fraction_leaf=0.0, n_estimators=100,\n",
              "                       n_jobs=-1, oob_score=False, random_state=42, verbose=0,\n",
              "                       warm_start=False)"
            ]
          },
          "metadata": {
            "tags": []
          },
          "execution_count": 209
        }
      ]
    },
    {
      "cell_type": "code",
      "metadata": {
        "id": "6w3KlgGA_0JH",
        "colab": {
          "base_uri": "https://localhost:8080/"
        },
        "outputId": "5c86cc9b-ae60-43d7-d316-0ec3b33747a5"
      },
      "source": [
        "clf.score(X_test,y_test)"
      ],
      "execution_count": 210,
      "outputs": [
        {
          "output_type": "execute_result",
          "data": {
            "text/plain": [
              "0.8592964824120602"
            ]
          },
          "metadata": {
            "tags": []
          },
          "execution_count": 210
        }
      ]
    },
    {
      "cell_type": "code",
      "metadata": {
        "id": "VeiN0kkc_5ls",
        "colab": {
          "base_uri": "https://localhost:8080/"
        },
        "outputId": "b93ff796-a8f2-4bad-8100-c749f9dd44ed"
      },
      "source": [
        "a = clf.predict(X_test[2:3,:])\n",
        "\n",
        "print(a, y_test[2:3,:])"
      ],
      "execution_count": 211,
      "outputs": [
        {
          "output_type": "stream",
          "text": [
            "[1] [[1]]\n"
          ],
          "name": "stdout"
        }
      ]
    },
    {
      "cell_type": "code",
      "metadata": {
        "id": "qHDsq1n8C0I0"
      },
      "source": [
        "# from sklearn.datasets import make_friedman1\n",
        "# from sklearn.ensemble import GradientBoostingRegressor\n",
        "# X, y = make_friedman1()\n",
        "# clf = GradientBoostingRegressor(n_estimators=10).fit(X, y)\n",
        "# plot_partial_dependence(clf, X, [0, 1,2]) \n",
        "# y"
      ],
      "execution_count": 212,
      "outputs": []
    },
    {
      "cell_type": "code",
      "metadata": {
        "id": "mk0XcJkgEBd_",
        "colab": {
          "base_uri": "https://localhost:8080/"
        },
        "outputId": "9656d741-d5af-424c-9f4c-7505380b7d1a"
      },
      "source": [
        "grid_search.cv_results_"
      ],
      "execution_count": 213,
      "outputs": [
        {
          "output_type": "execute_result",
          "data": {
            "text/plain": [
              "{'mean_fit_time': array([0.2787899 , 0.2771914 , 0.26633677, 0.26754279, 0.25977507,\n",
              "        0.27475724, 0.26216259, 0.27015347, 0.29018145, 0.27118402,\n",
              "        0.26958117, 0.31038475]),\n",
              " 'mean_score_time': array([0.10393076, 0.10414171, 0.10454583, 0.10395927, 0.1042058 ,\n",
              "        0.10503554, 0.10439229, 0.10440464, 0.10370569, 0.10426769,\n",
              "        0.10446796, 0.10346622]),\n",
              " 'mean_test_score': array([0.81047247, 0.81640625, 0.81497396, 0.81577381, 0.82044271,\n",
              "        0.81616443, 0.80907738, 0.8171131 , 0.81584821, 0.8093378 ,\n",
              "        0.81776414, 0.81052827]),\n",
              " 'param_max_depth': masked_array(data=[2, 2, 2, 3, 3, 3, 4, 4, 4, 5, 5, 5],\n",
              "              mask=[False, False, False, False, False, False, False, False,\n",
              "                    False, False, False, False],\n",
              "        fill_value='?',\n",
              "             dtype=object),\n",
              " 'param_max_features': masked_array(data=[1, 2, 4, 1, 2, 4, 1, 2, 4, 1, 2, 4],\n",
              "              mask=[False, False, False, False, False, False, False, False,\n",
              "                    False, False, False, False],\n",
              "        fill_value='?',\n",
              "             dtype=object),\n",
              " 'params': [{'max_depth': 2, 'max_features': 1},\n",
              "  {'max_depth': 2, 'max_features': 2},\n",
              "  {'max_depth': 2, 'max_features': 4},\n",
              "  {'max_depth': 3, 'max_features': 1},\n",
              "  {'max_depth': 3, 'max_features': 2},\n",
              "  {'max_depth': 3, 'max_features': 4},\n",
              "  {'max_depth': 4, 'max_features': 1},\n",
              "  {'max_depth': 4, 'max_features': 2},\n",
              "  {'max_depth': 4, 'max_features': 4},\n",
              "  {'max_depth': 5, 'max_features': 1},\n",
              "  {'max_depth': 5, 'max_features': 2},\n",
              "  {'max_depth': 5, 'max_features': 4}],\n",
              " 'rank_test_score': array([10,  4,  8,  7,  1,  5, 12,  3,  6, 11,  2,  9], dtype=int32),\n",
              " 'split0_test_score': array([0.86272321, 0.87276786, 0.86421131, 0.87593006, 0.87927827,\n",
              "        0.87044271, 0.87016369, 0.88002232, 0.87695312, 0.87053571,\n",
              "        0.88355655, 0.86904762]),\n",
              " 'split1_test_score': array([0.83937872, 0.84988839, 0.84337798, 0.84728423, 0.85574777,\n",
              "        0.85491071, 0.84933036, 0.84933036, 0.84914435, 0.84040179,\n",
              "        0.84449405, 0.8375186 ]),\n",
              " 'split2_test_score': array([0.80422247, 0.80087426, 0.80301339, 0.8015253 , 0.80068824,\n",
              "        0.79882812, 0.7953869 , 0.80459449, 0.80217634, 0.80096726,\n",
              "        0.80050223, 0.80106027]),\n",
              " 'split3_test_score': array([0.73158482, 0.75074405, 0.76227679, 0.73511905, 0.74730283,\n",
              "        0.7562314 , 0.7202381 , 0.74004836, 0.74944196, 0.73046875,\n",
              "        0.75093006, 0.7390253 ]),\n",
              " 'split4_test_score': array([0.81445312, 0.8077567 , 0.80199033, 0.81901042, 0.81919643,\n",
              "        0.80040923, 0.81026786, 0.81156994, 0.8015253 , 0.80431548,\n",
              "        0.8093378 , 0.80598958]),\n",
              " 'std_fit_time': array([0.00363998, 0.00229349, 0.01524954, 0.01870114, 0.0069232 ,\n",
              "        0.01181288, 0.00418933, 0.00917267, 0.04909806, 0.01731552,\n",
              "        0.00378492, 0.04176464]),\n",
              " 'std_score_time': array([0.00061227, 0.0008236 , 0.00135691, 0.00029292, 0.00078471,\n",
              "        0.00049572, 0.00032576, 0.00050769, 0.00050581, 0.00035421,\n",
              "        0.00043182, 0.00010509]),\n",
              " 'std_test_score': array([0.04437089, 0.04224989, 0.03555201, 0.04760329, 0.045715  ,\n",
              "        0.0414443 , 0.05183262, 0.04716341, 0.04391879, 0.04695907,\n",
              "        0.04444975, 0.04330337])}"
            ]
          },
          "metadata": {
            "tags": []
          },
          "execution_count": 213
        }
      ]
    },
    {
      "cell_type": "code",
      "metadata": {
        "id": "7Jaw-AA-YIv8",
        "colab": {
          "base_uri": "https://localhost:8080/",
          "height": 628
        },
        "outputId": "93b5405c-c826-4707-fcd1-4025e3dbf88e"
      },
      "source": [
        "# Find the feature which has the weakest impact in Random Forest Model\n",
        "from sklearn.inspection import plot_partial_dependence\n",
        "features = [0,1,2,3,4,5,6]\n",
        "plot_partial_dependence(clf,X,features,feature_names= f[1:])"
      ],
      "execution_count": 214,
      "outputs": [
        {
          "output_type": "execute_result",
          "data": {
            "text/plain": [
              "<sklearn.inspection._partial_dependence.PartialDependenceDisplay at 0x7f4c8cf578d0>"
            ]
          },
          "metadata": {
            "tags": []
          },
          "execution_count": 214
        },
        {
          "output_type": "display_data",
          "data": {
            "image/png": "[encoded data removed]",
            "text/plain": [
              "<Figure size 720x720 with 8 Axes>"
            ]
          },
          "metadata": {
            "tags": []
          }
        }
      ]
    },
    {
      "cell_type": "code",
      "metadata": {
        "id": "qKCw_DMTVtXw",
        "colab": {
          "base_uri": "https://localhost:8080/",
          "height": 266
        },
        "outputId": "5ed54526-bae0-4a26-9b86-2791b7f027a4"
      },
      "source": [
        "pd.DataFrame({'feat': f[1:],\n",
        "              'coef': grid_search.best_estimator_.feature_importances_}).sort_values(by='coef', ascending=True)\n"
      ],
      "execution_count": 215,
      "outputs": [
        {
          "output_type": "execute_result",
          "data": {
            "text/html": [
              "<div>\n",
              "<style scoped>\n",
              "    .dataframe tbody tr th:only-of-type {\n",
              "        vertical-align: middle;\n",
              "    }\n",
              "\n",
              "    .dataframe tbody tr th {\n",
              "        vertical-align: top;\n",
              "    }\n",
              "\n",
              "    .dataframe thead th {\n",
              "        text-align: right;\n",
              "    }\n",
              "</style>\n",
              "<table border=\"1\" class=\"dataframe\">\n",
              "  <thead>\n",
              "    <tr style=\"text-align: right;\">\n",
              "      <th></th>\n",
              "      <th>feat</th>\n",
              "      <th>coef</th>\n",
              "    </tr>\n",
              "  </thead>\n",
              "  <tbody>\n",
              "    <tr>\n",
              "      <th>6</th>\n",
              "      <td>Dependents</td>\n",
              "      <td>0.046395</td>\n",
              "    </tr>\n",
              "    <tr>\n",
              "      <th>1</th>\n",
              "      <td>age</td>\n",
              "      <td>0.078514</td>\n",
              "    </tr>\n",
              "    <tr>\n",
              "      <th>0</th>\n",
              "      <td>Debt_Ratio</td>\n",
              "      <td>0.133376</td>\n",
              "    </tr>\n",
              "    <tr>\n",
              "      <th>3</th>\n",
              "      <td>Number_Of_Time_60-89_Days_Past_Due</td>\n",
              "      <td>0.154407</td>\n",
              "    </tr>\n",
              "    <tr>\n",
              "      <th>5</th>\n",
              "      <td>Monthly_Income</td>\n",
              "      <td>0.160277</td>\n",
              "    </tr>\n",
              "    <tr>\n",
              "      <th>4</th>\n",
              "      <td>Number_Of_Times_90_Days_Late</td>\n",
              "      <td>0.181149</td>\n",
              "    </tr>\n",
              "    <tr>\n",
              "      <th>2</th>\n",
              "      <td>Number_Of_Time_30-59_Days_Past_Due</td>\n",
              "      <td>0.245881</td>\n",
              "    </tr>\n",
              "  </tbody>\n",
              "</table>\n",
              "</div>"
            ],
            "text/plain": [
              "                                 feat      coef\n",
              "6                          Dependents  0.046395\n",
              "1                                 age  0.078514\n",
              "0                          Debt_Ratio  0.133376\n",
              "3  Number_Of_Time_60-89_Days_Past_Due  0.154407\n",
              "5                      Monthly_Income  0.160277\n",
              "4        Number_Of_Times_90_Days_Late  0.181149\n",
              "2  Number_Of_Time_30-59_Days_Past_Due  0.245881"
            ]
          },
          "metadata": {
            "tags": []
          },
          "execution_count": 215
        }
      ]
    },
    {
      "cell_type": "code",
      "metadata": {
        "id": "8gXXsKwKggZ7",
        "colab": {
          "base_uri": "https://localhost:8080/",
          "height": 857
        },
        "outputId": "1fbfa12f-fbe7-457f-8826-3d2a950dc7cc"
      },
      "source": [
        "#graph for the displaying the weakest impact feature\n",
        "rf_feature = pd.DataFrame({'Coefficient': grid_search.best_estimator_.feature_importances_},index=f[1:]).sort_values(by='Coefficient',ascending=True)\n",
        "print(rf_feature[rf_feature['Coefficient']==min(grid_search.best_estimator_.feature_importances_)])\n",
        "print(\" \")\n",
        "ax = rf_feature.plot.bar()"
      ],
      "execution_count": 216,
      "outputs": [
        {
          "output_type": "stream",
          "text": [
            "            Coefficient\n",
            "Dependents     0.046395\n",
            " \n"
          ],
          "name": "stdout"
        },
        {
          "output_type": "display_data",
          "data": {
            "image/png": "[encoded data removed]",
            "text/plain": [
              "<Figure size 720x720 with 1 Axes>"
            ]
          },
          "metadata": {
            "tags": []
          }
        }
      ]
    },
    {
      "cell_type": "code",
      "metadata": {
        "id": "QZuGyMe8YMDp"
      },
      "source": [
        "# Perform bagging classification using decision trees as the base classifier"
      ],
      "execution_count": 217,
      "outputs": []
    },
    {
      "cell_type": "code",
      "metadata": {
        "id": "Wa3QrbLWEx8_"
      },
      "source": [
        "from sklearn import model_selection\n",
        "from sklearn.tree import DecisionTreeClassifier\n",
        "\n",
        "base_cls = DecisionTreeClassifier()"
      ],
      "execution_count": 218,
      "outputs": []
    },
    {
      "cell_type": "code",
      "metadata": {
        "id": "w_aJPspMYQI-"
      },
      "source": [
        "from sklearn.ensemble import BaggingClassifier\n",
        "\n",
        "parameters_bg = {'n_estimators':[2,3,4]}\n",
        "#bagging_grid_search = 0"
      ],
      "execution_count": 219,
      "outputs": []
    },
    {
      "cell_type": "code",
      "metadata": {
        "id": "q9JwYgWfYU_f"
      },
      "source": [
        "# get a list of models to evaluate\n",
        "def get_models():\n",
        "\t# write your code here\n",
        "  param_grid = {\n",
        "    'base_estimator__max_depth' : [1, 2, 3, 4, 5],\n",
        "    'max_samples' : [0.05, 0.1, 0.2, 0.5]\n",
        "}\n",
        "  model1 = GridSearchCV(BaggingClassifier(base_estimator = base_cls,n_estimators=2,bootstrap=True),param_grid, scoring = 'roc_auc')\n",
        "  model2= GridSearchCV(BaggingClassifier(base_estimator = base_cls,n_estimators=3,bootstrap=True),param_grid, scoring = 'roc_auc')\n",
        "  model3= GridSearchCV(BaggingClassifier(base_estimator = base_cls,n_estimators=4,bootstrap=True),param_grid, scoring = 'roc_auc')\n",
        "  models = [model1,model2,model3]\n",
        "  return models"
      ],
      "execution_count": 220,
      "outputs": []
    },
    {
      "cell_type": "code",
      "metadata": {
        "id": "Wv28xmP23Vck",
        "colab": {
          "base_uri": "https://localhost:8080/"
        },
        "outputId": "5957f17b-00e7-4642-d45a-a1d498327fe2"
      },
      "source": [
        "#Perform 5 fold cross-validation using ROC AUC metric\n",
        "c=get_models()\n",
        "global bagging_grid_search \n",
        "#for i in range(0,3)\n",
        "bagging_grid_search = GridSearchCV(BaggingClassifier(), parameters_bg, n_jobs=-1, scoring='roc_auc', cv=skf, verbose=False)\n",
        "bagging_grid_search = bagging_grid_search.fit(X_train,y_train.ravel())\n",
        "print(bagging_grid_search)"
      ],
      "execution_count": 221,
      "outputs": [
        {
          "output_type": "stream",
          "text": [
            "GridSearchCV(cv=StratifiedKFold(n_splits=5, random_state=5, shuffle=True),\n",
            "             error_score=nan,\n",
            "             estimator=BaggingClassifier(base_estimator=None, bootstrap=True,\n",
            "                                         bootstrap_features=False,\n",
            "                                         max_features=1.0, max_samples=1.0,\n",
            "                                         n_estimators=10, n_jobs=None,\n",
            "                                         oob_score=False, random_state=None,\n",
            "                                         verbose=0, warm_start=False),\n",
            "             iid='deprecated', n_jobs=-1,\n",
            "             param_grid={'n_estimators': [2, 3, 4]}, pre_dispatch='2*n_jobs',\n",
            "             refit=True, return_train_score=False, scoring='roc_auc',\n",
            "             verbose=False)\n"
          ],
          "name": "stdout"
        }
      ]
    },
    {
      "cell_type": "code",
      "metadata": {
        "id": "98NB3pA8YuhJ"
      },
      "source": [
        "# evaluate a given model using cross-validation\n",
        "def evaluate_model(model, X, y):\n",
        "  # write your code here\n",
        "  scores=cross_val_score(model, X, y)\n",
        "  return scores\n"
      ],
      "execution_count": 222,
      "outputs": []
    },
    {
      "cell_type": "code",
      "metadata": {
        "id": "AkwH65hdrMqQ",
        "colab": {
          "base_uri": "https://localhost:8080/"
        },
        "outputId": "5ed56b61-157d-4c4c-d088-2af14d6b5856"
      },
      "source": [
        "c"
      ],
      "execution_count": 223,
      "outputs": [
        {
          "output_type": "execute_result",
          "data": {
            "text/plain": [
              "[GridSearchCV(cv=None, error_score=nan,\n",
              "              estimator=BaggingClassifier(base_estimator=DecisionTreeClassifier(ccp_alpha=0.0,\n",
              "                                                                                class_weight=None,\n",
              "                                                                                criterion='gini',\n",
              "                                                                                max_depth=None,\n",
              "                                                                                max_features=None,\n",
              "                                                                                max_leaf_nodes=None,\n",
              "                                                                                min_impurity_decrease=0.0,\n",
              "                                                                                min_impurity_split=None,\n",
              "                                                                                min_samples_leaf=1,\n",
              "                                                                                min_samples_split=2,\n",
              "                                                                                min_weight_fraction_leaf=0.0,\n",
              "                                                                                presort='deprecated',\n",
              "                                                                                random...\n",
              "                                          bootstrap_features=False,\n",
              "                                          max_features=1.0, max_samples=1.0,\n",
              "                                          n_estimators=2, n_jobs=None,\n",
              "                                          oob_score=False, random_state=None,\n",
              "                                          verbose=0, warm_start=False),\n",
              "              iid='deprecated', n_jobs=None,\n",
              "              param_grid={'base_estimator__max_depth': [1, 2, 3, 4, 5],\n",
              "                          'max_samples': [0.05, 0.1, 0.2, 0.5]},\n",
              "              pre_dispatch='2*n_jobs', refit=True, return_train_score=False,\n",
              "              scoring='roc_auc', verbose=0),\n",
              " GridSearchCV(cv=None, error_score=nan,\n",
              "              estimator=BaggingClassifier(base_estimator=DecisionTreeClassifier(ccp_alpha=0.0,\n",
              "                                                                                class_weight=None,\n",
              "                                                                                criterion='gini',\n",
              "                                                                                max_depth=None,\n",
              "                                                                                max_features=None,\n",
              "                                                                                max_leaf_nodes=None,\n",
              "                                                                                min_impurity_decrease=0.0,\n",
              "                                                                                min_impurity_split=None,\n",
              "                                                                                min_samples_leaf=1,\n",
              "                                                                                min_samples_split=2,\n",
              "                                                                                min_weight_fraction_leaf=0.0,\n",
              "                                                                                presort='deprecated',\n",
              "                                                                                random...\n",
              "                                          bootstrap_features=False,\n",
              "                                          max_features=1.0, max_samples=1.0,\n",
              "                                          n_estimators=3, n_jobs=None,\n",
              "                                          oob_score=False, random_state=None,\n",
              "                                          verbose=0, warm_start=False),\n",
              "              iid='deprecated', n_jobs=None,\n",
              "              param_grid={'base_estimator__max_depth': [1, 2, 3, 4, 5],\n",
              "                          'max_samples': [0.05, 0.1, 0.2, 0.5]},\n",
              "              pre_dispatch='2*n_jobs', refit=True, return_train_score=False,\n",
              "              scoring='roc_auc', verbose=0),\n",
              " GridSearchCV(cv=None, error_score=nan,\n",
              "              estimator=BaggingClassifier(base_estimator=DecisionTreeClassifier(ccp_alpha=0.0,\n",
              "                                                                                class_weight=None,\n",
              "                                                                                criterion='gini',\n",
              "                                                                                max_depth=None,\n",
              "                                                                                max_features=None,\n",
              "                                                                                max_leaf_nodes=None,\n",
              "                                                                                min_impurity_decrease=0.0,\n",
              "                                                                                min_impurity_split=None,\n",
              "                                                                                min_samples_leaf=1,\n",
              "                                                                                min_samples_split=2,\n",
              "                                                                                min_weight_fraction_leaf=0.0,\n",
              "                                                                                presort='deprecated',\n",
              "                                                                                random...\n",
              "                                          bootstrap_features=False,\n",
              "                                          max_features=1.0, max_samples=1.0,\n",
              "                                          n_estimators=4, n_jobs=None,\n",
              "                                          oob_score=False, random_state=None,\n",
              "                                          verbose=0, warm_start=False),\n",
              "              iid='deprecated', n_jobs=None,\n",
              "              param_grid={'base_estimator__max_depth': [1, 2, 3, 4, 5],\n",
              "                          'max_samples': [0.05, 0.1, 0.2, 0.5]},\n",
              "              pre_dispatch='2*n_jobs', refit=True, return_train_score=False,\n",
              "              scoring='roc_auc', verbose=0)]"
            ]
          },
          "metadata": {
            "tags": []
          },
          "execution_count": 223
        }
      ]
    },
    {
      "cell_type": "code",
      "metadata": {
        "id": "BjykctD2cNcT",
        "colab": {
          "base_uri": "https://localhost:8080/",
          "height": 1000
        },
        "outputId": "ba3d5615-1280-4af5-cf6c-4dfcaaaceacb"
      },
      "source": [
        "score_model = []\n",
        "for i in range(0,3):\n",
        "  print(\" \")\n",
        "  print(\"THE SCORE FINDED USING CROSS VALIDATION FOR MODEL:\",i+1)\n",
        "  score_m = evaluate_model(c[i],X_train,y_train.ravel())\n",
        "  print(score_m)\n",
        "  score_model.append(score_m)\n",
        "  print(\"----------------------------------------------\")\n",
        "  \n",
        "  X_plot = np.arange(5)\n",
        "  fig_v = plt.figure()\n",
        "  ax_v = fig_v.add_axes([0,0,1,1])\n",
        "  ax_v.bar(X_plot + 0.00,score_m, color = 'b', width = 0.25)\n",
        "  plt.show()\n",
        "  print(\"**************************************************************************************\")\n",
        "  print(\" \")\n",
        "  print(\" \")"
      ],
      "execution_count": 224,
      "outputs": [
        {
          "output_type": "stream",
          "text": [
            " \n",
            "THE SCORE FINDED USING CROSS VALIDATION FOR MODEL: 1\n",
            "[0.68517485 0.65736607 0.71577381 0.73725818 0.7468378 ]\n",
            "----------------------------------------------\n"
          ],
          "name": "stdout"
        },
        {
          "output_type": "display_data",
          "data": {
            "image/png": "[encoded data removed]",
            "text/plain": [
              "<Figure size 720x720 with 1 Axes>"
            ]
          },
          "metadata": {
            "tags": []
          }
        },
        {
          "output_type": "stream",
          "text": [
            "**************************************************************************************\n",
            " \n",
            " \n",
            " \n",
            "THE SCORE FINDED USING CROSS VALIDATION FOR MODEL: 2\n",
            "[0.65708705 0.69652158 0.73688616 0.74032738 0.72330729]\n",
            "----------------------------------------------\n"
          ],
          "name": "stdout"
        },
        {
          "output_type": "display_data",
          "data": {
            "image/png": "[encoded data removed]",
            "text/plain": [
              "<Figure size 720x720 with 1 Axes>"
            ]
          },
          "metadata": {
            "tags": []
          }
        },
        {
          "output_type": "stream",
          "text": [
            "**************************************************************************************\n",
            " \n",
            " \n",
            " \n",
            "THE SCORE FINDED USING CROSS VALIDATION FOR MODEL: 3\n",
            "[0.72600446 0.80738467 0.73967634 0.65178571 0.59551711]\n",
            "----------------------------------------------\n"
          ],
          "name": "stdout"
        },
        {
          "output_type": "display_data",
          "data": {
            "image/png": "[encoded data removed]",
            "text/plain": [
              "<Figure size 720x720 with 1 Axes>"
            ]
          },
          "metadata": {
            "tags": []
          }
        },
        {
          "output_type": "stream",
          "text": [
            "**************************************************************************************\n",
            " \n",
            " \n"
          ],
          "name": "stdout"
        }
      ]
    },
    {
      "cell_type": "code",
      "metadata": {
        "id": "QRZiG79HY3xr",
        "colab": {
          "base_uri": "https://localhost:8080/"
        },
        "outputId": "e54410df-169c-4929-994e-c536d1ee5afb"
      },
      "source": [
        "# Summarize the performance by getting mean and standard deviation of scores\n",
        "for i in range(0,3):\n",
        "  print(\"MODEL:\",i+1)\n",
        "  print(\"---------------------\")\n",
        "  print(\"THE ACCURACY OR MEAN FOR CV SCORE = \",score_model[i].mean()*100)\n",
        "  print(\"THE STANDARD DEVIATION FOR CV SCORE = \",score_model[i].std()*100)"
      ],
      "execution_count": 225,
      "outputs": [
        {
          "output_type": "stream",
          "text": [
            "MODEL: 1\n",
            "---------------------\n",
            "THE ACCURACY OR MEAN FOR CV SCORE =  70.84821428571428\n",
            "THE STANDARD DEVIATION FOR CV SCORE =  3.3191769558490987\n",
            "MODEL: 2\n",
            "---------------------\n",
            "THE ACCURACY OR MEAN FOR CV SCORE =  71.08258928571428\n",
            "THE STANDARD DEVIATION FOR CV SCORE =  3.0976561997355736\n",
            "MODEL: 3\n",
            "---------------------\n",
            "THE ACCURACY OR MEAN FOR CV SCORE =  70.40736607142858\n",
            "THE STANDARD DEVIATION FOR CV SCORE =  7.340330976218798\n"
          ],
          "name": "stdout"
        }
      ]
    },
    {
      "cell_type": "code",
      "metadata": {
        "id": "INeV_C2ZZFdD",
        "colab": {
          "base_uri": "https://localhost:8080/",
          "height": 798
        },
        "outputId": "db3b8965-5039-416d-d33e-f61a084b9d96"
      },
      "source": [
        "# Plot the model performance for comparison using boxplot\n",
        "sns.boxplot(data = score_model,width=0.5,fliersize=5)\n",
        "sns.set(rc={'figure.figsize':(2,15)})\n",
        "for i in range(0,3):\n",
        "  print(\"THE CV SCOREES FOR MODEL :\",i+1)\n",
        "  print(\"********************************\")\n",
        "  print(score_model[i])\n",
        "  print(\" \")"
      ],
      "execution_count": 226,
      "outputs": [
        {
          "output_type": "stream",
          "text": [
            "THE CV SCOREES FOR MODEL : 1\n",
            "********************************\n",
            "[0.68517485 0.65736607 0.71577381 0.73725818 0.7468378 ]\n",
            " \n",
            "THE CV SCOREES FOR MODEL : 2\n",
            "********************************\n",
            "[0.65708705 0.69652158 0.73688616 0.74032738 0.72330729]\n",
            " \n",
            "THE CV SCOREES FOR MODEL : 3\n",
            "********************************\n",
            "[0.72600446 0.80738467 0.73967634 0.65178571 0.59551711]\n",
            " \n"
          ],
          "name": "stdout"
        },
        {
          "output_type": "display_data",
          "data": {
            "image/png": "[encoded data removed]",
            "text/plain": [
              "<Figure size 720x720 with 1 Axes>"
            ]
          },
          "metadata": {
            "tags": []
          }
        }
      ]
    },
    {
      "cell_type": "code",
      "metadata": {
        "id": "WFEgELCUqdDh",
        "colab": {
          "base_uri": "https://localhost:8080/"
        },
        "outputId": "b7764767-61de-4180-e756-e4bf233d618a"
      },
      "source": [
        "#for i in range(0,3):\n",
        "    #bagging_grid_search = GridSearchCV(model[i], parameters_bg, n_jobs=-1, scoring='roc_auc', cv=skf, verbose=True)\n",
        "    #bagging_grid_search = bagging_grid_search.fit(X,y)\n",
        "num_estimators =bagging_grid_search.best_params_['n_estimators']\n",
        "print(num_estimators)"
      ],
      "execution_count": 227,
      "outputs": [
        {
          "output_type": "stream",
          "text": [
            "4\n"
          ],
          "name": "stdout"
        }
      ]
    },
    {
      "cell_type": "code",
      "metadata": {
        "id": "t-p0DA7UZIaH",
        "colab": {
          "base_uri": "https://localhost:8080/",
          "height": 917
        },
        "outputId": "f440e043-4727-4b82-cee2-fd2855fbd650"
      },
      "source": [
        "# Compare the best performance of bagging with random forest\n",
        "results_bag_rf=[]\n",
        "num_est =[2,3,4]\n",
        "index = num_est.index(num_estimators)\n",
        "results_bag_rf= [score_model[index]]\n",
        "results_bag_rf.append(lst_accu_stratified)\n",
        "sns.boxplot( data = results_bag_rf, width = 0.5, fliersize= 5)\n",
        "sns.set(rc={'figure.figsize':(2,15)})\n",
        "print(\"THE BEST CV SCORE ARRAY FOR BAGGING MODEL:\",results_bag_rf[0])\n",
        "print(\"********************************************************************************************************\")\n",
        "print(\"THE CV SCORE ARRAY FOR RANDOM FOREST MODEL:\",results_bag_rf[1])"
      ],
      "execution_count": 228,
      "outputs": [
        {
          "output_type": "stream",
          "text": [
            "THE BEST CV SCORE ARRAY FOR BAGGING MODEL: [0.72600446 0.80738467 0.73967634 0.65178571 0.59551711]\n",
            "********************************************************************************************************\n",
            "THE CV SCORE ARRAY FOR RANDOM FOREST MODEL: [0.78, 0.805, 0.79, 0.77, 0.7839195979899497]\n"
          ],
          "name": "stdout"
        },
        {
          "output_type": "display_data",
          "data": {
            "image/png": "[encoded data removed]",
            "text/plain": [
              "<Figure size 144x1080 with 1 Axes>"
            ]
          },
          "metadata": {
            "tags": []
          }
        }
      ]
    },
    {
      "cell_type": "markdown",
      "metadata": {
        "id": "E_cQVM807kro"
      },
      "source": [
        "References:-\n",
        "\n",
        "\n",
        "*   [Decision Tree](https://https://scikit-learn.org/stable/modules/generated/sklearn.tree.DecisionTreeClassifier.html)\n",
        "*   [Seaborn](https://https://https://seaborn.pydata.org/)\n",
        "*   [Random Forest](https://scikit-learn.org/stable/modules/generated/sklearn.ensemble.RandomForestClassifier.html)\n",
        "*   [Stratified Kfold](https://scikit-learn.org/stable/modules/generated/sklearn.model_selection.StratifiedKFold.html)\n",
        "*   [Grid Search](https://https://scikit-learn.org/stable/modules/generated/sklearn.model_selection.GridSearchCV.html)\n",
        "*   [Bagging](https://scikit-learn.org/stable/modules/generated/sklearn.ensemble.BaggingClassifier.html) \n",
        "*   [Cross Val Score](https://https://scikit-learn.org/stable/modules/generated/sklearn.model_selection.cross_val_score.html)\n",
        "\n",
        "\n",
        "\n",
        "\n",
        "\n",
        "\n",
        "\n",
        "\n",
        "\n"
      ]
    },
    {
      "cell_type": "code",
      "metadata": {
        "id": "c5rn2pNM96zi"
      },
      "source": [
        ""
      ],
      "execution_count": 228,
      "outputs": []
    },
    {
      "cell_type": "code",
      "metadata": {
        "id": "O0YXkHL0Y1ns"
      },
      "source": [
        ""
      ],
      "execution_count": 228,
      "outputs": []
    }
  ]
}